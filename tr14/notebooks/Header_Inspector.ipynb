{
 "cells": [
  {
   "cell_type": "markdown",
   "metadata": {},
   "source": [
    "# Header Inspector\n",
    "\n",
    "There's a number of pieces of information I need to get from the headers. I'll put the questions here and answer them as I go.\n",
    "\n",
    "1. How many pointings are there?\n",
    "    There are 4 pointings\n",
    "1. What is each pointing for?\n",
    "    2 are for Tr14, the other two are for reference?\n",
    "1. How many exposures were taken at each pointing?\n",
    "    27, 27, 57, 71\n",
    "1. How many exposures were taken with each filter, at each pointing?\n",
    "    F127M: 9, 9, 19, 24\n",
    "    F139M: 18, 18, 38, 47\n",
    "1. How many exposures were taken with each filter total?"
   ]
  },
  {
   "cell_type": "code",
   "execution_count": 7,
   "metadata": {},
   "outputs": [],
   "source": [
    "from matplotlib import pyplot as plt\n",
    "import numpy as np\n",
    "import pandas as pd"
   ]
  },
  {
   "cell_type": "code",
   "execution_count": 17,
   "metadata": {},
   "outputs": [],
   "source": [
    "from astropy.coordinates import SkyCoord"
   ]
  },
  {
   "cell_type": "code",
   "execution_count": 1,
   "metadata": {},
   "outputs": [],
   "source": [
    "from utils import header_utils"
   ]
  },
  {
   "cell_type": "code",
   "execution_count": 37,
   "metadata": {},
   "outputs": [],
   "source": [
    "prihdrs = header_utils.load_headers('pri')"
   ]
  },
  {
   "cell_type": "code",
   "execution_count": 61,
   "metadata": {
    "collapsed": true,
    "jupyter": {
     "outputs_hidden": true
    }
   },
   "outputs": [
    {
     "name": "stdout",
     "output_type": "stream",
     "text": [
      "simple\n",
      "bitpix\n",
      "naxis\n",
      "extend\n",
      "origin\n",
      "date\n",
      "nextend\n",
      "filename\n",
      "filetype\n",
      "telescop\n",
      "instrume\n",
      "equinox\n",
      "rootname\n",
      "imagetyp\n",
      "primesi\n",
      "targname\n",
      "ra_targ\n",
      "dec_targ\n",
      "proposid\n",
      "linenum\n",
      "pr_inv_l\n",
      "pr_inv_f\n",
      "pr_inv_m\n",
      "sunangle\n",
      "moonangl\n",
      "sun_alt\n",
      "fgslock\n",
      "gyromode\n",
      "refframe\n",
      "mtflag\n",
      "date-obs\n",
      "time-obs\n",
      "expstart\n",
      "expend\n",
      "exptime\n",
      "expflag\n",
      "qualcom1\n",
      "qualcom2\n",
      "qualcom3\n",
      "quality\n",
      "pa_v3\n",
      "postarg1\n",
      "postarg2\n",
      "opus_ver\n",
      "csys_ver\n",
      "cal_ver\n",
      "proctime\n",
      "obstype\n",
      "obsmode\n",
      "sclamp\n",
      "nrptexp\n",
      "subarray\n",
      "subtype\n",
      "detector\n",
      "filter\n",
      "samp_seq\n",
      "nsamp\n",
      "sampzero\n",
      "aperture\n",
      "propaper\n",
      "dirimage\n",
      "saa_exit\n",
      "saa_time\n",
      "saa_dark\n",
      "saacrmap\n",
      "scan_typ\n",
      "scan_wid\n",
      "ang_side\n",
      "dwell_ln\n",
      "dwell_tm\n",
      "scan_ang\n",
      "scan_rat\n",
      "no_lines\n",
      "scan_len\n",
      "scan_cor\n",
      "csmid\n",
      "dqicorr\n",
      "zsigcorr\n",
      "zoffcorr\n",
      "darkcorr\n",
      "blevcorr\n",
      "nlincorr\n",
      "flatcorr\n",
      "crcorr\n",
      "unitcorr\n",
      "photcorr\n",
      "rptcorr\n",
      "drizcorr\n",
      "bpixtab\n",
      "ccdtab\n",
      "oscntab\n",
      "crrejtab\n",
      "darkfile\n",
      "nlinfile\n",
      "pfltfile\n",
      "dfltfile\n",
      "lfltfile\n",
      "graphtab\n",
      "comptab\n",
      "imphttab\n",
      "dgeofile\n",
      "mdriztab\n",
      "meanexp\n",
      "scalense\n",
      "initgues\n",
      "skysub\n",
      "skysum\n",
      "crsigmas\n",
      "crradius\n",
      "crthresh\n",
      "badinpdq\n",
      "rej_rate\n",
      "crmask\n",
      "photmode\n",
      "photflam\n",
      "photfnu\n",
      "photzpt\n",
      "photplam\n",
      "photbw\n",
      "t_sgstar\n",
      "pattern1\n",
      "p1_shape\n",
      "p1_purps\n",
      "p1_npts\n",
      "p1_pspac\n",
      "p1_lspac\n",
      "p1_angle\n",
      "p1_frame\n",
      "p1_orint\n",
      "p1_centr\n",
      "pattstep\n",
      "ccdamp\n",
      "ccdgain\n",
      "ccdofsab\n",
      "ccdofscd\n",
      "atodgna\n",
      "atodgnb\n",
      "atodgnc\n",
      "atodgnd\n",
      "readnsea\n",
      "readnseb\n",
      "readnsec\n",
      "readnsed\n",
      "biasleva\n",
      "biaslevb\n",
      "biaslevc\n",
      "biaslevd\n",
      "asn_id\n",
      "asn_tab\n",
      "asn_mtyp\n",
      "crds_ctx\n",
      "crds_ver\n",
      "atodtab\n",
      "biacfile\n",
      "biasfile\n",
      "drkcfile\n",
      "flshfile\n",
      "pctetab\n",
      "snkcfile\n",
      "upwcsver\n",
      "pywcsver\n",
      "npolfile\n",
      "idctab\n",
      "d2imfile\n",
      "sipname\n",
      "distname\n"
     ]
    }
   ],
   "source": [
    "for col in pri_headers.columns:\n",
    "    print(col)\n",
    "targs = SkyCoord(prihdrs[\"ra_targ\"],prihdrs[\"dec_targ\"], unit='deg')"
   ]
  },
  {
   "cell_type": "code",
   "execution_count": 64,
   "metadata": {},
   "outputs": [
    {
     "data": {
      "text/plain": [
       "array(['SQ64SUB', 'SQ256SUB', 'FULLIMAG'], dtype=object)"
      ]
     },
     "execution_count": 64,
     "metadata": {},
     "output_type": "execute_result"
    }
   ],
   "source": [
    "prihdrs['subtype'].unique()"
   ]
  },
  {
   "cell_type": "code",
   "execution_count": 59,
   "metadata": {},
   "outputs": [
    {
     "data": {
      "text/plain": [
       "Text(0, 0.5, 'Dec [deg]')"
      ]
     },
     "execution_count": 59,
     "metadata": {},
     "output_type": "execute_result"
    },
    {
     "data": {
      "image/png": "[encoded data removed]",
      "text/plain": [
       "<Figure size 432x288 with 1 Axes>"
      ]
     },
     "metadata": {
      "needs_background": "light"
     },
     "output_type": "display_data"
    }
   ],
   "source": [
    "fig, ax = plt.subplots(1, 1)\n",
    "ax.scatter(targs.ra, targs.dec)\n",
    "ax.set_title(\"Pointings\")\n",
    "ax.set_xlabel(\"RA [deg]\")\n",
    "ax.set_ylabel(\"Dec [deg]\")\n",
    "# some of these are the subarrays"
   ]
  },
  {
   "cell_type": "code",
   "execution_count": 29,
   "metadata": {},
   "outputs": [],
   "source": [
    "import seaborn as sns"
   ]
  },
  {
   "cell_type": "code",
   "execution_count": 68,
   "metadata": {},
   "outputs": [
    {
     "data": {
      "image/png": "[encoded data removed]",
      "text/plain": [
       "<Figure size 449.625x360 with 1 Axes>"
      ]
     },
     "metadata": {
      "needs_background": "light"
     },
     "output_type": "display_data"
    }
   ],
   "source": [
    "g = sns.relplot(data=prihdrs, x='ra_targ', y='dec_targ',\n",
    "            hue='subtype')\n",
    "g.ax.invert_xaxis()"
   ]
  },
  {
   "cell_type": "code",
   "execution_count": 38,
   "metadata": {
    "collapsed": true,
    "jupyter": {
     "outputs_hidden": true
    }
   },
   "outputs": [
    {
     "name": "stdout",
     "output_type": "stream",
     "text": [
      "simple\n",
      "bitpix\n",
      "naxis\n",
      "extend\n",
      "origin\n",
      "date\n",
      "nextend\n",
      "filename\n",
      "filetype\n",
      "telescop\n",
      "instrume\n",
      "equinox\n",
      "rootname\n",
      "imagetyp\n",
      "primesi\n",
      "targname\n",
      "ra_targ\n",
      "dec_targ\n",
      "proposid\n",
      "linenum\n",
      "pr_inv_l\n",
      "pr_inv_f\n",
      "pr_inv_m\n",
      "sunangle\n",
      "moonangl\n",
      "sun_alt\n",
      "fgslock\n",
      "gyromode\n",
      "refframe\n",
      "mtflag\n",
      "date-obs\n",
      "time-obs\n",
      "expstart\n",
      "expend\n",
      "exptime\n",
      "expflag\n",
      "qualcom1\n",
      "qualcom2\n",
      "qualcom3\n",
      "quality\n",
      "pa_v3\n",
      "postarg1\n",
      "postarg2\n",
      "opus_ver\n",
      "csys_ver\n",
      "cal_ver\n",
      "proctime\n",
      "obstype\n",
      "obsmode\n",
      "sclamp\n",
      "nrptexp\n",
      "subarray\n",
      "subtype\n",
      "detector\n",
      "filter\n",
      "samp_seq\n",
      "nsamp\n",
      "sampzero\n",
      "aperture\n",
      "propaper\n",
      "dirimage\n",
      "saa_exit\n",
      "saa_time\n",
      "saa_dark\n",
      "saacrmap\n",
      "scan_typ\n",
      "scan_wid\n",
      "ang_side\n",
      "dwell_ln\n",
      "dwell_tm\n",
      "scan_ang\n",
      "scan_rat\n",
      "no_lines\n",
      "scan_len\n",
      "scan_cor\n",
      "csmid\n",
      "dqicorr\n",
      "zsigcorr\n",
      "zoffcorr\n",
      "darkcorr\n",
      "blevcorr\n",
      "nlincorr\n",
      "flatcorr\n",
      "crcorr\n",
      "unitcorr\n",
      "photcorr\n",
      "rptcorr\n",
      "drizcorr\n",
      "bpixtab\n",
      "ccdtab\n",
      "oscntab\n",
      "crrejtab\n",
      "darkfile\n",
      "nlinfile\n",
      "pfltfile\n",
      "dfltfile\n",
      "lfltfile\n",
      "graphtab\n",
      "comptab\n",
      "imphttab\n",
      "dgeofile\n",
      "mdriztab\n",
      "meanexp\n",
      "scalense\n",
      "initgues\n",
      "skysub\n",
      "skysum\n",
      "crsigmas\n",
      "crradius\n",
      "crthresh\n",
      "badinpdq\n",
      "rej_rate\n",
      "crmask\n",
      "photmode\n",
      "photflam\n",
      "photfnu\n",
      "photzpt\n",
      "photplam\n",
      "photbw\n",
      "t_sgstar\n",
      "pattern1\n",
      "p1_shape\n",
      "p1_purps\n",
      "p1_npts\n",
      "p1_pspac\n",
      "p1_lspac\n",
      "p1_angle\n",
      "p1_frame\n",
      "p1_orint\n",
      "p1_centr\n",
      "pattstep\n",
      "ccdamp\n",
      "ccdgain\n",
      "ccdofsab\n",
      "ccdofscd\n",
      "atodgna\n",
      "atodgnb\n",
      "atodgnc\n",
      "atodgnd\n",
      "readnsea\n",
      "readnseb\n",
      "readnsec\n",
      "readnsed\n",
      "biasleva\n",
      "biaslevb\n",
      "biaslevc\n",
      "biaslevd\n",
      "asn_id\n",
      "asn_tab\n",
      "asn_mtyp\n",
      "crds_ctx\n",
      "crds_ver\n",
      "atodtab\n",
      "biacfile\n",
      "biasfile\n",
      "drkcfile\n",
      "flshfile\n",
      "pctetab\n",
      "snkcfile\n",
      "upwcsver\n",
      "pywcsver\n",
      "npolfile\n",
      "idctab\n",
      "d2imfile\n",
      "sipname\n",
      "distname\n"
     ]
    }
   ],
   "source": [
    "for col in prihdrs.columns:\n",
    "    print(col)"
   ]
  },
  {
   "cell_type": "code",
   "execution_count": 50,
   "metadata": {},
   "outputs": [],
   "source": [
    "prihdrs['filter'];"
   ]
  },
  {
   "cell_type": "code",
   "execution_count": 85,
   "metadata": {},
   "outputs": [
    {
     "data": {
      "text/plain": [
       "proposid  filter  ra_targ     subtype \n",
       "13446     F127M   160.941791  FULLIMAG     9\n",
       "                  160.976721  FULLIMAG     9\n",
       "                  160.978742  SQ256SUB    24\n",
       "                  160.989726  SQ64SUB     19\n",
       "          F139M   160.941791  FULLIMAG     9\n",
       "                  160.976721  FULLIMAG     9\n",
       "                  160.978742  SQ256SUB    24\n",
       "                  160.989726  SQ64SUB     19\n",
       "13848     F139M   160.941791  FULLIMAG     9\n",
       "                  160.976721  FULLIMAG     9\n",
       "                  160.978742  SQ256SUB    23\n",
       "                  160.989726  SQ64SUB     19\n",
       "Name: filename, dtype: int64"
      ]
     },
     "execution_count": 85,
     "metadata": {},
     "output_type": "execute_result"
    }
   ],
   "source": [
    "prihdrs.groupby(['proposid', 'filter', 'ra_targ', 'subtype'])['filename'].count()"
   ]
  },
  {
   "cell_type": "code",
   "execution_count": 88,
   "metadata": {},
   "outputs": [
    {
     "data": {
      "text/plain": [
       "proposid  filter  ra_targ     subtype \n",
       "13446     F127M   160.941791  FULLIMAG    443.072025\n",
       "                  160.976721  FULLIMAG    443.072025\n",
       "                  160.978742  SQ256SUB     66.675600\n",
       "                  160.989726  SQ64SUB      16.165884\n",
       "          F139M   160.941791  FULLIMAG    443.072025\n",
       "                  160.976721  FULLIMAG    443.072025\n",
       "                  160.978742  SQ256SUB     66.675600\n",
       "                  160.989726  SQ64SUB      16.165884\n",
       "13848     F139M   160.941791  FULLIMAG    443.072025\n",
       "                  160.976721  FULLIMAG    443.072025\n",
       "                  160.978742  SQ256SUB     63.897450\n",
       "                  160.989726  SQ64SUB      16.165884\n",
       "Name: exptime, dtype: float64"
      ]
     },
     "execution_count": 88,
     "metadata": {},
     "output_type": "execute_result"
    }
   ],
   "source": [
    "prihdrs.groupby(['proposid', 'filter', 'ra_targ', 'subtype'])['exptime'].sum()"
   ]
  },
  {
   "cell_type": "code",
   "execution_count": 92,
   "metadata": {},
   "outputs": [
    {
     "data": {
      "text/plain": [
       "4.15"
      ]
     },
     "execution_count": 92,
     "metadata": {},
     "output_type": "execute_result"
    }
   ],
   "source": [
    "(67*3+16*3)/60"
   ]
  },
  {
   "cell_type": "code",
   "execution_count": 53,
   "metadata": {},
   "outputs": [
    {
     "data": {
      "text/plain": [
       "array([13446, 13848])"
      ]
     },
     "execution_count": 53,
     "metadata": {},
     "output_type": "execute_result"
    }
   ],
   "source": [
    "prihdrs['proposid'].unique()"
   ]
  },
  {
   "cell_type": "code",
   "execution_count": 75,
   "metadata": {},
   "outputs": [
    {
     "data": {
      "text/plain": [
       "48.4029742"
      ]
     },
     "execution_count": 75,
     "metadata": {},
     "output_type": "execute_result"
    }
   ],
   "source": [
    "prihdrs['exptime'].sum()/60"
   ]
  },
  {
   "cell_type": "code",
   "execution_count": 77,
   "metadata": {},
   "outputs": [
    {
     "data": {
      "text/plain": [
       "182"
      ]
     },
     "execution_count": 77,
     "metadata": {},
     "output_type": "execute_result"
    }
   ],
   "source": [
    "len(prihdrs)"
   ]
  },
  {
   "cell_type": "code",
   "execution_count": 78,
   "metadata": {},
   "outputs": [
    {
     "data": {
      "text/plain": [
       "158"
      ]
     },
     "execution_count": 78,
     "metadata": {},
     "output_type": "execute_result"
    }
   ],
   "source": [
    "2 * 2 * 18 + 43*2"
   ]
  },
  {
   "cell_type": "code",
   "execution_count": 93,
   "metadata": {},
   "outputs": [
    {
     "data": {
      "text/plain": [
       "array(['2013-10-22', '2015-10-14', '2013-10-23'], dtype=object)"
      ]
     },
     "execution_count": 93,
     "metadata": {},
     "output_type": "execute_result"
    }
   ],
   "source": [
    "prihdrs[\"date-obs\"].unique()"
   ]
  }
 ],
 "metadata": {
  "kernelspec": {
   "display_name": "Python 3",
   "language": "python",
   "name": "python3"
  },
  "language_info": {
   "codemirror_mode": {
    "name": "ipython",
    "version": 3
   },
   "file_extension": ".py",
   "mimetype": "text/x-python",
   "name": "python",
   "nbconvert_exporter": "python",
   "pygments_lexer": "ipython3",
   "version": "3.7.7"
  }
 },
 "nbformat": 4,
 "nbformat_minor": 4
}
