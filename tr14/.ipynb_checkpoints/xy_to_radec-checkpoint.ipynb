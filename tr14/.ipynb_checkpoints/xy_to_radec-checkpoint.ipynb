{
 "cells": [
  {
   "cell_type": "markdown",
   "metadata": {},
   "source": [
    "# Aligning HST images to an absolute reference catalog\n",
    "***"
   ]
  },
  {
   "cell_type": "markdown",
   "metadata": {},
   "source": [
    "<div class=\"alert-danger\">Note: The notebook in this repository 'Initializtion.ipynb' goes over many of the basic concepts such as the setup of the environment/package installation and should be read first if you are new to HST images, 'DrizzlePac' or 'Astroquery'.</div>"
   ]
  },
  {
   "cell_type": "markdown",
   "metadata": {},
   "source": [
    "<div class=\"alert-warning\">Note: This notebook is based on WFC3 ISR 2017-19: <a href=\"http://www.stsci.edu/hst/wfc3/documents/ISRs/WFC3-2017-19.pdf\">Aligning HST Images to Gaia: a Faster Mosaicking Workflow</a> and contains a subset of the information/code found in <a href=\"https://github.com/spacetelescope/gaia_alignment\">the repository here</a>.  For more information, see the notebook in that repository titled 'Gaia_alignment.ipynb'.</div>"
   ]
  },
  {
   "cell_type": "markdown",
   "metadata": {},
   "source": [
    "## Introduction"
   ]
  },
  {
   "cell_type": "markdown",
   "metadata": {},
   "source": [
    "The alignment of HST exposures is a critical step in image stacking/combination performed by software such as `AstroDrizzle`.  Generally, a relative alignment is performed that aligns one image (or multiple images) to another image which is designated as the reference image.  This makes it so the images are aligned to each other, but the pointing error of the observatory can still cause the images to have incorrect absolute astrometry.\n",
    "\n",
    "When absolute astrometry is desired, the images can be aligned to an external catalog that is known to be on an absolute frame.  In this example, we will provide a workflow to query catalogs such as SDSS and Gaia via the astroquery package, and then align the images to that catalog via TweakReg.\n",
    "\n",
    "For more information about TweakReg, see the other notebooks in this repository or the __[TweakReg Documentation](https://drizzlepac.readthedocs.io/en/deployment/tweakreg.html)__.\n",
    "\n",
    "For more information on Astroquery, see the other notebooks in this repository or the __[Astroquery Documentation](https://astroquery.readthedocs.io/en/latest/)__."
   ]
  },
  {
   "cell_type": "code",
   "execution_count": 1,
   "metadata": {},
   "outputs": [
    {
     "name": "stdout",
     "output_type": "stream",
     "text": [
      "Created TAP+ (v1.2.1) - Connection:\n",
      "\tHost: gea.esac.esa.int\n",
      "\tUse HTTPS: True\n",
      "\tPort: 443\n",
      "\tSSL Port: 443\n",
      "Created TAP+ (v1.2.1) - Connection:\n",
      "\tHost: geadata.esac.esa.int\n",
      "\tUse HTTPS: True\n",
      "\tPort: 443\n",
      "\tSSL Port: 443\n",
      "The following task in the stsci.skypac package can be run with TEAL:\n",
      "                                    skymatch                                    \n",
      "The following tasks in the drizzlepac package can be run with TEAL:\n",
      "    astrodrizzle       config_testbed      imagefindpars           mapreg       \n",
      "       photeq            pixreplace           pixtopix            pixtosky      \n",
      "  refimagefindpars       resetbits          runastrodriz          skytopix      \n",
      "     tweakback            tweakreg           updatenpol\n"
     ]
    }
   ],
   "source": [
    "import astropy.units as u\n",
    "import glob\n",
    "import numpy as np\n",
    "import matplotlib.pyplot as plt\n",
    "import os\n",
    "\n",
    "from astropy.io import fits\n",
    "from astropy.table import Table\n",
    "from astropy.units import Quantity\n",
    "from astropy.coordinates import SkyCoord\n",
    "from astroquery.gaia import Gaia\n",
    "from astroquery.mast import Observations\n",
    "from astroquery.sdss import SDSS\n",
    "\n",
    "#from ccdproc import ImageFileCollection\n",
    "from IPython.display import Image\n",
    "\n",
    "from drizzlepac import tweakreg\n",
    "from drizzlepac import astrodrizzle"
   ]
  },
  {
   "cell_type": "markdown",
   "metadata": {},
   "source": [
    "# 1. Set up the data"
   ]
  },
  {
   "cell_type": "code",
   "execution_count": 2,
   "metadata": {},
   "outputs": [],
   "source": [
    "from utils import header_utils as hutils"
   ]
  },
  {
   "cell_type": "code",
   "execution_count": 3,
   "metadata": {},
   "outputs": [
    {
     "data": {
      "text/plain": [
       "PosixPath('/user/jaguilar/tr14/code/utils/../../data/tables')"
      ]
     },
     "execution_count": 3,
     "metadata": {},
     "output_type": "execute_result"
    }
   ],
   "source": [
    "from pathlib import Path\n",
    "Path(hutils.__file__).parent / \"../../data/tables/\""
   ]
  },
  {
   "cell_type": "code",
   "execution_count": 4,
   "metadata": {},
   "outputs": [
    {
     "data": {
      "text/plain": [
       "<module 'utils.header_utils' from '/user/jaguilar/tr14/code/utils/header_utils.py'>"
      ]
     },
     "execution_count": 4,
     "metadata": {},
     "output_type": "execute_result"
    }
   ],
   "source": [
    "from importlib import reload\n",
    "reload(hutils)"
   ]
  },
  {
   "cell_type": "code",
   "execution_count": null,
   "metadata": {},
   "outputs": [],
   "source": [
    "reload(hutils)\n",
    "prihdrs = hutils.load_headers('pri')\n",
    "scihdrs = hutils.load_headers('sci')"
   ]
  },
  {
   "cell_type": "code",
   "execution_count": null,
   "metadata": {},
   "outputs": [],
   "source": [
    "hutils.__file__"
   ]
  },
  {
   "cell_type": "code",
   "execution_count": null,
   "metadata": {},
   "outputs": [],
   "source": [
    "import pandas as pd"
   ]
  },
  {
   "cell_type": "code",
   "execution_count": null,
   "metadata": {},
   "outputs": [],
   "source": [
    "# TH.print_columns(prihdrs)\n",
    "gb_filter = prihdrs.groupby('filter')\n",
    "gb_filter"
   ]
  },
  {
   "cell_type": "code",
   "execution_count": null,
   "metadata": {},
   "outputs": [],
   "source": [
    "hutils.print_columns(prihdrs)"
   ]
  },
  {
   "cell_type": "code",
   "execution_count": null,
   "metadata": {},
   "outputs": [],
   "source": [
    "# re-download the data from MAST, following the example\n",
    "proposids = prihdrs['proposid'].unique()\n",
    "filters = prihdrs['filter'].unique()\n",
    "prihdrs.query(f\"proposid == {proposids[0]}\")"
   ]
  },
  {
   "cell_type": "markdown",
   "metadata": {},
   "source": [
    "### Inspect the image header\n",
    "\n",
    "The cell below shows how to query information from the image header using `ImageFileCollection` in `ccdproc`. \n",
    "We see that the 1st exposure is 30 seconds and the 2nd and 3rd exposures are 360 seconds. The 3rd exposure is dithered by ~82\" in the Y-direction which is approximately the width of one UVIS chip. "
   ]
  },
  {
   "cell_type": "markdown",
   "metadata": {},
   "source": [
    "# 2. Querying catalogs\n",
    "\n",
    "Now that we have the images, we will download the reference catalogs from both SDSS and Gaia using `astroquery`."
   ]
  },
  {
   "cell_type": "markdown",
   "metadata": {},
   "source": [
    "### 2a. Identify Coordinates\n",
    "We will first create a SkyCoord Object to point astroquery to where we are looking on the sky.  Since our example uses data from NGC 6791, we will use the `ra_targ` and `dec_targ` keywords from the first image to get the coordinates of the object."
   ]
  },
  {
   "cell_type": "code",
   "execution_count": null,
   "metadata": {},
   "outputs": [],
   "source": [
    "RA, Dec = prihdrs[['ra_targ','dec_targ']].mean()"
   ]
  },
  {
   "cell_type": "markdown",
   "metadata": {},
   "source": [
    "### 2b. SDSS Query\n",
    "We now give those values to an astropy `SkyCoord` object, which we will pass to the SDSS.  Additionally, we use an astropy `Quantity` object to create a radius for the SDSS query.  We set the radius to 6 arcminutes to comfortably cover the area of our images. For reference UVIS detector field of view is ~2.7'x2.7' and a y-dither of 82\" covers a total area on the sky of ~2.7'x4.1'."
   ]
  },
  {
   "cell_type": "code",
   "execution_count": null,
   "metadata": {},
   "outputs": [],
   "source": [
    "coord = SkyCoord(ra=RA, dec=Dec, unit=(u.deg, u.deg))\n",
    "radius = Quantity(6., u.arcmin)"
   ]
  },
  {
   "cell_type": "markdown",
   "metadata": {},
   "source": [
    "Then we only need to perform the query via the `SDSS.query_region` method of `astroquery.sdss`. The `spectro=False` keyword argument means we want to exclude spectroscopic objects, as we are looking for objects to match with an image.  \n",
    "\n",
    "In the fields parameter, we specify a list of fields we want returned by the query.  In this case we only need the position, and maybe a magnitude 'g' if we want to cut very dim and/or bright objects out of the catalog, as those are likely measured poorly. Details on selecting objects by magnitude may be found in the original ['Gaia_alignment' notebook](https://github.com/spacetelescope/gaia_alignment).  Many other fields are available in the SDSS query and are [documented here](http://cas.sdss.org/dr7/en/help/browser/description.asp?n=PhotoObj&t=V)."
   ]
  },
  {
   "cell_type": "markdown",
   "metadata": {},
   "source": [
    "### 2c. Gaia Query\n",
    "Similarly to SDSS, we can query Gaia catalogs for our target via `astroquery.gaia`.  We can use the same `coord` and  `radius` from the SDSS query."
   ]
  },
  {
   "cell_type": "code",
   "execution_count": null,
   "metadata": {},
   "outputs": [],
   "source": [
    "# JA: I already have the file I need\n",
    "# gaia_query = Gaia.query_object_async(coordinate=coord, radius=radius)\n",
    "# gaia_query"
   ]
  },
  {
   "cell_type": "markdown",
   "metadata": {},
   "source": [
    "This query has returned very large number of columns. We want to pare down the catalog to make it easier to use with `TweakReg`.  \n",
    "We can select only the useful columns via:"
   ]
  },
  {
   "cell_type": "code",
   "execution_count": null,
   "metadata": {},
   "outputs": [],
   "source": [
    "# reduced_query = gaia_query['ra', 'dec', 'phot_g_mean_mag']\n",
    "# reduced_query"
   ]
  },
  {
   "cell_type": "markdown",
   "metadata": {},
   "source": [
    "Then we write this catalog to an ascii file for use with `TweakReg`."
   ]
  },
  {
   "cell_type": "code",
   "execution_count": null,
   "metadata": {},
   "outputs": [],
   "source": [
    "# reduced_query.write('../data/align_catalog/gaia.cat', format='ascii.commented_header')"
   ]
  },
  {
   "cell_type": "markdown",
   "metadata": {},
   "source": [
    "## 3. Running TweakReg\n",
    "With the catalogs downloaded and the headers populated, we simply need to run TweakReg with each catalog passed into the `refcat` parameter. The steps below compare the astrometric residuals obtained from aligning to each `refcat`. In each test case, we set `updatehdr` to False until we are satisfied with the alignment by inspecting both the shift file and the astrometric residual plots."
   ]
  },
  {
   "cell_type": "markdown",
   "metadata": {},
   "source": [
    "As we can see, the RMS is fairly large at about 0.5 pixels, which is not a great fit. This is likely because the SDSS astrometric precision is not high enough to get good HST alignment. One approach would be to align the first image to SDSS and then align the remaining HST images to one another. This would improve both the absolute and relative alignment of the individual frames.\n",
    "\n",
    "### 3b. Gaia Alignment"
   ]
  },
  {
   "cell_type": "code",
   "execution_count": null,
   "metadata": {},
   "outputs": [],
   "source": [
    "from pathlib import Path\n",
    "# [(Path(\"../data/tr14/\") / i).as_posix() \n",
    "#  for i in gb_filter.get_group(filters[0])['FILENAME']]"
   ]
  },
  {
   "cell_type": "code",
   "execution_count": null,
   "metadata": {},
   "outputs": [],
   "source": [
    "from utils import table_utils as tutils\n"
   ]
  },
  {
   "cell_type": "code",
   "execution_count": null,
   "metadata": {},
   "outputs": [],
   "source": [
    "list_of_images = [(Path(\"../data/my_data/\") / i).as_posix() \n",
    "                  for i in tutils.get_value(prihdrs, 'subarray', False, 'filename')]\n",
    "len(list_of_images)"
   ]
  },
  {
   "cell_type": "code",
   "execution_count": null,
   "metadata": {},
   "outputs": [],
   "source": [
    "import matplotlib as mpl"
   ]
  },
  {
   "cell_type": "code",
   "execution_count": null,
   "metadata": {},
   "outputs": [],
   "source": [
    "# hdulist = fits.open(list_of_images[0])\n",
    "# data = hdulist[1].data\n",
    "# fig, ax = plt.subplots(1,1)\n",
    "# ax.imshow(data, norm=mpl.colors.LogNorm())\n",
    "# hdulist.close()"
   ]
  },
  {
   "cell_type": "code",
   "execution_count": null,
   "metadata": {},
   "outputs": [],
   "source": [
    "refcat = '../data/align_catalog/gaia.cat'\n",
    "cw = 3.5  # Set to two times the FWHM of the PSF.\n",
    "wcsname = 'Gaia'  # Specify the WCS name for this alignment\n",
    "ff = list_of_images[0]\n",
    "thresh = 500.\n",
    "tweakreg.TweakReg(ff,#'*flc.fits',  # Pass input images\n",
    "                  updatehdr=False,  # update header with new WCS solution\n",
    "                  imagefindcfg={'threshold':thresh,'conv_width':cw},  # Detection parameters, threshold varies for different data\n",
    "                  refcat=refcat,  # Use user supplied catalog (Gaia)\n",
    "                  interactive=False,\n",
    "                  see2dplot=False,\n",
    "                  shiftfile=True,  # Save out shift file (so we can look at shifts later)\n",
    "                  outshifts='Gaia_shifts.txt',  # name of the shift file\n",
    "                  wcsname=wcsname,  # Give our WCS a new name\n",
    "                  reusename=True,\n",
    "                  sigma=2.3,\n",
    "                  ylimit=0.2,\n",
    "                  fitgeometry='general')  # Use the 6 parameter fit\n",
    "#%pdb 0\n",
    "#%debug -b /Users/jaguilar/miniconda3/envs/orbitize/lib/python3.6/site-packages/drizzlepac/imgclasses.py:1604\n",
    "# reload(tweakreg)\n",
    "# tweakreg.TweakReg(list_of_images,\n",
    "#                   refcat=refcat)"
   ]
  },
  {
   "cell_type": "markdown",
   "metadata": {},
   "source": [
    "We can similarly look at the shift file from alignment to the Gaia catalog:"
   ]
  },
  {
   "cell_type": "code",
   "execution_count": null,
   "metadata": {},
   "outputs": [],
   "source": [
    "for line in open('Gaia_shifts.txt').readlines():\n",
    "    print(line)"
   ]
  },
  {
   "cell_type": "code",
   "execution_count": null,
   "metadata": {},
   "outputs": [],
   "source": [
    "# Astrometric residual plots\n",
    "# Image(filename='residuals_ibwb01xqq_flc.png',width=500, height=300)"
   ]
  },
  {
   "cell_type": "code",
   "execution_count": null,
   "metadata": {},
   "outputs": [],
   "source": [
    "# Image(filename='residuals_ibwb01xrq_flc.png',width=500, height=300)"
   ]
  },
  {
   "cell_type": "code",
   "execution_count": null,
   "metadata": {},
   "outputs": [],
   "source": [
    "# Image(filename='residuals_ibwb01xxq_flc.png',width=500, height=300)"
   ]
  },
  {
   "cell_type": "markdown",
   "metadata": {},
   "source": [
    "As expected, the Gaia catalog does quite a bit better, with rms residuals less tha 0.05 pixels.  \n",
    "\n",
    "To apply these transformations to the image, we simply need to run TweakReg the same as before, but set the parameter `updatehdr` equal to `True`:"
   ]
  },
  {
   "cell_type": "code",
   "execution_count": null,
   "metadata": {},
   "outputs": [],
   "source": [
    "tweakreg.TweakReg(ff,  # Pass input images\n",
    "                  updatehdr=True,  # update header with new WCS solution\n",
    "                  imagefindcfg={'threshold': thresh, 'conv_width': cw},  # Detection parameters, threshold varies for different data\n",
    "                  refcat=refcat,  # Use user supplied catalog (Gaia)\n",
    "                  interactive=False,\n",
    "                  see2dplot=False,\n",
    "                  shiftfile=True,  # Save out shift file (so we can look at shifts later)\n",
    "                  outshifts='Gaia_shifts.txt',  # name of the shift file\n",
    "                  wcsname=wcsname,  # Give our WCS a new name\n",
    "                  reusename=True,\n",
    "                  sigma=2.3,\n",
    "                  fitgeometry='general',  # Use the 6 parameter fit\n",
    "                  clean=False,\n",
    "                 )"
   ]
  },
  {
   "cell_type": "code",
   "execution_count": null,
   "metadata": {},
   "outputs": [],
   "source": []
  },
  {
   "cell_type": "code",
   "execution_count": null,
   "metadata": {},
   "outputs": [],
   "source": [
    "# Look at the catalog"
   ]
  },
  {
   "cell_type": "code",
   "execution_count": null,
   "metadata": {},
   "outputs": [],
   "source": [
    "cat_file = Path(f\"./{Path(ff[0]).name.split('.')[0]}_catalog_fit.match\")"
   ]
  },
  {
   "cell_type": "code",
   "execution_count": null,
   "metadata": {},
   "outputs": [],
   "source": [
    "cat_file.exists()"
   ]
  },
  {
   "cell_type": "code",
   "execution_count": null,
   "metadata": {},
   "outputs": [],
   "source": [
    "from utils import cat_utils\n",
    "reload(cat_utils)"
   ]
  },
  {
   "cell_type": "code",
   "execution_count": null,
   "metadata": {},
   "outputs": [],
   "source": [
    "cat_utils.cat_fit_columns"
   ]
  },
  {
   "cell_type": "code",
   "execution_count": null,
   "metadata": {},
   "outputs": [],
   "source": [
    "import pandas as pd"
   ]
  },
  {
   "cell_type": "code",
   "execution_count": null,
   "metadata": {},
   "outputs": [],
   "source": [
    "reload(cat_utils)"
   ]
  },
  {
   "cell_type": "code",
   "execution_count": null,
   "metadata": {},
   "outputs": [],
   "source": [
    "master_catalog = pd.concat([cat_utils.catalog2pandas(f) \n",
    "                           for f in glob.glob(\"*catalog_fit.match\")])\n",
    "# make a unique index for each point source\n",
    "master_catalog = master_catalog.reset_index(drop=True).reset_index()\n",
    "master_catalog.rename(columns={'index':'sourceid'}, inplace=True)"
   ]
  },
  {
   "cell_type": "code",
   "execution_count": null,
   "metadata": {},
   "outputs": [],
   "source": []
  },
  {
   "cell_type": "code",
   "execution_count": null,
   "metadata": {},
   "outputs": [],
   "source": [
    "master_catalog.to_csv(\"../data/tables/master_fullframe_source_catalog.csv\")"
   ]
  },
  {
   "cell_type": "code",
   "execution_count": null,
   "metadata": {},
   "outputs": [],
   "source": [
    "files = master_catalog['file_id'].unique()"
   ]
  },
  {
   "cell_type": "code",
   "execution_count": null,
   "metadata": {},
   "outputs": [],
   "source": [
    "files"
   ]
  },
  {
   "cell_type": "code",
   "execution_count": null,
   "metadata": {},
   "outputs": [],
   "source": [
    "ff"
   ]
  },
  {
   "cell_type": "code",
   "execution_count": null,
   "metadata": {},
   "outputs": [],
   "source": [
    "# example file\n",
    "ff = files[0]\n",
    "sub_catalog = master_catalog.query(f\"file_id == '{ff}'\")"
   ]
  },
  {
   "cell_type": "code",
   "execution_count": null,
   "metadata": {},
   "outputs": [],
   "source": [
    "hdulist = fits.open(glob.glob(f\"../data/my_data/{ff}*fits\")[0])\n",
    "data = hdulist[1].data\n",
    "hdulist.close()"
   ]
  },
  {
   "cell_type": "code",
   "execution_count": null,
   "metadata": {},
   "outputs": [],
   "source": [
    "fig, ax = plt.subplots(1, 1, figsize=(15,15))\n",
    "ax.imshow(data, origin='lower', norm=mpl.colors.LogNorm(), cmap=mpl.cm.magma)\n",
    "ax.set_title(rf\"Threshold = {thresh} $\\sigma$ above local bgnd\", size='xx-large')\n",
    "ax.set_xlabel(\"X [pix]\", size='xx-large')\n",
    "ax.set_ylabel(\"Y [pix]\", size='xx-large')\n",
    "ax.tick_params(labelsize='x-large')\n",
    "ax.scatter(sub_catalog['x_orig_input'], \n",
    "           sub_catalog['y_orig_input'], \n",
    "           marker='o', ec='w', fc='none', s=100)\n",
    "ax.set_xlim(0, data.shape[1])\n",
    "ax.set_ylim(0, data.shape[0])\n",
    "# for i, row in sub_catalog.iterrows():\n",
    "#     s = '{0:0.2f}, {1:0.2f}'.format(*row[['ra','dec']])\n",
    "#     ax.annotate(s, row[['x_orig_input','y_orig_input']],\n",
    "#                 fontsize='large',\n",
    "#                 verticalalignment='top', horizontalalignment='center')\n",
    "fname = f\"./figs/tweakreg_demo_{thresh}.png\"\n",
    "print(fname)\n",
    "if False:\n",
    "    fig.savefig(fname, bbox_inches='tight')"
   ]
  },
  {
   "cell_type": "code",
   "execution_count": null,
   "metadata": {},
   "outputs": [],
   "source": [
    "sub_catalog['input_id'].unique().size"
   ]
  },
  {
   "cell_type": "code",
   "execution_count": null,
   "metadata": {},
   "outputs": [],
   "source": [
    "# Map data to RA and Dec"
   ]
  },
  {
   "cell_type": "code",
   "execution_count": null,
   "metadata": {},
   "outputs": [],
   "source": [
    "from drizzlepac import pixtosky"
   ]
  },
  {
   "cell_type": "code",
   "execution_count": null,
   "metadata": {},
   "outputs": [],
   "source": [
    "from utils import shared_utils as sutils\n",
    "filename = tutils.get_file_from_file_id(ff)\n",
    "filename.exists()"
   ]
  },
  {
   "cell_type": "code",
   "execution_count": null,
   "metadata": {},
   "outputs": [],
   "source": [
    "hdulist = fits.open(filename)"
   ]
  },
  {
   "cell_type": "code",
   "execution_count": null,
   "metadata": {},
   "outputs": [],
   "source": [
    "data = hdulist[1].data\n",
    "hdulist.close()"
   ]
  },
  {
   "cell_type": "code",
   "execution_count": null,
   "metadata": {},
   "outputs": [],
   "source": [
    "# from stwcs import distortion, wcsutil\n",
    "# ind = np.indices(data.shape)\n",
    "# inwcs = wcsutil.HSTWCS(filename.as_posix()+\"[sci,1]\")\n",
    "# radec = inwcs.all_pix2world(np.array([ind[0].ravel(), ind[1].ravel()]).T,\n",
    "#                             0)\n",
    "# radec = np.reshape(radec.T, ind.shape)"
   ]
  },
  {
   "cell_type": "code",
   "execution_count": null,
   "metadata": {},
   "outputs": [],
   "source": [
    "reload(cat_utils)\n",
    "radec = cat_utils.pix2sky(filename)\n",
    "radec.shape"
   ]
  },
  {
   "cell_type": "code",
   "execution_count": null,
   "metadata": {},
   "outputs": [],
   "source": [
    "radec[0,0,0], radec[1,0,0]"
   ]
  },
  {
   "cell_type": "code",
   "execution_count": null,
   "metadata": {},
   "outputs": [],
   "source": [
    "reload(cat_utils)\n",
    "cat_utils.pix2sky(filename, x=0, y=0)"
   ]
  },
  {
   "cell_type": "code",
   "execution_count": null,
   "metadata": {},
   "outputs": [],
   "source": [
    "reload(cat_utils)\n",
    "cat_utils.pix2sky(filename, x=np.array([0, 1, 2]), y=np.array([0, 1, 2])).shape"
   ]
  },
  {
   "cell_type": "code",
   "execution_count": null,
   "metadata": {},
   "outputs": [],
   "source": [
    "fig, axes = plt.subplots(1, 2)\n",
    "ax = axes[0]\n",
    "ax.set_title(\"RA\")\n",
    "imax = ax.imshow(radec[0], cmap = mpl.cm.Reds, origin='lower')\n",
    "plt.colorbar(imax, ax=ax, orientation='horizontal')\n",
    "\n",
    "ax = axes[1]\n",
    "ax.set_title(\"Dec\")\n",
    "imax = ax.imshow(radec[1], cmap = mpl.cm.Reds, origin='lower')\n",
    "plt.colorbar(imax, ax=ax, orientation='horizontal')\n"
   ]
  },
  {
   "cell_type": "code",
   "execution_count": null,
   "metadata": {},
   "outputs": [],
   "source": [
    "# OK, the next step is to ID some sources and find their RA and Dec"
   ]
  },
  {
   "cell_type": "code",
   "execution_count": null,
   "metadata": {},
   "outputs": [],
   "source": [
    "fig, ax = plt.subplots(1, 1, figsize=(10, 10))\n",
    "ax.set_title(\"Full frame image, RA and Dec\")\n",
    "ax.set_xlabel(\"RA\")\n",
    "ax.set_ylabel(\"Dec\")\n",
    "ax.pcolormesh(radec[0], radec[1], data, norm=mpl.colors.LogNorm(), cmap=mpl.cm.magma)"
   ]
  },
  {
   "cell_type": "markdown",
   "metadata": {},
   "source": [
    "# Now find some point sources and overplot them"
   ]
  },
  {
   "cell_type": "code",
   "execution_count": null,
   "metadata": {},
   "outputs": [],
   "source": [
    "sources = pd.read_csv(\"../data/tables/dao_sources_icct02jfq.csv\")"
   ]
  },
  {
   "cell_type": "code",
   "execution_count": null,
   "metadata": {},
   "outputs": [],
   "source": [
    "sources_radec = cat_utils.pix2sky(tutils.get_file_from_file_id(ff),\n",
    "                                 x=sources['xcentroid'], y=sources['ycentroid'])"
   ]
  },
  {
   "cell_type": "code",
   "execution_count": null,
   "metadata": {},
   "outputs": [],
   "source": [
    "from astropy.visualization import SqrtStretch,  LogStretch\n",
    "from astropy.visualization.mpl_normalize import ImageNormalize\n",
    "from photutils import CircularAperture"
   ]
  },
  {
   "cell_type": "code",
   "execution_count": null,
   "metadata": {},
   "outputs": [],
   "source": []
  },
  {
   "cell_type": "code",
   "execution_count": null,
   "metadata": {},
   "outputs": [],
   "source": [
    "fig, ax = plt.subplots(1, 1, figsize=(15, 15))\n",
    "ax.set_title(\"Full frame image, RA and Dec\", size='xx-large')\n",
    "ax.set_xlabel(\"RA [deg]\", size='xx-large')\n",
    "ax.set_ylabel(\"Dec [deg]\", size='xx-large')\n",
    "ax.tick_params(labelsize='x-large')\n",
    "ax.ticklabel_format(useOffset=False)\n",
    "ax.pcolormesh(radec[0], radec[1], data, norm=mpl.colors.LogNorm(), cmap=mpl.cm.magma)\n",
    "ax.scatter(*sources_radec, fc='none', ec='k', s=50, lw=1.5)\n",
    "\n"
   ]
  },
  {
   "cell_type": "code",
   "execution_count": null,
   "metadata": {},
   "outputs": [],
   "source": [
    "fig, ax = plt.subplots(1, 1, figsize=(15,15))\n",
    "ax.imshow(data, origin='lower', norm=mpl.colors.LogNorm(), cmap=mpl.cm.magma)\n",
    "ax.set_title(rf\"Threshold = {thresh} $\\sigma$ above local bgnd\", size='xx-large')\n",
    "ax.set_xlabel(\"X [pix]\", size='xx-large')\n",
    "ax.set_ylabel(\"Y [pix]\", size='xx-large')\n",
    "ax.tick_params(labelsize='x-large')\n",
    "ax.scatter(*sources[['xcentroid','ycentroid']].values.T,\n",
    "           marker='o', ec='k', fc='none', s=50)\n",
    "ax.set_xlim(0, data.shape[1])\n",
    "ax.set_ylim(0, data.shape[0])\n",
    "# for i, row in sub_catalog.iterrows():\n",
    "#     s = '{0:0.2f}, {1:0.2f}'.format(*row[['ra','dec']])\n",
    "#     ax.annotate(s, row[['x_orig_input','y_orig_input']],\n",
    "#                 fontsize='large',\n",
    "#                 verticalalignment='top', horizontalalignment='center')\n",
    "fname = f\"./figs/tweakreg_demo_{thresh}.png\"\n",
    "print(fname)\n",
    "if False:\n",
    "    fig.savefig(fname, bbox_inches='tight')"
   ]
  },
  {
   "cell_type": "code",
   "execution_count": null,
   "metadata": {},
   "outputs": [],
   "source": []
  }
 ],
 "metadata": {
  "kernelspec": {
   "display_name": "Python 3",
   "language": "python",
   "name": "python3"
  },
  "language_info": {
   "codemirror_mode": {
    "name": "ipython",
    "version": 3
   },
   "file_extension": ".py",
   "mimetype": "text/x-python",
   "name": "python",
   "nbconvert_exporter": "python",
   "pygments_lexer": "ipython3",
   "version": "3.6.9"
  }
 },
 "nbformat": 4,
 "nbformat_minor": 4
}
