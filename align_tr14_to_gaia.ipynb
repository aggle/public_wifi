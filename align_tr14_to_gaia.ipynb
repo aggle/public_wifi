{
 "cells": [
  {
   "cell_type": "markdown",
   "metadata": {},
   "source": [
    "# Aligning HST images to an absolute reference catalog\n",
    "***"
   ]
  },
  {
   "cell_type": "markdown",
   "metadata": {},
   "source": [
    "<div class=\"alert-danger\">Note: The notebook in this repository 'Initializtion.ipynb' goes over many of the basic concepts such as the setup of the environment/package installation and should be read first if you are new to HST images, 'DrizzlePac' or 'Astroquery'.</div>"
   ]
  },
  {
   "cell_type": "markdown",
   "metadata": {},
   "source": [
    "<div class=\"alert-warning\">Note: This notebook is based on WFC3 ISR 2017-19: <a href=\"http://www.stsci.edu/hst/wfc3/documents/ISRs/WFC3-2017-19.pdf\">Aligning HST Images to Gaia: a Faster Mosaicking Workflow</a> and contains a subset of the information/code found in <a href=\"https://github.com/spacetelescope/gaia_alignment\">the repository here</a>.  For more information, see the notebook in that repository titled 'Gaia_alignment.ipynb'.</div>"
   ]
  },
  {
   "cell_type": "markdown",
   "metadata": {},
   "source": [
    "## Introduction"
   ]
  },
  {
   "cell_type": "markdown",
   "metadata": {},
   "source": [
    "The alignment of HST exposures is a critical step in image stacking/combination performed by software such as `AstroDrizzle`.  Generally, a relative alignment is performed that aligns one image (or multiple images) to another image which is designated as the reference image.  This makes it so the images are aligned to each other, but the pointing error of the observatory can still cause the images to have incorrect absolute astrometry.\n",
    "\n",
    "When absolute astrometry is desired, the images can be aligned to an external catalog that is known to be on an absolute frame.  In this example, we will provide a workflow to query catalogs such as SDSS and Gaia via the astroquery package, and then align the images to that catalog via TweakReg.\n",
    "\n",
    "For more information about TweakReg, see the other notebooks in this repository or the __[TweakReg Documentation](https://drizzlepac.readthedocs.io/en/deployment/tweakreg.html)__.\n",
    "\n",
    "For more information on Astroquery, see the other notebooks in this repository or the __[Astroquery Documentation](https://astroquery.readthedocs.io/en/latest/)__."
   ]
  },
  {
   "cell_type": "code",
   "execution_count": 1,
   "metadata": {},
   "outputs": [
    {
     "name": "stdout",
     "output_type": "stream",
     "text": [
      "Created TAP+ (v1.2.1) - Connection:\n",
      "\tHost: gea.esac.esa.int\n",
      "\tUse HTTPS: True\n",
      "\tPort: 443\n",
      "\tSSL Port: 443\n",
      "Created TAP+ (v1.2.1) - Connection:\n",
      "\tHost: geadata.esac.esa.int\n",
      "\tUse HTTPS: True\n",
      "\tPort: 443\n",
      "\tSSL Port: 443\n",
      "The following task in the stsci.skypac package can be run with TEAL:\n",
      "                                    skymatch                                    \n",
      "The following tasks in the drizzlepac package can be run with TEAL:\n",
      "    astrodrizzle       config_testbed      imagefindpars           mapreg       \n",
      "       photeq            pixreplace           pixtopix            pixtosky      \n",
      "  refimagefindpars       resetbits          runastrodriz          skytopix      \n",
      "     tweakback            tweakreg           updatenpol\n"
     ]
    }
   ],
   "source": [
    "import astropy.units as u\n",
    "import glob\n",
    "import numpy as np\n",
    "import matplotlib.pyplot as plt\n",
    "import os\n",
    "\n",
    "from astropy.io import fits\n",
    "from astropy.table import Table\n",
    "from astropy.units import Quantity\n",
    "from astropy.coordinates import SkyCoord\n",
    "from astroquery.gaia import Gaia\n",
    "from astroquery.mast import Observations\n",
    "from astroquery.sdss import SDSS\n",
    "\n",
    "#from ccdproc import ImageFileCollection\n",
    "from IPython.display import Image\n",
    "\n",
    "from drizzlepac import tweakreg\n",
    "from drizzlepac import astrodrizzle"
   ]
  },
  {
   "cell_type": "markdown",
   "metadata": {},
   "source": [
    "# 1. Set up the data"
   ]
  },
  {
   "cell_type": "code",
   "execution_count": 2,
   "metadata": {},
   "outputs": [],
   "source": [
    "from utils import header_utils as hutils"
   ]
  },
  {
   "cell_type": "code",
   "execution_count": 3,
   "metadata": {},
   "outputs": [
    {
     "data": {
      "text/plain": [
       "PosixPath('/user/jaguilar/tr14/code/utils/../../data/tables')"
      ]
     },
     "execution_count": 3,
     "metadata": {},
     "output_type": "execute_result"
    }
   ],
   "source": [
    "from pathlib import Path\n",
    "Path(\"/user/jaguilar/tr14/code/utils/header_utils.py\").parent / \"../../data/tables/\""
   ]
  },
  {
   "cell_type": "code",
   "execution_count": 4,
   "metadata": {},
   "outputs": [
    {
     "data": {
      "text/plain": [
       "<module 'utils.header_utils' from '/user/jaguilar/tr14/code/utils/header_utils.py'>"
      ]
     },
     "execution_count": 4,
     "metadata": {},
     "output_type": "execute_result"
    }
   ],
   "source": [
    "from importlib import reload\n",
    "reload(hutils)"
   ]
  },
  {
   "cell_type": "code",
   "execution_count": 5,
   "metadata": {},
   "outputs": [],
   "source": [
    "reload(hutils)\n",
    "prihdrs = hutils.load_headers('pri')\n",
    "scihdrs = hutils.load_headers('sci')"
   ]
  },
  {
   "cell_type": "code",
   "execution_count": 6,
   "metadata": {},
   "outputs": [],
   "source": [
    "import pandas as pd"
   ]
  },
  {
   "cell_type": "code",
   "execution_count": 7,
   "metadata": {},
   "outputs": [
    {
     "data": {
      "text/plain": [
       "<pandas.core.groupby.generic.DataFrameGroupBy object at 0x1a1e68fc18>"
      ]
     },
     "execution_count": 7,
     "metadata": {},
     "output_type": "execute_result"
    }
   ],
   "source": [
    "# TH.print_columns(prihdrs)\n",
    "gb_filter = prihdrs.groupby('filter')\n",
    "gb_filter"
   ]
  },
  {
   "cell_type": "code",
   "execution_count": 10,
   "metadata": {
    "collapsed": true,
    "jupyter": {
     "outputs_hidden": true
    }
   },
   "outputs": [
    {
     "name": "stdout",
     "output_type": "stream",
     "text": [
      "ang_side\n",
      "aperture\n",
      "asn_id\n",
      "asn_mtyp\n",
      "asn_tab\n",
      "atodgna\n",
      "atodgnb\n",
      "atodgnc\n",
      "atodgnd\n",
      "atodtab\n",
      "badinpdq\n",
      "biacfile\n",
      "biasfile\n",
      "biasleva\n",
      "biaslevb\n",
      "biaslevc\n",
      "biaslevd\n",
      "bitpix\n",
      "blevcorr\n",
      "bpixtab\n",
      "cal_ver\n",
      "ccdamp\n",
      "ccdgain\n",
      "ccdofsab\n",
      "ccdofscd\n",
      "ccdtab\n",
      "comptab\n",
      "crcorr\n",
      "crds_ctx\n",
      "crds_ver\n",
      "crmask\n",
      "crradius\n",
      "crrejtab\n",
      "crsigmas\n",
      "crthresh\n",
      "csmid\n",
      "csys_ver\n",
      "d2imfile\n",
      "darkcorr\n",
      "darkfile\n",
      "date\n",
      "date-obs\n",
      "dec_targ\n",
      "detector\n",
      "dfltfile\n",
      "dgeofile\n",
      "dirimage\n",
      "distname\n",
      "dqicorr\n",
      "drizcorr\n",
      "drkcfile\n",
      "dwell_ln\n",
      "dwell_tm\n",
      "equinox\n",
      "expend\n",
      "expflag\n",
      "expstart\n",
      "exptime\n",
      "extend\n",
      "fgslock\n",
      "filename\n",
      "filetype\n",
      "filter\n",
      "flatcorr\n",
      "flshfile\n",
      "graphtab\n",
      "gyromode\n",
      "idctab\n",
      "imagetyp\n",
      "imphttab\n",
      "initgues\n",
      "instrume\n",
      "lfltfile\n",
      "linenum\n",
      "mdriztab\n",
      "meanexp\n",
      "moonangl\n",
      "mtflag\n",
      "naxis\n",
      "nextend\n",
      "nlincorr\n",
      "nlinfile\n",
      "no_lines\n",
      "npolfile\n",
      "nrptexp\n",
      "nsamp\n",
      "obsmode\n",
      "obstype\n",
      "opus_ver\n",
      "origin\n",
      "oscntab\n",
      "p1_angle\n",
      "p1_centr\n",
      "p1_frame\n",
      "p1_lspac\n",
      "p1_npts\n",
      "p1_orint\n",
      "p1_pspac\n",
      "p1_purps\n",
      "p1_shape\n",
      "pa_v3\n",
      "pattern1\n",
      "pattstep\n",
      "pctetab\n",
      "pfltfile\n",
      "photbw\n",
      "photcorr\n",
      "photflam\n",
      "photfnu\n",
      "photmode\n",
      "photplam\n",
      "photzpt\n",
      "postarg1\n",
      "postarg2\n",
      "pr_inv_f\n",
      "pr_inv_l\n",
      "pr_inv_m\n",
      "primesi\n",
      "proctime\n",
      "propaper\n",
      "proposid\n",
      "pywcsver\n",
      "qualcom1\n",
      "qualcom2\n",
      "qualcom3\n",
      "quality\n",
      "ra_targ\n",
      "readnsea\n",
      "readnseb\n",
      "readnsec\n",
      "readnsed\n",
      "refframe\n",
      "rej_rate\n",
      "rootname\n",
      "rptcorr\n",
      "saa_dark\n",
      "saa_exit\n",
      "saa_time\n",
      "saacrmap\n",
      "samp_seq\n",
      "sampzero\n",
      "scalense\n",
      "scan_ang\n",
      "scan_cor\n",
      "scan_len\n",
      "scan_rat\n",
      "scan_typ\n",
      "scan_wid\n",
      "sclamp\n",
      "simple\n",
      "sipname\n",
      "skysub\n",
      "skysum\n",
      "snkcfile\n",
      "subarray\n",
      "subtype\n",
      "sun_alt\n",
      "sunangle\n",
      "t_sgstar\n",
      "targname\n",
      "telescop\n",
      "time-obs\n",
      "unitcorr\n",
      "upwcsver\n",
      "zoffcorr\n",
      "zsigcorr\n"
     ]
    }
   ],
   "source": [
    "hutils.print_columns(prihdrs)"
   ]
  },
  {
   "cell_type": "code",
   "execution_count": 11,
   "metadata": {},
   "outputs": [
    {
     "data": {
      "text/html": [
       "<div>\n",
       "<style scoped>\n",
       "    .dataframe tbody tr th:only-of-type {\n",
       "        vertical-align: middle;\n",
       "    }\n",
       "\n",
       "    .dataframe tbody tr th {\n",
       "        vertical-align: top;\n",
       "    }\n",
       "\n",
       "    .dataframe thead th {\n",
       "        text-align: right;\n",
       "    }\n",
       "</style>\n",
       "<table border=\"1\" class=\"dataframe\">\n",
       "  <thead>\n",
       "    <tr style=\"text-align: right;\">\n",
       "      <th></th>\n",
       "      <th>simple</th>\n",
       "      <th>bitpix</th>\n",
       "      <th>naxis</th>\n",
       "      <th>extend</th>\n",
       "      <th>origin</th>\n",
       "      <th>date</th>\n",
       "      <th>nextend</th>\n",
       "      <th>filename</th>\n",
       "      <th>filetype</th>\n",
       "      <th>telescop</th>\n",
       "      <th>...</th>\n",
       "      <th>flshfile</th>\n",
       "      <th>pctetab</th>\n",
       "      <th>snkcfile</th>\n",
       "      <th>upwcsver</th>\n",
       "      <th>pywcsver</th>\n",
       "      <th>npolfile</th>\n",
       "      <th>idctab</th>\n",
       "      <th>d2imfile</th>\n",
       "      <th>sipname</th>\n",
       "      <th>distname</th>\n",
       "    </tr>\n",
       "  </thead>\n",
       "  <tbody>\n",
       "    <tr>\n",
       "      <th>0</th>\n",
       "      <td>True</td>\n",
       "      <td>16</td>\n",
       "      <td>0</td>\n",
       "      <td>True</td>\n",
       "      <td>HSTIO/CFITSIO March 2010</td>\n",
       "      <td>2019-12-30</td>\n",
       "      <td>13</td>\n",
       "      <td>icct01i5q_flt.fits</td>\n",
       "      <td>SCI</td>\n",
       "      <td>HST</td>\n",
       "      <td>...</td>\n",
       "      <td>NaN</td>\n",
       "      <td>NaN</td>\n",
       "      <td>NaN</td>\n",
       "      <td>1.4.0</td>\n",
       "      <td>3.0.4</td>\n",
       "      <td>NaN</td>\n",
       "      <td>iref$w3m18525i_idc.fits</td>\n",
       "      <td>NaN</td>\n",
       "      <td>icct01i5q_w3m18525i</td>\n",
       "      <td>icct01i5q_w3m18525i-NOMODEL-NOMODEL</td>\n",
       "    </tr>\n",
       "    <tr>\n",
       "      <th>3</th>\n",
       "      <td>True</td>\n",
       "      <td>16</td>\n",
       "      <td>0</td>\n",
       "      <td>True</td>\n",
       "      <td>HSTIO/CFITSIO March 2010</td>\n",
       "      <td>2019-12-30</td>\n",
       "      <td>13</td>\n",
       "      <td>icct02jxq_flt.fits</td>\n",
       "      <td>SCI</td>\n",
       "      <td>HST</td>\n",
       "      <td>...</td>\n",
       "      <td>NaN</td>\n",
       "      <td>NaN</td>\n",
       "      <td>NaN</td>\n",
       "      <td>1.4.0</td>\n",
       "      <td>3.0.4</td>\n",
       "      <td>NaN</td>\n",
       "      <td>iref$w3m18525i_idc.fits</td>\n",
       "      <td>NaN</td>\n",
       "      <td>icct02jxq_w3m18525i</td>\n",
       "      <td>icct02jxq_w3m18525i-NOMODEL-NOMODEL</td>\n",
       "    </tr>\n",
       "    <tr>\n",
       "      <th>4</th>\n",
       "      <td>True</td>\n",
       "      <td>16</td>\n",
       "      <td>0</td>\n",
       "      <td>True</td>\n",
       "      <td>HSTIO/CFITSIO March 2010</td>\n",
       "      <td>2019-12-30</td>\n",
       "      <td>14</td>\n",
       "      <td>icct04omq_flt.fits</td>\n",
       "      <td>SCI</td>\n",
       "      <td>HST</td>\n",
       "      <td>...</td>\n",
       "      <td>NaN</td>\n",
       "      <td>NaN</td>\n",
       "      <td>NaN</td>\n",
       "      <td>1.4.0</td>\n",
       "      <td>3.0.4</td>\n",
       "      <td>NaN</td>\n",
       "      <td>iref$w3m18525i_idc.fits</td>\n",
       "      <td>NaN</td>\n",
       "      <td>icct04omq_w3m18525i</td>\n",
       "      <td>icct04omq_w3m18525i-NOMODEL-NOMODEL</td>\n",
       "    </tr>\n",
       "    <tr>\n",
       "      <th>5</th>\n",
       "      <td>True</td>\n",
       "      <td>16</td>\n",
       "      <td>0</td>\n",
       "      <td>True</td>\n",
       "      <td>HSTIO/CFITSIO March 2010</td>\n",
       "      <td>2019-12-30</td>\n",
       "      <td>13</td>\n",
       "      <td>icct04p1q_flt.fits</td>\n",
       "      <td>SCI</td>\n",
       "      <td>HST</td>\n",
       "      <td>...</td>\n",
       "      <td>NaN</td>\n",
       "      <td>NaN</td>\n",
       "      <td>NaN</td>\n",
       "      <td>1.4.0</td>\n",
       "      <td>3.0.4</td>\n",
       "      <td>NaN</td>\n",
       "      <td>iref$w3m18525i_idc.fits</td>\n",
       "      <td>NaN</td>\n",
       "      <td>icct04p1q_w3m18525i</td>\n",
       "      <td>icct04p1q_w3m18525i-NOMODEL-NOMODEL</td>\n",
       "    </tr>\n",
       "    <tr>\n",
       "      <th>6</th>\n",
       "      <td>True</td>\n",
       "      <td>16</td>\n",
       "      <td>0</td>\n",
       "      <td>True</td>\n",
       "      <td>HSTIO/CFITSIO March 2010</td>\n",
       "      <td>2019-12-30</td>\n",
       "      <td>14</td>\n",
       "      <td>icct02jiq_flt.fits</td>\n",
       "      <td>SCI</td>\n",
       "      <td>HST</td>\n",
       "      <td>...</td>\n",
       "      <td>NaN</td>\n",
       "      <td>NaN</td>\n",
       "      <td>NaN</td>\n",
       "      <td>1.4.0</td>\n",
       "      <td>3.0.4</td>\n",
       "      <td>NaN</td>\n",
       "      <td>iref$w3m18525i_idc.fits</td>\n",
       "      <td>NaN</td>\n",
       "      <td>icct02jiq_w3m18525i</td>\n",
       "      <td>icct02jiq_w3m18525i-NOMODEL-NOMODEL</td>\n",
       "    </tr>\n",
       "    <tr>\n",
       "      <th>...</th>\n",
       "      <td>...</td>\n",
       "      <td>...</td>\n",
       "      <td>...</td>\n",
       "      <td>...</td>\n",
       "      <td>...</td>\n",
       "      <td>...</td>\n",
       "      <td>...</td>\n",
       "      <td>...</td>\n",
       "      <td>...</td>\n",
       "      <td>...</td>\n",
       "      <td>...</td>\n",
       "      <td>...</td>\n",
       "      <td>...</td>\n",
       "      <td>...</td>\n",
       "      <td>...</td>\n",
       "      <td>...</td>\n",
       "      <td>...</td>\n",
       "      <td>...</td>\n",
       "      <td>...</td>\n",
       "      <td>...</td>\n",
       "      <td>...</td>\n",
       "    </tr>\n",
       "    <tr>\n",
       "      <th>177</th>\n",
       "      <td>True</td>\n",
       "      <td>16</td>\n",
       "      <td>0</td>\n",
       "      <td>True</td>\n",
       "      <td>HSTIO/CFITSIO March 2010</td>\n",
       "      <td>2019-12-30</td>\n",
       "      <td>13</td>\n",
       "      <td>icct04oxq_flt.fits</td>\n",
       "      <td>SCI</td>\n",
       "      <td>HST</td>\n",
       "      <td>...</td>\n",
       "      <td>NaN</td>\n",
       "      <td>NaN</td>\n",
       "      <td>NaN</td>\n",
       "      <td>1.4.0</td>\n",
       "      <td>3.0.4</td>\n",
       "      <td>NaN</td>\n",
       "      <td>iref$w3m18525i_idc.fits</td>\n",
       "      <td>NaN</td>\n",
       "      <td>icct04oxq_w3m18525i</td>\n",
       "      <td>icct04oxq_w3m18525i-NOMODEL-NOMODEL</td>\n",
       "    </tr>\n",
       "    <tr>\n",
       "      <th>178</th>\n",
       "      <td>True</td>\n",
       "      <td>16</td>\n",
       "      <td>0</td>\n",
       "      <td>True</td>\n",
       "      <td>HSTIO/CFITSIO March 2010</td>\n",
       "      <td>2019-12-30</td>\n",
       "      <td>13</td>\n",
       "      <td>icct04p0q_flt.fits</td>\n",
       "      <td>SCI</td>\n",
       "      <td>HST</td>\n",
       "      <td>...</td>\n",
       "      <td>NaN</td>\n",
       "      <td>NaN</td>\n",
       "      <td>NaN</td>\n",
       "      <td>1.4.0</td>\n",
       "      <td>3.0.4</td>\n",
       "      <td>NaN</td>\n",
       "      <td>iref$w3m18525i_idc.fits</td>\n",
       "      <td>NaN</td>\n",
       "      <td>icct04p0q_w3m18525i</td>\n",
       "      <td>icct04p0q_w3m18525i-NOMODEL-NOMODEL</td>\n",
       "    </tr>\n",
       "    <tr>\n",
       "      <th>179</th>\n",
       "      <td>True</td>\n",
       "      <td>16</td>\n",
       "      <td>0</td>\n",
       "      <td>True</td>\n",
       "      <td>HSTIO/CFITSIO March 2010</td>\n",
       "      <td>2019-12-30</td>\n",
       "      <td>13</td>\n",
       "      <td>icct01iaq_flt.fits</td>\n",
       "      <td>SCI</td>\n",
       "      <td>HST</td>\n",
       "      <td>...</td>\n",
       "      <td>NaN</td>\n",
       "      <td>NaN</td>\n",
       "      <td>NaN</td>\n",
       "      <td>1.4.0</td>\n",
       "      <td>3.0.4</td>\n",
       "      <td>NaN</td>\n",
       "      <td>iref$w3m18525i_idc.fits</td>\n",
       "      <td>NaN</td>\n",
       "      <td>icct01iaq_w3m18525i</td>\n",
       "      <td>icct01iaq_w3m18525i-NOMODEL-NOMODEL</td>\n",
       "    </tr>\n",
       "    <tr>\n",
       "      <th>180</th>\n",
       "      <td>True</td>\n",
       "      <td>16</td>\n",
       "      <td>0</td>\n",
       "      <td>True</td>\n",
       "      <td>HSTIO/CFITSIO March 2010</td>\n",
       "      <td>2019-12-30</td>\n",
       "      <td>13</td>\n",
       "      <td>icct04p7q_flt.fits</td>\n",
       "      <td>SCI</td>\n",
       "      <td>HST</td>\n",
       "      <td>...</td>\n",
       "      <td>NaN</td>\n",
       "      <td>NaN</td>\n",
       "      <td>NaN</td>\n",
       "      <td>1.4.0</td>\n",
       "      <td>3.0.4</td>\n",
       "      <td>NaN</td>\n",
       "      <td>iref$w3m18525i_idc.fits</td>\n",
       "      <td>NaN</td>\n",
       "      <td>icct04p7q_w3m18525i</td>\n",
       "      <td>icct04p7q_w3m18525i-NOMODEL-NOMODEL</td>\n",
       "    </tr>\n",
       "    <tr>\n",
       "      <th>181</th>\n",
       "      <td>True</td>\n",
       "      <td>16</td>\n",
       "      <td>0</td>\n",
       "      <td>True</td>\n",
       "      <td>HSTIO/CFITSIO March 2010</td>\n",
       "      <td>2019-12-30</td>\n",
       "      <td>13</td>\n",
       "      <td>icct03meq_flt.fits</td>\n",
       "      <td>SCI</td>\n",
       "      <td>HST</td>\n",
       "      <td>...</td>\n",
       "      <td>NaN</td>\n",
       "      <td>NaN</td>\n",
       "      <td>NaN</td>\n",
       "      <td>1.4.0</td>\n",
       "      <td>3.0.4</td>\n",
       "      <td>NaN</td>\n",
       "      <td>iref$w3m18525i_idc.fits</td>\n",
       "      <td>NaN</td>\n",
       "      <td>icct03meq_w3m18525i</td>\n",
       "      <td>icct03meq_w3m18525i-NOMODEL-NOMODEL</td>\n",
       "    </tr>\n",
       "  </tbody>\n",
       "</table>\n",
       "<p>122 rows × 166 columns</p>\n",
       "</div>"
      ],
      "text/plain": [
       "     simple  bitpix  naxis  extend                    origin        date  \\\n",
       "0      True      16      0    True  HSTIO/CFITSIO March 2010  2019-12-30   \n",
       "3      True      16      0    True  HSTIO/CFITSIO March 2010  2019-12-30   \n",
       "4      True      16      0    True  HSTIO/CFITSIO March 2010  2019-12-30   \n",
       "5      True      16      0    True  HSTIO/CFITSIO March 2010  2019-12-30   \n",
       "6      True      16      0    True  HSTIO/CFITSIO March 2010  2019-12-30   \n",
       "..      ...     ...    ...     ...                       ...         ...   \n",
       "177    True      16      0    True  HSTIO/CFITSIO March 2010  2019-12-30   \n",
       "178    True      16      0    True  HSTIO/CFITSIO March 2010  2019-12-30   \n",
       "179    True      16      0    True  HSTIO/CFITSIO March 2010  2019-12-30   \n",
       "180    True      16      0    True  HSTIO/CFITSIO March 2010  2019-12-30   \n",
       "181    True      16      0    True  HSTIO/CFITSIO March 2010  2019-12-30   \n",
       "\n",
       "     nextend            filename filetype telescop  ... flshfile  pctetab  \\\n",
       "0         13  icct01i5q_flt.fits      SCI      HST  ...      NaN      NaN   \n",
       "3         13  icct02jxq_flt.fits      SCI      HST  ...      NaN      NaN   \n",
       "4         14  icct04omq_flt.fits      SCI      HST  ...      NaN      NaN   \n",
       "5         13  icct04p1q_flt.fits      SCI      HST  ...      NaN      NaN   \n",
       "6         14  icct02jiq_flt.fits      SCI      HST  ...      NaN      NaN   \n",
       "..       ...                 ...      ...      ...  ...      ...      ...   \n",
       "177       13  icct04oxq_flt.fits      SCI      HST  ...      NaN      NaN   \n",
       "178       13  icct04p0q_flt.fits      SCI      HST  ...      NaN      NaN   \n",
       "179       13  icct01iaq_flt.fits      SCI      HST  ...      NaN      NaN   \n",
       "180       13  icct04p7q_flt.fits      SCI      HST  ...      NaN      NaN   \n",
       "181       13  icct03meq_flt.fits      SCI      HST  ...      NaN      NaN   \n",
       "\n",
       "    snkcfile upwcsver pywcsver npolfile                   idctab  d2imfile  \\\n",
       "0        NaN    1.4.0    3.0.4      NaN  iref$w3m18525i_idc.fits       NaN   \n",
       "3        NaN    1.4.0    3.0.4      NaN  iref$w3m18525i_idc.fits       NaN   \n",
       "4        NaN    1.4.0    3.0.4      NaN  iref$w3m18525i_idc.fits       NaN   \n",
       "5        NaN    1.4.0    3.0.4      NaN  iref$w3m18525i_idc.fits       NaN   \n",
       "6        NaN    1.4.0    3.0.4      NaN  iref$w3m18525i_idc.fits       NaN   \n",
       "..       ...      ...      ...      ...                      ...       ...   \n",
       "177      NaN    1.4.0    3.0.4      NaN  iref$w3m18525i_idc.fits       NaN   \n",
       "178      NaN    1.4.0    3.0.4      NaN  iref$w3m18525i_idc.fits       NaN   \n",
       "179      NaN    1.4.0    3.0.4      NaN  iref$w3m18525i_idc.fits       NaN   \n",
       "180      NaN    1.4.0    3.0.4      NaN  iref$w3m18525i_idc.fits       NaN   \n",
       "181      NaN    1.4.0    3.0.4      NaN  iref$w3m18525i_idc.fits       NaN   \n",
       "\n",
       "                 sipname                             distname  \n",
       "0    icct01i5q_w3m18525i  icct01i5q_w3m18525i-NOMODEL-NOMODEL  \n",
       "3    icct02jxq_w3m18525i  icct02jxq_w3m18525i-NOMODEL-NOMODEL  \n",
       "4    icct04omq_w3m18525i  icct04omq_w3m18525i-NOMODEL-NOMODEL  \n",
       "5    icct04p1q_w3m18525i  icct04p1q_w3m18525i-NOMODEL-NOMODEL  \n",
       "6    icct02jiq_w3m18525i  icct02jiq_w3m18525i-NOMODEL-NOMODEL  \n",
       "..                   ...                                  ...  \n",
       "177  icct04oxq_w3m18525i  icct04oxq_w3m18525i-NOMODEL-NOMODEL  \n",
       "178  icct04p0q_w3m18525i  icct04p0q_w3m18525i-NOMODEL-NOMODEL  \n",
       "179  icct01iaq_w3m18525i  icct01iaq_w3m18525i-NOMODEL-NOMODEL  \n",
       "180  icct04p7q_w3m18525i  icct04p7q_w3m18525i-NOMODEL-NOMODEL  \n",
       "181  icct03meq_w3m18525i  icct03meq_w3m18525i-NOMODEL-NOMODEL  \n",
       "\n",
       "[122 rows x 166 columns]"
      ]
     },
     "execution_count": 11,
     "metadata": {},
     "output_type": "execute_result"
    }
   ],
   "source": [
    "# re-download the data from MAST, following the example\n",
    "proposids = prihdrs['proposid'].unique()\n",
    "filters = prihdrs['filter'].unique()\n",
    "prihdrs.query(f\"proposid == {proposids[0]}\")"
   ]
  },
  {
   "cell_type": "markdown",
   "metadata": {},
   "source": [
    "### Inspect the image header\n",
    "\n",
    "The cell below shows how to query information from the image header using `ImageFileCollection` in `ccdproc`. \n",
    "We see that the 1st exposure is 30 seconds and the 2nd and 3rd exposures are 360 seconds. The 3rd exposure is dithered by ~82\" in the Y-direction which is approximately the width of one UVIS chip. "
   ]
  },
  {
   "cell_type": "markdown",
   "metadata": {},
   "source": [
    "# 2. Querying catalogs\n",
    "\n",
    "Now that we have the images, we will download the reference catalogs from both SDSS and Gaia using `astroquery`."
   ]
  },
  {
   "cell_type": "markdown",
   "metadata": {},
   "source": [
    "### 2a. Identify Coordinates\n",
    "We will first create a SkyCoord Object to point astroquery to where we are looking on the sky.  Since our example uses data from NGC 6791, we will use the `ra_targ` and `dec_targ` keywords from the first image to get the coordinates of the object."
   ]
  },
  {
   "cell_type": "code",
   "execution_count": 12,
   "metadata": {},
   "outputs": [],
   "source": [
    "RA, Dec = prihdrs[['ra_targ','dec_targ']].mean()"
   ]
  },
  {
   "cell_type": "markdown",
   "metadata": {},
   "source": [
    "### 2b. SDSS Query\n",
    "We now give those values to an astropy `SkyCoord` object, which we will pass to the SDSS.  Additionally, we use an astropy `Quantity` object to create a radius for the SDSS query.  We set the radius to 6 arcminutes to comfortably cover the area of our images. For reference UVIS detector field of view is ~2.7'x2.7' and a y-dither of 82\" covers a total area on the sky of ~2.7'x4.1'."
   ]
  },
  {
   "cell_type": "code",
   "execution_count": 13,
   "metadata": {},
   "outputs": [],
   "source": [
    "coord = SkyCoord(ra=RA, dec=Dec, unit=(u.deg, u.deg))\n",
    "radius = Quantity(6., u.arcmin)"
   ]
  },
  {
   "cell_type": "markdown",
   "metadata": {},
   "source": [
    "Then we only need to perform the query via the `SDSS.query_region` method of `astroquery.sdss`. The `spectro=False` keyword argument means we want to exclude spectroscopic objects, as we are looking for objects to match with an image.  \n",
    "\n",
    "In the fields parameter, we specify a list of fields we want returned by the query.  In this case we only need the position, and maybe a magnitude 'g' if we want to cut very dim and/or bright objects out of the catalog, as those are likely measured poorly. Details on selecting objects by magnitude may be found in the original ['Gaia_alignment' notebook](https://github.com/spacetelescope/gaia_alignment).  Many other fields are available in the SDSS query and are [documented here](http://cas.sdss.org/dr7/en/help/browser/description.asp?n=PhotoObj&t=V)."
   ]
  },
  {
   "cell_type": "markdown",
   "metadata": {},
   "source": [
    "### 2c. Gaia Query\n",
    "Similarly to SDSS, we can query Gaia catalogs for our target via `astroquery.gaia`.  We can use the same `coord` and  `radius` from the SDSS query."
   ]
  },
  {
   "cell_type": "code",
   "execution_count": 17,
   "metadata": {},
   "outputs": [],
   "source": [
    "# JA: I already have the file I need\n",
    "# gaia_query = Gaia.query_object_async(coordinate=coord, radius=radius)\n",
    "# gaia_query"
   ]
  },
  {
   "cell_type": "markdown",
   "metadata": {},
   "source": [
    "This query has returned very large number of columns. We want to pare down the catalog to make it easier to use with `TweakReg`.  \n",
    "We can select only the useful columns via:"
   ]
  },
  {
   "cell_type": "code",
   "execution_count": 18,
   "metadata": {},
   "outputs": [],
   "source": [
    "# reduced_query = gaia_query['ra', 'dec', 'phot_g_mean_mag']\n",
    "# reduced_query"
   ]
  },
  {
   "cell_type": "markdown",
   "metadata": {},
   "source": [
    "Then we write this catalog to an ascii file for use with `TweakReg`."
   ]
  },
  {
   "cell_type": "code",
   "execution_count": 19,
   "metadata": {},
   "outputs": [],
   "source": [
    "# reduced_query.write('../data/align_catalog/gaia.cat', format='ascii.commented_header')"
   ]
  },
  {
   "cell_type": "markdown",
   "metadata": {},
   "source": [
    "## 3. Running TweakReg\n",
    "With the catalogs downloaded and the headers populated, we simply need to run TweakReg with each catalog passed into the `refcat` parameter. The steps below compare the astrometric residuals obtained from aligning to each `refcat`. In each test case, we set `updatehdr` to False until we are satisfied with the alignment by inspecting both the shift file and the astrometric residual plots."
   ]
  },
  {
   "cell_type": "markdown",
   "metadata": {},
   "source": [
    "As we can see, the RMS is fairly large at about 0.5 pixels, which is not a great fit. This is likely because the SDSS astrometric precision is not high enough to get good HST alignment. One approach would be to align the first image to SDSS and then align the remaining HST images to one another. This would improve both the absolute and relative alignment of the individual frames.\n",
    "\n",
    "### 3b. Gaia Alignment"
   ]
  },
  {
   "cell_type": "code",
   "execution_count": 20,
   "metadata": {},
   "outputs": [],
   "source": [
    "from pathlib import Path\n",
    "# [(Path(\"../data/tr14/\") / i).as_posix() \n",
    "#  for i in gb_filter.get_group(filters[0])['FILENAME']]"
   ]
  },
  {
   "cell_type": "code",
   "execution_count": 21,
   "metadata": {},
   "outputs": [],
   "source": [
    "from utils import table_utils as tutils\n"
   ]
  },
  {
   "cell_type": "code",
   "execution_count": 22,
   "metadata": {},
   "outputs": [
    {
     "data": {
      "text/plain": [
       "54"
      ]
     },
     "execution_count": 22,
     "metadata": {},
     "output_type": "execute_result"
    }
   ],
   "source": [
    "list_of_images = [(Path(\"../data/my_data/\") / i).as_posix() \n",
    "                  for i in tutils.get_value(prihdrs, 'subarray', False, 'filename')]\n",
    "len(list_of_images)"
   ]
  },
  {
   "cell_type": "code",
   "execution_count": 23,
   "metadata": {},
   "outputs": [],
   "source": [
    "import matplotlib as mpl"
   ]
  },
  {
   "cell_type": "code",
   "execution_count": 24,
   "metadata": {},
   "outputs": [],
   "source": [
    "# hdulist = fits.open(list_of_images[0])\n",
    "# data = hdulist[1].data\n",
    "# fig, ax = plt.subplots(1,1)\n",
    "# ax.imshow(data, norm=mpl.colors.LogNorm())\n",
    "# hdulist.close()"
   ]
  },
  {
   "cell_type": "code",
   "execution_count": 25,
   "metadata": {},
   "outputs": [
    {
     "name": "stdout",
     "output_type": "stream",
     "text": [
      "Setting up logfile :  tweakreg.log\n",
      "TweakReg Version 1.4.7(18-April-2018) started at: 23:56:57.250 (30/04/2020) \n",
      "\n",
      "Version Information\n",
      "--------------------\n",
      "Python Version [GCC 4.2.1 Compatible Clang 4.0.1 (tags/RELEASE_401/final)]\n",
      "3.6.9 |Anaconda, Inc.| (default, Jul 30 2019, 13:42:17) \n",
      "numpy Version -> 1.18.1 \n",
      "astropy Version -> 4.0.1.post1 \n",
      "stwcs Version -> 1.5.3 \n",
      "\n",
      "Finding shifts for: \n",
      "    /user/jaguilar/tr14/data/my_data/icct02jfq_flt.fits\n",
      "\n",
      "===  Source finding for image '/user/jaguilar/tr14/data/my_data/icct02jfq_flt.fits':\n",
      "  #  Source finding for '/user/jaguilar/tr14/data/my_data/icct02jfq_flt.fits', EXT=('SCI', 1) started at: 23:56:57.740 (30/04/2020)\n",
      "     Found 63 objects.\n",
      "===  FINAL number of objects in image '/user/jaguilar/tr14/data/my_data/icct02jfq_flt.fits': 63\n",
      "\n",
      "\n",
      "===============================================================\n",
      "Performing alignment in the projection plane defined by the WCS\n",
      "derived from '/user/jaguilar/tr14/data/my_data/icct02jfq_flt.fits'\n",
      "===============================================================\n",
      "\n",
      "\n",
      "====================\n",
      "Performing fit for: /user/jaguilar/tr14/data/my_data/icct02jfq_flt.fits\n",
      "\n",
      "Matching sources from '/user/jaguilar/tr14/data/my_data/icct02jfq_flt.fits' with sources from reference catalog '../data/align_catalog/gaia.cat'\n",
      "Computing initial guess for X and Y shifts...\n",
      "Found initial X and Y shifts of 0.2027, 0.2027 with significance of 61 and 61 matches\n",
      "Found 61 matches for /user/jaguilar/tr14/data/my_data/icct02jfq_flt.fits...\n",
      "Computed  general  fit for  /user/jaguilar/tr14/data/my_data/icct02jfq_flt.fits : \n",
      "XSH: 0.0000  YSH: 0.0000    PROPER ROT: 360    \n",
      "<ROT>: 180  SKEW: 360    ROT_X: 1.533930787e-09  ROT_Y: 360\n",
      "<SCALE>: 0.9999999999  SCALE_X: 1  SCALE_Y: 0.9999999997\n",
      "FIT XRMS: 0.045      FIT YRMS: 0.045  \n",
      "FIT RMSE: 0.064      FIT MAE: 0.059  \n",
      "\n",
      "RMS_RA: 3.7e-06 (deg)   RMS_DEC: 1.3e-06 (deg)\n",
      "\n",
      "Final solution based on  58  objects.\n",
      "wrote XY data to:  icct02jfq_flt_catalog_fit.match\n",
      "Total # points: 58\n",
      "# of points after clipping: 58\n",
      "Total # points: 58\n",
      "# of points after clipping: 58\n",
      "Writing out shiftfile : Gaia_shifts.txt\n",
      "Trailer file written to:  tweakreg.log\n"
     ]
    },
    {
     "data": {
      "image/png": "[encoded data removed]",
      "text/plain": [
       "<Figure size 432x288 with 1 Axes>"
      ]
     },
     "metadata": {
      "needs_background": "light"
     },
     "output_type": "display_data"
    },
    {
     "data": {
      "image/png": "[encoded data removed]",
      "text/plain": [
       "<Figure size 432x288 with 4 Axes>"
      ]
     },
     "metadata": {
      "needs_background": "light"
     },
     "output_type": "display_data"
    }
   ],
   "source": [
    "refcat = '../data/align_catalog/gaia.cat'\n",
    "cw = 3.5  # Set to two times the FWHM of the PSF.\n",
    "wcsname = 'Gaia'  # Specify the WCS name for this alignment\n",
    "ff = list_of_images[0]\n",
    "thresh = 500.\n",
    "tweakreg.TweakReg(ff,#'*flc.fits',  # Pass input images\n",
    "                  updatehdr=False,  # update header with new WCS solution\n",
    "                  imagefindcfg={'threshold':thresh,'conv_width':cw},  # Detection parameters, threshold varies for different data\n",
    "                  refcat=refcat,  # Use user supplied catalog (Gaia)\n",
    "                  interactive=False,\n",
    "                  see2dplot=False,\n",
    "                  shiftfile=True,  # Save out shift file (so we can look at shifts later)\n",
    "                  outshifts='Gaia_shifts.txt',  # name of the shift file\n",
    "                  wcsname=wcsname,  # Give our WCS a new name\n",
    "                  reusename=True,\n",
    "                  sigma=2.3,\n",
    "                  ylimit=0.2,\n",
    "                  fitgeometry='general')  # Use the 6 parameter fit\n",
    "#%pdb 0\n",
    "#%debug -b /Users/jaguilar/miniconda3/envs/orbitize/lib/python3.6/site-packages/drizzlepac/imgclasses.py:1604\n",
    "# reload(tweakreg)\n",
    "# tweakreg.TweakReg(list_of_images,\n",
    "#                   refcat=refcat)"
   ]
  },
  {
   "cell_type": "markdown",
   "metadata": {},
   "source": [
    "We can similarly look at the shift file from alignment to the Gaia catalog:"
   ]
  },
  {
   "cell_type": "code",
   "execution_count": 26,
   "metadata": {},
   "outputs": [
    {
     "name": "stdout",
     "output_type": "stream",
     "text": [
      "# frame: output\n",
      "\n",
      "# refimage: shifts_wcs.fits[wcs]\n",
      "\n",
      "# form: delta\n",
      "\n",
      "# units: pixels\n",
      "\n",
      "/user/jaguilar/tr14/data/my_data/icct02jfq_flt.fits    0.000000  0.000000    360.000000     1.000000   0.045278  0.044696\n",
      "\n"
     ]
    }
   ],
   "source": [
    "for line in open('Gaia_shifts.txt').readlines():\n",
    "    print(line)"
   ]
  },
  {
   "cell_type": "code",
   "execution_count": 29,
   "metadata": {},
   "outputs": [],
   "source": [
    "# Astrometric residual plots\n",
    "# Image(filename='residuals_ibwb01xqq_flc.png',width=500, height=300)"
   ]
  },
  {
   "cell_type": "code",
   "execution_count": 30,
   "metadata": {},
   "outputs": [],
   "source": [
    "# Image(filename='residuals_ibwb01xrq_flc.png',width=500, height=300)"
   ]
  },
  {
   "cell_type": "code",
   "execution_count": 31,
   "metadata": {},
   "outputs": [],
   "source": [
    "# Image(filename='residuals_ibwb01xxq_flc.png',width=500, height=300)"
   ]
  },
  {
   "cell_type": "markdown",
   "metadata": {},
   "source": [
    "As expected, the Gaia catalog does quite a bit better, with rms residuals less tha 0.05 pixels.  \n",
    "\n",
    "To apply these transformations to the image, we simply need to run TweakReg the same as before, but set the parameter `updatehdr` equal to `True`:"
   ]
  },
  {
   "cell_type": "code",
   "execution_count": 32,
   "metadata": {},
   "outputs": [
    {
     "name": "stdout",
     "output_type": "stream",
     "text": [
      "Setting up logfile :  tweakreg.log\n",
      "TweakReg Version 1.4.7(18-April-2018) started at: 23:57:44.144 (30/04/2020) \n",
      "\n",
      "Version Information\n",
      "--------------------\n",
      "Python Version [GCC 4.2.1 Compatible Clang 4.0.1 (tags/RELEASE_401/final)]\n",
      "3.6.9 |Anaconda, Inc.| (default, Jul 30 2019, 13:42:17) \n",
      "numpy Version -> 1.18.1 \n",
      "astropy Version -> 4.0.1.post1 \n",
      "stwcs Version -> 1.5.3 \n",
      "\n",
      "Finding shifts for: \n",
      "    /user/jaguilar/tr14/data/my_data/icct02jfq_flt.fits\n",
      "\n",
      "===  Source finding for image '/user/jaguilar/tr14/data/my_data/icct02jfq_flt.fits':\n",
      "  #  Source finding for '/user/jaguilar/tr14/data/my_data/icct02jfq_flt.fits', EXT=('SCI', 1) started at: 23:57:44.485 (30/04/2020)\n",
      "     Found 63 objects.\n",
      "===  FINAL number of objects in image '/user/jaguilar/tr14/data/my_data/icct02jfq_flt.fits': 63\n",
      "\n",
      "\n",
      "===============================================================\n",
      "Performing alignment in the projection plane defined by the WCS\n",
      "derived from '/user/jaguilar/tr14/data/my_data/icct02jfq_flt.fits'\n",
      "===============================================================\n",
      "\n",
      "\n",
      "====================\n",
      "Performing fit for: /user/jaguilar/tr14/data/my_data/icct02jfq_flt.fits\n",
      "\n",
      "Matching sources from '/user/jaguilar/tr14/data/my_data/icct02jfq_flt.fits' with sources from reference catalog '../data/align_catalog/gaia.cat'\n",
      "Computing initial guess for X and Y shifts...\n",
      "Found initial X and Y shifts of 0.2027, 0.2027 with significance of 61 and 61 matches\n",
      "Found 61 matches for /user/jaguilar/tr14/data/my_data/icct02jfq_flt.fits...\n",
      "Computed  general  fit for  /user/jaguilar/tr14/data/my_data/icct02jfq_flt.fits : \n",
      "XSH: 0.0000  YSH: 0.0000    PROPER ROT: 360    \n",
      "<ROT>: 180  SKEW: 360    ROT_X: 1.533930787e-09  ROT_Y: 360\n",
      "<SCALE>: 0.9999999999  SCALE_X: 1  SCALE_Y: 0.9999999997\n",
      "FIT XRMS: 0.045      FIT YRMS: 0.045  \n",
      "FIT RMSE: 0.064      FIT MAE: 0.059  \n",
      "\n",
      "RMS_RA: 3.7e-06 (deg)   RMS_DEC: 1.3e-06 (deg)\n",
      "\n",
      "Final solution based on  58  objects.\n",
      "wrote XY data to:  icct02jfq_flt_catalog_fit.match\n",
      "Total # points: 58\n",
      "# of points after clipping: 58\n",
      "Total # points: 58\n",
      "# of points after clipping: 58\n",
      "\n",
      "....Updating header for /user/jaguilar/tr14/data/my_data/icct02jfq_flt.fits...\n",
      "\n",
      "\n",
      "Processing /user/jaguilar/tr14/data/my_data/icct02jfq_flt.fits['SCI',1]\n",
      "\n",
      "Updating header for /user/jaguilar/tr14/data/my_data/icct02jfq_flt.fits[1]\n",
      "WCS Keywords\n",
      "\n",
      "CD_11  CD_12: 6.976180430918734e-06 3.303823614255674e-05\n",
      "CD_21  CD_22: 3.696396112790881e-05 -6.120771770778783e-06\n",
      "CRVAL    : 160.97287084588555 -59.574793313109204\n",
      "CRPIX    : 507.0 507.0\n",
      "NAXIS    : 1014 1014\n",
      "Plate Scale : 0.1354194212680372\n",
      "ORIENTAT : 100.49580272335918\n",
      "WCSNAME  :  Gaia\n",
      "Writing out shiftfile : Gaia_shifts.txt\n",
      "Trailer file written to:  tweakreg.log\n"
     ]
    },
    {
     "data": {
      "image/png": "[encoded data removed]",
      "text/plain": [
       "<Figure size 432x288 with 1 Axes>"
      ]
     },
     "metadata": {
      "needs_background": "light"
     },
     "output_type": "display_data"
    },
    {
     "data": {
      "image/png": "[encoded data removed]",
      "text/plain": [
       "<Figure size 432x288 with 4 Axes>"
      ]
     },
     "metadata": {
      "needs_background": "light"
     },
     "output_type": "display_data"
    }
   ],
   "source": [
    "tweakreg.TweakReg(ff,  # Pass input images\n",
    "                  updatehdr=True,  # update header with new WCS solution\n",
    "                  imagefindcfg={'threshold': thresh, 'conv_width': cw},  # Detection parameters, threshold varies for different data\n",
    "                  refcat=refcat,  # Use user supplied catalog (Gaia)\n",
    "                  interactive=False,\n",
    "                  see2dplot=False,\n",
    "                  shiftfile=True,  # Save out shift file (so we can look at shifts later)\n",
    "                  outshifts='Gaia_shifts.txt',  # name of the shift file\n",
    "                  wcsname=wcsname,  # Give our WCS a new name\n",
    "                  reusename=True,\n",
    "                  sigma=2.3,\n",
    "                  fitgeometry='general',  # Use the 6 parameter fit\n",
    "                  clean=False,\n",
    "                 )"
   ]
  },
  {
   "cell_type": "code",
   "execution_count": null,
   "metadata": {},
   "outputs": [],
   "source": []
  },
  {
   "cell_type": "code",
   "execution_count": 33,
   "metadata": {},
   "outputs": [],
   "source": [
    "# Look at the catalog"
   ]
  },
  {
   "cell_type": "code",
   "execution_count": 34,
   "metadata": {},
   "outputs": [],
   "source": [
    "cat_file = Path(f\"./{Path(ff[0]).name.split('.')[0]}_catalog_fit.match\")"
   ]
  },
  {
   "cell_type": "code",
   "execution_count": 35,
   "metadata": {},
   "outputs": [
    {
     "data": {
      "text/plain": [
       "False"
      ]
     },
     "execution_count": 35,
     "metadata": {},
     "output_type": "execute_result"
    }
   ],
   "source": [
    "cat_file.exists()"
   ]
  },
  {
   "cell_type": "code",
   "execution_count": 36,
   "metadata": {},
   "outputs": [
    {
     "data": {
      "text/plain": [
       "<module 'utils.cat_utils' from '/user/jaguilar/tr14/code/utils/cat_utils.py'>"
      ]
     },
     "execution_count": 36,
     "metadata": {},
     "output_type": "execute_result"
    }
   ],
   "source": [
    "from utils import cat_utils\n",
    "reload(cat_utils)"
   ]
  },
  {
   "cell_type": "code",
   "execution_count": 37,
   "metadata": {},
   "outputs": [
    {
     "data": {
      "text/plain": [
       "['x_ref',\n",
       " 'y_ref',\n",
       " 'x_input',\n",
       " 'y_input',\n",
       " 'x_fit',\n",
       " 'y_fit',\n",
       " 'x_resid',\n",
       " 'y_resid',\n",
       " 'x_orig_ref',\n",
       " 'y_orig_ref',\n",
       " 'x_orig_input',\n",
       " 'y_orig_input',\n",
       " 'ref_id',\n",
       " 'input_id',\n",
       " 'input_extver_id',\n",
       " 'ra',\n",
       " 'dec',\n",
       " 'ref_source']"
      ]
     },
     "execution_count": 37,
     "metadata": {},
     "output_type": "execute_result"
    }
   ],
   "source": [
    "cat_utils.cat_fit_columns"
   ]
  },
  {
   "cell_type": "code",
   "execution_count": 38,
   "metadata": {},
   "outputs": [],
   "source": [
    "import pandas as pd"
   ]
  },
  {
   "cell_type": "code",
   "execution_count": 39,
   "metadata": {},
   "outputs": [
    {
     "data": {
      "text/plain": [
       "<module 'utils.cat_utils' from '/user/jaguilar/tr14/code/utils/cat_utils.py'>"
      ]
     },
     "execution_count": 39,
     "metadata": {},
     "output_type": "execute_result"
    }
   ],
   "source": [
    "reload(cat_utils)"
   ]
  },
  {
   "cell_type": "code",
   "execution_count": null,
   "metadata": {},
   "outputs": [],
   "source": [
    "master_catalog = pd.concat([cat_utils.catalog2pandas(f) \n",
    "                           for f in glob.glob(\"*catalog_fit.match\")])\n",
    "# make a unique index for each point source\n",
    "master_catalog = master_catalog.reset_index(drop=True).reset_index()\n",
    "master_catalog.rename(columns={'index':'sourceid'}, inplace=True)"
   ]
  },
  {
   "cell_type": "code",
   "execution_count": null,
   "metadata": {},
   "outputs": [],
   "source": []
  },
  {
   "cell_type": "code",
   "execution_count": null,
   "metadata": {},
   "outputs": [],
   "source": [
    "master_catalog.to_csv(\"../data/tables/master_fullframe_source_catalog.csv\")"
   ]
  },
  {
   "cell_type": "code",
   "execution_count": null,
   "metadata": {},
   "outputs": [],
   "source": [
    "files = master_catalog['file_id'].unique()"
   ]
  },
  {
   "cell_type": "code",
   "execution_count": null,
   "metadata": {},
   "outputs": [],
   "source": [
    "files"
   ]
  },
  {
   "cell_type": "code",
   "execution_count": null,
   "metadata": {},
   "outputs": [],
   "source": [
    "# example file\n",
    "ff = files[0]\n",
    "sub_catalog = master_catalog.query(f\"file_id == '{ff}'\")"
   ]
  },
  {
   "cell_type": "code",
   "execution_count": null,
   "metadata": {},
   "outputs": [],
   "source": [
    "hdulist = fits.open(glob.glob(f\"../data/my_data/{ff}*fits\")[0])\n",
    "data = hdulist[1].data\n",
    "hdulist.close()"
   ]
  },
  {
   "cell_type": "code",
   "execution_count": null,
   "metadata": {},
   "outputs": [],
   "source": [
    "fig, ax = plt.subplots(1, 1, figsize=(15,15))\n",
    "ax.imshow(data, origin='lower', norm=mpl.colors.LogNorm(), cmap=mpl.cm.magma)\n",
    "ax.set_title(rf\"Threshold = {thresh} $\\sigma$ above local bgnd\", size='xx-large')\n",
    "ax.set_xlabel(\"X [pix]\", size='xx-large')\n",
    "ax.set_ylabel(\"Y [pix]\", size='xx-large')\n",
    "ax.tick_params(labelsize='x-large')\n",
    "ax.scatter(sub_catalog['x_orig_input'], \n",
    "           sub_catalog['y_orig_input'], \n",
    "           marker='o', ec='w', fc='none', s=100)\n",
    "ax.set_xlim(0, data.shape[1])\n",
    "ax.set_ylim(0, data.shape[0])\n",
    "# for i, row in sub_catalog.iterrows():\n",
    "#     s = '{0:0.2f}, {1:0.2f}'.format(*row[['ra','dec']])\n",
    "#     ax.annotate(s, row[['x_orig_input','y_orig_input']],\n",
    "#                 fontsize='large',\n",
    "#                 verticalalignment='top', horizontalalignment='center')\n",
    "fname = f\"./figs/tweakreg_demo_{thresh}.png\"\n",
    "print(fname)\n",
    "if False:\n",
    "    fig.savefig(fname, bbox_inches='tight')"
   ]
  },
  {
   "cell_type": "code",
   "execution_count": null,
   "metadata": {},
   "outputs": [],
   "source": [
    "sub_catalog['input_id'].unique().size"
   ]
  },
  {
   "cell_type": "code",
   "execution_count": null,
   "metadata": {},
   "outputs": [],
   "source": [
    "tab_html = master_catalog.to_html()"
   ]
  },
  {
   "cell_type": "code",
   "execution_count": null,
   "metadata": {},
   "outputs": [],
   "source": [
    "html = open(\"table.html\", 'w')\n",
    "html.write(tab_html)\n",
    "html.close()"
   ]
  },
  {
   "cell_type": "code",
   "execution_count": null,
   "metadata": {},
   "outputs": [],
   "source": []
  },
  {
   "cell_type": "code",
   "execution_count": null,
   "metadata": {},
   "outputs": [],
   "source": [
    "gb_fileid = master_catalog.groupby(\"file_id\")"
   ]
  },
  {
   "cell_type": "code",
   "execution_count": null,
   "metadata": {},
   "outputs": [],
   "source": [
    "groups = list(gb_fileid.groups.keys())"
   ]
  },
  {
   "cell_type": "code",
   "execution_count": null,
   "metadata": {},
   "outputs": [],
   "source": [
    "print(gb_fileid.get_group(groups[0])['ref_id'].size)\n",
    "print(gb_fileid.get_group(groups[1])['ref_id'].size)\n"
   ]
  },
  {
   "cell_type": "code",
   "execution_count": null,
   "metadata": {},
   "outputs": [],
   "source": [
    "for i in cat1.ref_id.unique():\n",
    "    if i not in cat0.ref_id.unique():\n",
    "        print(i)"
   ]
  },
  {
   "cell_type": "code",
   "execution_count": null,
   "metadata": {},
   "outputs": [],
   "source": [
    "cat0 = gb_fileid.get_group(groups[0])\n",
    "cat1 = gb_fileid.get_group(groups[1])"
   ]
  },
  {
   "cell_type": "code",
   "execution_count": null,
   "metadata": {},
   "outputs": [],
   "source": [
    "np.sort(cat0.ref_id.unique())"
   ]
  },
  {
   "cell_type": "code",
   "execution_count": null,
   "metadata": {},
   "outputs": [],
   "source": [
    "np.sort(cat1.ref_id.unique())"
   ]
  }
 ],
 "metadata": {
  "kernelspec": {
   "display_name": "Python 3",
   "language": "python",
   "name": "python3"
  },
  "language_info": {
   "codemirror_mode": {
    "name": "ipython",
    "version": 3
   },
   "file_extension": ".py",
   "mimetype": "text/x-python",
   "name": "python",
   "nbconvert_exporter": "python",
   "pygments_lexer": "ipython3",
   "version": "3.6.9"
  }
 },
 "nbformat": 4,
 "nbformat_minor": 4
}
