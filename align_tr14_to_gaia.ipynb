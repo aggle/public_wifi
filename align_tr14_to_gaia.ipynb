{
 "cells": [
  {
   "cell_type": "markdown",
   "metadata": {},
   "source": [
    "# Aligning HST images to an absolute reference catalog\n",
    "***"
   ]
  },
  {
   "cell_type": "markdown",
   "metadata": {},
   "source": [
    "<div class=\"alert-danger\">Note: The notebook in this repository 'Initializtion.ipynb' goes over many of the basic concepts such as the setup of the environment/package installation and should be read first if you are new to HST images, 'DrizzlePac' or 'Astroquery'.</div>"
   ]
  },
  {
   "cell_type": "markdown",
   "metadata": {},
   "source": [
    "<div class=\"alert-warning\">Note: This notebook is based on WFC3 ISR 2017-19: <a href=\"http://www.stsci.edu/hst/wfc3/documents/ISRs/WFC3-2017-19.pdf\">Aligning HST Images to Gaia: a Faster Mosaicking Workflow</a> and contains a subset of the information/code found in <a href=\"https://github.com/spacetelescope/gaia_alignment\">the repository here</a>.  For more information, see the notebook in that repository titled 'Gaia_alignment.ipynb'.</div>"
   ]
  },
  {
   "cell_type": "markdown",
   "metadata": {},
   "source": [
    "## Introduction"
   ]
  },
  {
   "cell_type": "markdown",
   "metadata": {},
   "source": [
    "The alignment of HST exposures is a critical step in image stacking/combination performed by software such as `AstroDrizzle`.  Generally, a relative alignment is performed that aligns one image (or multiple images) to another image which is designated as the reference image.  This makes it so the images are aligned to each other, but the pointing error of the observatory can still cause the images to have incorrect absolute astrometry.\n",
    "\n",
    "When absolute astrometry is desired, the images can be aligned to an external catalog that is known to be on an absolute frame.  In this example, we will provide a workflow to query catalogs such as SDSS and Gaia via the astroquery package, and then align the images to that catalog via TweakReg.\n",
    "\n",
    "For more information about TweakReg, see the other notebooks in this repository or the __[TweakReg Documentation](https://drizzlepac.readthedocs.io/en/deployment/tweakreg.html)__.\n",
    "\n",
    "For more information on Astroquery, see the other notebooks in this repository or the __[Astroquery Documentation](https://astroquery.readthedocs.io/en/latest/)__."
   ]
  },
  {
   "cell_type": "code",
   "execution_count": 1,
   "metadata": {},
   "outputs": [
    {
     "name": "stdout",
     "output_type": "stream",
     "text": [
      "Created TAP+ (v1.2.1) - Connection:\n",
      "\tHost: gea.esac.esa.int\n",
      "\tUse HTTPS: True\n",
      "\tPort: 443\n",
      "\tSSL Port: 443\n",
      "Created TAP+ (v1.2.1) - Connection:\n",
      "\tHost: geadata.esac.esa.int\n",
      "\tUse HTTPS: True\n",
      "\tPort: 443\n",
      "\tSSL Port: 443\n",
      "The following task in the stsci.skypac package can be run with TEAL:\n",
      "                                    skymatch                                    \n",
      "The following tasks in the drizzlepac package can be run with TEAL:\n",
      "    astrodrizzle       config_testbed      imagefindpars           mapreg       \n",
      "       photeq            pixreplace           pixtopix            pixtosky      \n",
      "  refimagefindpars       resetbits          runastrodriz          skytopix      \n",
      "     tweakback            tweakreg           updatenpol\n"
     ]
    }
   ],
   "source": [
    "import astropy.units as u\n",
    "import glob\n",
    "import numpy as np\n",
    "import matplotlib.pyplot as plt\n",
    "import os\n",
    "\n",
    "from astropy.io import fits\n",
    "from astropy.table import Table\n",
    "from astropy.units import Quantity\n",
    "from astropy.coordinates import SkyCoord\n",
    "from astroquery.gaia import Gaia\n",
    "from astroquery.mast import Observations\n",
    "from astroquery.sdss import SDSS\n",
    "\n",
    "#from ccdproc import ImageFileCollection\n",
    "from IPython.display import Image\n",
    "\n",
    "from drizzlepac import tweakreg\n",
    "from drizzlepac import astrodrizzle"
   ]
  },
  {
   "cell_type": "markdown",
   "metadata": {},
   "source": [
    "# 1. Set up the data"
   ]
  },
  {
   "cell_type": "code",
   "execution_count": 9,
   "metadata": {},
   "outputs": [],
   "source": [
    "import tr14_headers as TH"
   ]
  },
  {
   "cell_type": "code",
   "execution_count": 10,
   "metadata": {},
   "outputs": [
    {
     "data": {
      "text/plain": [
       "<module 'tr14_headers' from '/user/jaguilar/tr14/code/tr14_headers.py'>"
      ]
     },
     "execution_count": 10,
     "metadata": {},
     "output_type": "execute_result"
    }
   ],
   "source": [
    "from importlib import reload\n",
    "reload(TH)"
   ]
  },
  {
   "cell_type": "code",
   "execution_count": 4,
   "metadata": {},
   "outputs": [],
   "source": [
    "prihdrs = TH.load_headers('pri')\n",
    "scihdrs = TH.load_headers('sci')"
   ]
  },
  {
   "cell_type": "code",
   "execution_count": 15,
   "metadata": {},
   "outputs": [
    {
     "data": {
      "text/plain": [
       "<pandas.core.groupby.generic.DataFrameGroupBy object at 0x1a1dad3be0>"
      ]
     },
     "execution_count": 15,
     "metadata": {},
     "output_type": "execute_result"
    }
   ],
   "source": [
    "# TH.print_columns(prihdrs)\n",
    "gb_filter = prihdrs.groupby('FILTER')\n",
    "gb_filter"
   ]
  },
  {
   "cell_type": "code",
   "execution_count": 22,
   "metadata": {
    "collapsed": true,
    "jupyter": {
     "outputs_hidden": true
    }
   },
   "outputs": [
    {
     "name": "stdout",
     "output_type": "stream",
     "text": [
      "ANG_SIDE\n",
      "APERTURE\n",
      "ASN_ID\n",
      "ASN_MTYP\n",
      "ASN_TAB\n",
      "ATODGNA\n",
      "ATODGNB\n",
      "ATODGNC\n",
      "ATODGND\n",
      "ATODTAB\n",
      "BADINPDQ\n",
      "BIACFILE\n",
      "BIASFILE\n",
      "BIASLEVA\n",
      "BIASLEVB\n",
      "BIASLEVC\n",
      "BIASLEVD\n",
      "BITPIX\n",
      "BLEVCORR\n",
      "BPIXTAB\n",
      "CAL_VER\n",
      "CCDAMP\n",
      "CCDGAIN\n",
      "CCDOFSAB\n",
      "CCDOFSCD\n",
      "CCDTAB\n",
      "COMPTAB\n",
      "CRCORR\n",
      "CRDS_CTX\n",
      "CRDS_VER\n",
      "CRMASK\n",
      "CRRADIUS\n",
      "CRREJTAB\n",
      "CRSIGMAS\n",
      "CRTHRESH\n",
      "CSMID\n",
      "CSYS_VER\n",
      "D2IMFILE\n",
      "DARKCORR\n",
      "DARKFILE\n",
      "DATE\n",
      "DATE-OBS\n",
      "DEC_TARG\n",
      "DETECTOR\n",
      "DFLTFILE\n",
      "DGEOFILE\n",
      "DIRIMAGE\n",
      "DISTNAME\n",
      "DQICORR\n",
      "DRIZCORR\n",
      "DRKCFILE\n",
      "DWELL_LN\n",
      "DWELL_TM\n",
      "EQUINOX\n",
      "EXPEND\n",
      "EXPFLAG\n",
      "EXPSTART\n",
      "EXPTIME\n",
      "EXTEND\n",
      "FGSLOCK\n",
      "FILENAME\n",
      "FILETYPE\n",
      "FILTER\n",
      "FLATCORR\n",
      "FLSHFILE\n",
      "GRAPHTAB\n",
      "GYROMODE\n",
      "IDCTAB\n",
      "IMAGETYP\n",
      "IMPHTTAB\n",
      "INITGUES\n",
      "INSTRUME\n",
      "LFLTFILE\n",
      "LINENUM\n",
      "MDRIZTAB\n",
      "MEANEXP\n",
      "MOONANGL\n",
      "MTFLAG\n",
      "NAXIS\n",
      "NEXTEND\n",
      "NLINCORR\n",
      "NLINFILE\n",
      "NO_LINES\n",
      "NPOLFILE\n",
      "NRPTEXP\n",
      "NSAMP\n",
      "OBSMODE\n",
      "OBSTYPE\n",
      "OPUS_VER\n",
      "ORIGIN\n",
      "OSCNTAB\n",
      "P1_ANGLE\n",
      "P1_CENTR\n",
      "P1_FRAME\n",
      "P1_LSPAC\n",
      "P1_NPTS\n",
      "P1_ORINT\n",
      "P1_PSPAC\n",
      "P1_PURPS\n",
      "P1_SHAPE\n",
      "PATTERN1\n",
      "PATTSTEP\n",
      "PA_V3\n",
      "PCTETAB\n",
      "PFLTFILE\n",
      "PHOTBW\n",
      "PHOTCORR\n",
      "PHOTFLAM\n",
      "PHOTFNU\n",
      "PHOTMODE\n",
      "PHOTPLAM\n",
      "PHOTZPT\n",
      "POSTARG1\n",
      "POSTARG2\n",
      "PRIMESI\n",
      "PROCTIME\n",
      "PROPAPER\n",
      "PROPOSID\n",
      "PR_INV_F\n",
      "PR_INV_L\n",
      "PR_INV_M\n",
      "PYWCSVER\n",
      "QUALCOM1\n",
      "QUALCOM2\n",
      "QUALCOM3\n",
      "QUALITY\n",
      "RA_TARG\n",
      "READNSEA\n",
      "READNSEB\n",
      "READNSEC\n",
      "READNSED\n",
      "REFFRAME\n",
      "REJ_RATE\n",
      "ROOTNAME\n",
      "RPTCORR\n",
      "SAACRMAP\n",
      "SAA_DARK\n",
      "SAA_EXIT\n",
      "SAA_TIME\n",
      "SAMPZERO\n",
      "SAMP_SEQ\n",
      "SCALENSE\n",
      "SCAN_ANG\n",
      "SCAN_COR\n",
      "SCAN_LEN\n",
      "SCAN_RAT\n",
      "SCAN_TYP\n",
      "SCAN_WID\n",
      "SCLAMP\n",
      "SIMPLE\n",
      "SIPNAME\n",
      "SKYSUB\n",
      "SKYSUM\n",
      "SNKCFILE\n",
      "SUBARRAY\n",
      "SUBTYPE\n",
      "SUNANGLE\n",
      "SUN_ALT\n",
      "TARGNAME\n",
      "TELESCOP\n",
      "TIME-OBS\n",
      "T_SGSTAR\n",
      "UNITCORR\n",
      "UPWCSVER\n",
      "ZOFFCORR\n",
      "ZSIGCORR\n"
     ]
    }
   ],
   "source": [
    "TH.print_columns(prihdrs)"
   ]
  },
  {
   "cell_type": "code",
   "execution_count": 63,
   "metadata": {},
   "outputs": [
    {
     "data": {
      "text/plain": [
       "array(['FULLIMAG'], dtype=object)"
      ]
     },
     "execution_count": 63,
     "metadata": {},
     "output_type": "execute_result"
    }
   ],
   "source": [
    "prihdrs.query('SUBARRAY == False')['SUBTYPE'].unique()"
   ]
  },
  {
   "cell_type": "code",
   "execution_count": 21,
   "metadata": {},
   "outputs": [],
   "source": [
    "filters = list(gb_filter.groups.keys())"
   ]
  },
  {
   "cell_type": "code",
   "execution_count": 28,
   "metadata": {},
   "outputs": [
    {
     "data": {
      "text/html": [
       "<div>\n",
       "<style scoped>\n",
       "    .dataframe tbody tr th:only-of-type {\n",
       "        vertical-align: middle;\n",
       "    }\n",
       "\n",
       "    .dataframe tbody tr th {\n",
       "        vertical-align: top;\n",
       "    }\n",
       "\n",
       "    .dataframe thead th {\n",
       "        text-align: right;\n",
       "    }\n",
       "</style>\n",
       "<table border=\"1\" class=\"dataframe\">\n",
       "  <thead>\n",
       "    <tr style=\"text-align: right;\">\n",
       "      <th></th>\n",
       "      <th>SIMPLE</th>\n",
       "      <th>BITPIX</th>\n",
       "      <th>NAXIS</th>\n",
       "      <th>EXTEND</th>\n",
       "      <th>ORIGIN</th>\n",
       "      <th>DATE</th>\n",
       "      <th>NEXTEND</th>\n",
       "      <th>FILENAME</th>\n",
       "      <th>FILETYPE</th>\n",
       "      <th>TELESCOP</th>\n",
       "      <th>...</th>\n",
       "      <th>FLSHFILE</th>\n",
       "      <th>PCTETAB</th>\n",
       "      <th>SNKCFILE</th>\n",
       "      <th>UPWCSVER</th>\n",
       "      <th>PYWCSVER</th>\n",
       "      <th>NPOLFILE</th>\n",
       "      <th>IDCTAB</th>\n",
       "      <th>D2IMFILE</th>\n",
       "      <th>SIPNAME</th>\n",
       "      <th>DISTNAME</th>\n",
       "    </tr>\n",
       "  </thead>\n",
       "  <tbody>\n",
       "    <tr>\n",
       "      <th>1</th>\n",
       "      <td>True</td>\n",
       "      <td>16</td>\n",
       "      <td>0</td>\n",
       "      <td>True</td>\n",
       "      <td>HSTIO/CFITSIO March 2010</td>\n",
       "      <td>2020-01-01</td>\n",
       "      <td>13</td>\n",
       "      <td>icog01rjq_flt.fits</td>\n",
       "      <td>SCI</td>\n",
       "      <td>HST</td>\n",
       "      <td>...</td>\n",
       "      <td>NaN</td>\n",
       "      <td>NaN</td>\n",
       "      <td>NaN</td>\n",
       "      <td>1.4.0</td>\n",
       "      <td>3.0.4</td>\n",
       "      <td>NaN</td>\n",
       "      <td>iref$w3m18525i_idc.fits</td>\n",
       "      <td>NaN</td>\n",
       "      <td>icog01rjq_w3m18525i</td>\n",
       "      <td>icog01rjq_w3m18525i-NOMODEL-NOMODEL</td>\n",
       "    </tr>\n",
       "    <tr>\n",
       "      <th>2</th>\n",
       "      <td>True</td>\n",
       "      <td>16</td>\n",
       "      <td>0</td>\n",
       "      <td>True</td>\n",
       "      <td>HSTIO/CFITSIO March 2010</td>\n",
       "      <td>2020-01-01</td>\n",
       "      <td>14</td>\n",
       "      <td>icog02sfq_flt.fits</td>\n",
       "      <td>SCI</td>\n",
       "      <td>HST</td>\n",
       "      <td>...</td>\n",
       "      <td>NaN</td>\n",
       "      <td>NaN</td>\n",
       "      <td>NaN</td>\n",
       "      <td>1.4.0</td>\n",
       "      <td>3.0.4</td>\n",
       "      <td>NaN</td>\n",
       "      <td>iref$w3m18525i_idc.fits</td>\n",
       "      <td>NaN</td>\n",
       "      <td>icog02sfq_w3m18525i</td>\n",
       "      <td>icog02sfq_w3m18525i-NOMODEL-NOMODEL</td>\n",
       "    </tr>\n",
       "    <tr>\n",
       "      <th>4</th>\n",
       "      <td>True</td>\n",
       "      <td>16</td>\n",
       "      <td>0</td>\n",
       "      <td>True</td>\n",
       "      <td>HSTIO/CFITSIO March 2010</td>\n",
       "      <td>2019-12-30</td>\n",
       "      <td>14</td>\n",
       "      <td>icct04omq_flt.fits</td>\n",
       "      <td>SCI</td>\n",
       "      <td>HST</td>\n",
       "      <td>...</td>\n",
       "      <td>NaN</td>\n",
       "      <td>NaN</td>\n",
       "      <td>NaN</td>\n",
       "      <td>1.4.0</td>\n",
       "      <td>3.0.4</td>\n",
       "      <td>NaN</td>\n",
       "      <td>iref$w3m18525i_idc.fits</td>\n",
       "      <td>NaN</td>\n",
       "      <td>icct04omq_w3m18525i</td>\n",
       "      <td>icct04omq_w3m18525i-NOMODEL-NOMODEL</td>\n",
       "    </tr>\n",
       "    <tr>\n",
       "      <th>5</th>\n",
       "      <td>True</td>\n",
       "      <td>16</td>\n",
       "      <td>0</td>\n",
       "      <td>True</td>\n",
       "      <td>HSTIO/CFITSIO March 2010</td>\n",
       "      <td>2019-12-30</td>\n",
       "      <td>13</td>\n",
       "      <td>icct04p1q_flt.fits</td>\n",
       "      <td>SCI</td>\n",
       "      <td>HST</td>\n",
       "      <td>...</td>\n",
       "      <td>NaN</td>\n",
       "      <td>NaN</td>\n",
       "      <td>NaN</td>\n",
       "      <td>1.4.0</td>\n",
       "      <td>3.0.4</td>\n",
       "      <td>NaN</td>\n",
       "      <td>iref$w3m18525i_idc.fits</td>\n",
       "      <td>NaN</td>\n",
       "      <td>icct04p1q_w3m18525i</td>\n",
       "      <td>icct04p1q_w3m18525i-NOMODEL-NOMODEL</td>\n",
       "    </tr>\n",
       "    <tr>\n",
       "      <th>12</th>\n",
       "      <td>True</td>\n",
       "      <td>16</td>\n",
       "      <td>0</td>\n",
       "      <td>True</td>\n",
       "      <td>HSTIO/CFITSIO March 2010</td>\n",
       "      <td>2020-01-01</td>\n",
       "      <td>14</td>\n",
       "      <td>icog02rzq_flt.fits</td>\n",
       "      <td>SCI</td>\n",
       "      <td>HST</td>\n",
       "      <td>...</td>\n",
       "      <td>NaN</td>\n",
       "      <td>NaN</td>\n",
       "      <td>NaN</td>\n",
       "      <td>1.4.0</td>\n",
       "      <td>3.0.4</td>\n",
       "      <td>NaN</td>\n",
       "      <td>iref$w3m18525i_idc.fits</td>\n",
       "      <td>NaN</td>\n",
       "      <td>icog02rzq_w3m18525i</td>\n",
       "      <td>icog02rzq_w3m18525i-NOMODEL-NOMODEL</td>\n",
       "    </tr>\n",
       "    <tr>\n",
       "      <th>...</th>\n",
       "      <td>...</td>\n",
       "      <td>...</td>\n",
       "      <td>...</td>\n",
       "      <td>...</td>\n",
       "      <td>...</td>\n",
       "      <td>...</td>\n",
       "      <td>...</td>\n",
       "      <td>...</td>\n",
       "      <td>...</td>\n",
       "      <td>...</td>\n",
       "      <td>...</td>\n",
       "      <td>...</td>\n",
       "      <td>...</td>\n",
       "      <td>...</td>\n",
       "      <td>...</td>\n",
       "      <td>...</td>\n",
       "      <td>...</td>\n",
       "      <td>...</td>\n",
       "      <td>...</td>\n",
       "      <td>...</td>\n",
       "      <td>...</td>\n",
       "    </tr>\n",
       "    <tr>\n",
       "      <th>176</th>\n",
       "      <td>True</td>\n",
       "      <td>16</td>\n",
       "      <td>0</td>\n",
       "      <td>True</td>\n",
       "      <td>HSTIO/CFITSIO March 2010</td>\n",
       "      <td>2020-01-01</td>\n",
       "      <td>13</td>\n",
       "      <td>icog01r8q_flt.fits</td>\n",
       "      <td>SCI</td>\n",
       "      <td>HST</td>\n",
       "      <td>...</td>\n",
       "      <td>NaN</td>\n",
       "      <td>NaN</td>\n",
       "      <td>NaN</td>\n",
       "      <td>1.4.0</td>\n",
       "      <td>3.0.4</td>\n",
       "      <td>NaN</td>\n",
       "      <td>iref$w3m18525i_idc.fits</td>\n",
       "      <td>NaN</td>\n",
       "      <td>icog01r8q_w3m18525i</td>\n",
       "      <td>icog01r8q_w3m18525i-NOMODEL-NOMODEL</td>\n",
       "    </tr>\n",
       "    <tr>\n",
       "      <th>177</th>\n",
       "      <td>True</td>\n",
       "      <td>16</td>\n",
       "      <td>0</td>\n",
       "      <td>True</td>\n",
       "      <td>HSTIO/CFITSIO March 2010</td>\n",
       "      <td>2019-12-30</td>\n",
       "      <td>13</td>\n",
       "      <td>icct04oxq_flt.fits</td>\n",
       "      <td>SCI</td>\n",
       "      <td>HST</td>\n",
       "      <td>...</td>\n",
       "      <td>NaN</td>\n",
       "      <td>NaN</td>\n",
       "      <td>NaN</td>\n",
       "      <td>1.4.0</td>\n",
       "      <td>3.0.4</td>\n",
       "      <td>NaN</td>\n",
       "      <td>iref$w3m18525i_idc.fits</td>\n",
       "      <td>NaN</td>\n",
       "      <td>icct04oxq_w3m18525i</td>\n",
       "      <td>icct04oxq_w3m18525i-NOMODEL-NOMODEL</td>\n",
       "    </tr>\n",
       "    <tr>\n",
       "      <th>178</th>\n",
       "      <td>True</td>\n",
       "      <td>16</td>\n",
       "      <td>0</td>\n",
       "      <td>True</td>\n",
       "      <td>HSTIO/CFITSIO March 2010</td>\n",
       "      <td>2019-12-30</td>\n",
       "      <td>13</td>\n",
       "      <td>icct04p0q_flt.fits</td>\n",
       "      <td>SCI</td>\n",
       "      <td>HST</td>\n",
       "      <td>...</td>\n",
       "      <td>NaN</td>\n",
       "      <td>NaN</td>\n",
       "      <td>NaN</td>\n",
       "      <td>1.4.0</td>\n",
       "      <td>3.0.4</td>\n",
       "      <td>NaN</td>\n",
       "      <td>iref$w3m18525i_idc.fits</td>\n",
       "      <td>NaN</td>\n",
       "      <td>icct04p0q_w3m18525i</td>\n",
       "      <td>icct04p0q_w3m18525i-NOMODEL-NOMODEL</td>\n",
       "    </tr>\n",
       "    <tr>\n",
       "      <th>180</th>\n",
       "      <td>True</td>\n",
       "      <td>16</td>\n",
       "      <td>0</td>\n",
       "      <td>True</td>\n",
       "      <td>HSTIO/CFITSIO March 2010</td>\n",
       "      <td>2019-12-30</td>\n",
       "      <td>13</td>\n",
       "      <td>icct04p7q_flt.fits</td>\n",
       "      <td>SCI</td>\n",
       "      <td>HST</td>\n",
       "      <td>...</td>\n",
       "      <td>NaN</td>\n",
       "      <td>NaN</td>\n",
       "      <td>NaN</td>\n",
       "      <td>1.4.0</td>\n",
       "      <td>3.0.4</td>\n",
       "      <td>NaN</td>\n",
       "      <td>iref$w3m18525i_idc.fits</td>\n",
       "      <td>NaN</td>\n",
       "      <td>icct04p7q_w3m18525i</td>\n",
       "      <td>icct04p7q_w3m18525i-NOMODEL-NOMODEL</td>\n",
       "    </tr>\n",
       "    <tr>\n",
       "      <th>181</th>\n",
       "      <td>True</td>\n",
       "      <td>16</td>\n",
       "      <td>0</td>\n",
       "      <td>True</td>\n",
       "      <td>HSTIO/CFITSIO March 2010</td>\n",
       "      <td>2019-12-30</td>\n",
       "      <td>13</td>\n",
       "      <td>icct03meq_flt.fits</td>\n",
       "      <td>SCI</td>\n",
       "      <td>HST</td>\n",
       "      <td>...</td>\n",
       "      <td>NaN</td>\n",
       "      <td>NaN</td>\n",
       "      <td>NaN</td>\n",
       "      <td>1.4.0</td>\n",
       "      <td>3.0.4</td>\n",
       "      <td>NaN</td>\n",
       "      <td>iref$w3m18525i_idc.fits</td>\n",
       "      <td>NaN</td>\n",
       "      <td>icct03meq_w3m18525i</td>\n",
       "      <td>icct03meq_w3m18525i-NOMODEL-NOMODEL</td>\n",
       "    </tr>\n",
       "  </tbody>\n",
       "</table>\n",
       "<p>121 rows × 166 columns</p>\n",
       "</div>"
      ],
      "text/plain": [
       "     SIMPLE  BITPIX  NAXIS  EXTEND                    ORIGIN        DATE  \\\n",
       "1      True      16      0    True  HSTIO/CFITSIO March 2010  2020-01-01   \n",
       "2      True      16      0    True  HSTIO/CFITSIO March 2010  2020-01-01   \n",
       "4      True      16      0    True  HSTIO/CFITSIO March 2010  2019-12-30   \n",
       "5      True      16      0    True  HSTIO/CFITSIO March 2010  2019-12-30   \n",
       "12     True      16      0    True  HSTIO/CFITSIO March 2010  2020-01-01   \n",
       "..      ...     ...    ...     ...                       ...         ...   \n",
       "176    True      16      0    True  HSTIO/CFITSIO March 2010  2020-01-01   \n",
       "177    True      16      0    True  HSTIO/CFITSIO March 2010  2019-12-30   \n",
       "178    True      16      0    True  HSTIO/CFITSIO March 2010  2019-12-30   \n",
       "180    True      16      0    True  HSTIO/CFITSIO March 2010  2019-12-30   \n",
       "181    True      16      0    True  HSTIO/CFITSIO March 2010  2019-12-30   \n",
       "\n",
       "     NEXTEND            FILENAME FILETYPE TELESCOP  ... FLSHFILE  PCTETAB  \\\n",
       "1         13  icog01rjq_flt.fits      SCI      HST  ...      NaN      NaN   \n",
       "2         14  icog02sfq_flt.fits      SCI      HST  ...      NaN      NaN   \n",
       "4         14  icct04omq_flt.fits      SCI      HST  ...      NaN      NaN   \n",
       "5         13  icct04p1q_flt.fits      SCI      HST  ...      NaN      NaN   \n",
       "12        14  icog02rzq_flt.fits      SCI      HST  ...      NaN      NaN   \n",
       "..       ...                 ...      ...      ...  ...      ...      ...   \n",
       "176       13  icog01r8q_flt.fits      SCI      HST  ...      NaN      NaN   \n",
       "177       13  icct04oxq_flt.fits      SCI      HST  ...      NaN      NaN   \n",
       "178       13  icct04p0q_flt.fits      SCI      HST  ...      NaN      NaN   \n",
       "180       13  icct04p7q_flt.fits      SCI      HST  ...      NaN      NaN   \n",
       "181       13  icct03meq_flt.fits      SCI      HST  ...      NaN      NaN   \n",
       "\n",
       "    SNKCFILE UPWCSVER PYWCSVER NPOLFILE                   IDCTAB  D2IMFILE  \\\n",
       "1        NaN    1.4.0    3.0.4      NaN  iref$w3m18525i_idc.fits       NaN   \n",
       "2        NaN    1.4.0    3.0.4      NaN  iref$w3m18525i_idc.fits       NaN   \n",
       "4        NaN    1.4.0    3.0.4      NaN  iref$w3m18525i_idc.fits       NaN   \n",
       "5        NaN    1.4.0    3.0.4      NaN  iref$w3m18525i_idc.fits       NaN   \n",
       "12       NaN    1.4.0    3.0.4      NaN  iref$w3m18525i_idc.fits       NaN   \n",
       "..       ...      ...      ...      ...                      ...       ...   \n",
       "176      NaN    1.4.0    3.0.4      NaN  iref$w3m18525i_idc.fits       NaN   \n",
       "177      NaN    1.4.0    3.0.4      NaN  iref$w3m18525i_idc.fits       NaN   \n",
       "178      NaN    1.4.0    3.0.4      NaN  iref$w3m18525i_idc.fits       NaN   \n",
       "180      NaN    1.4.0    3.0.4      NaN  iref$w3m18525i_idc.fits       NaN   \n",
       "181      NaN    1.4.0    3.0.4      NaN  iref$w3m18525i_idc.fits       NaN   \n",
       "\n",
       "                 SIPNAME                             DISTNAME  \n",
       "1    icog01rjq_w3m18525i  icog01rjq_w3m18525i-NOMODEL-NOMODEL  \n",
       "2    icog02sfq_w3m18525i  icog02sfq_w3m18525i-NOMODEL-NOMODEL  \n",
       "4    icct04omq_w3m18525i  icct04omq_w3m18525i-NOMODEL-NOMODEL  \n",
       "5    icct04p1q_w3m18525i  icct04p1q_w3m18525i-NOMODEL-NOMODEL  \n",
       "12   icog02rzq_w3m18525i  icog02rzq_w3m18525i-NOMODEL-NOMODEL  \n",
       "..                   ...                                  ...  \n",
       "176  icog01r8q_w3m18525i  icog01r8q_w3m18525i-NOMODEL-NOMODEL  \n",
       "177  icct04oxq_w3m18525i  icct04oxq_w3m18525i-NOMODEL-NOMODEL  \n",
       "178  icct04p0q_w3m18525i  icct04p0q_w3m18525i-NOMODEL-NOMODEL  \n",
       "180  icct04p7q_w3m18525i  icct04p7q_w3m18525i-NOMODEL-NOMODEL  \n",
       "181  icct03meq_w3m18525i  icct03meq_w3m18525i-NOMODEL-NOMODEL  \n",
       "\n",
       "[121 rows x 166 columns]"
      ]
     },
     "execution_count": 28,
     "metadata": {},
     "output_type": "execute_result"
    }
   ],
   "source": [
    "gb_filter.get_group(filters[1]).query(\"FILETYPE == 'SCI'\")"
   ]
  },
  {
   "cell_type": "code",
   "execution_count": 29,
   "metadata": {},
   "outputs": [],
   "source": [
    "# # Get the observation records\n",
    "# obsTable = Observations.query_criteria(obs_id='ibwb01*', proposal_id=12692, obstype='all', filters='F606W')\n",
    "\n",
    "# # Get the listing of data products\n",
    "# products = Observations.get_product_list(obsTable)\n",
    "\n",
    "# # Filter the products for exposures\n",
    "# filtered_products = Observations.filter_products(products, productSubGroupDescription='FLC')\n",
    "\n",
    "# # Show the table\n",
    "# filtered_products"
   ]
  },
  {
   "cell_type": "code",
   "execution_count": 30,
   "metadata": {},
   "outputs": [],
   "source": [
    "# # Download all the images above\n",
    "# Observations.download_products(filtered_products, mrp_only=False)"
   ]
  },
  {
   "cell_type": "code",
   "execution_count": 31,
   "metadata": {},
   "outputs": [],
   "source": [
    "# # For convenience, move the products into the current directory.\n",
    "# for flc in glob.glob('./mastDownload/HST/*/*flc.fits'):\n",
    "#     flc_name = os.path.split(flc)[-1]\n",
    "#     os.rename(flc, flc_name)"
   ]
  },
  {
   "cell_type": "markdown",
   "metadata": {},
   "source": [
    "### Inspect the image header\n",
    "\n",
    "The cell below shows how to query information from the image header using `ImageFileCollection` in `ccdproc`. \n",
    "We see that the 1st exposure is 30 seconds and the 2nd and 3rd exposures are 360 seconds. The 3rd exposure is dithered by ~82\" in the Y-direction which is approximately the width of one UVIS chip. "
   ]
  },
  {
   "cell_type": "code",
   "execution_count": 32,
   "metadata": {},
   "outputs": [],
   "source": [
    "# collec = ImageFileCollection('./', glob_include=\"*flc.fits\", ext=0,\n",
    "#                              keywords=[\"targname\", \"ra_targ\", \"dec_targ\", \"filter\", \"exptime\", \"postarg1\", \"postarg2\"])\n",
    "\n",
    "# table = collec.summary\n",
    "# table['exptime'].format = '7.1f'\n",
    "# table['ra_targ'].format = '7.7f'\n",
    "# table['dec_targ'].format = '7.7f'\n",
    "# table['postarg1'].format = '7.2f'\n",
    "# table['postarg2'].format = '7.2f'\n",
    "# table"
   ]
  },
  {
   "cell_type": "markdown",
   "metadata": {},
   "source": [
    "# 2. Querying catalogs\n",
    "\n",
    "Now that we have the images, we will download the reference catalogs from both SDSS and Gaia using `astroquery`."
   ]
  },
  {
   "cell_type": "code",
   "execution_count": 33,
   "metadata": {},
   "outputs": [],
   "source": [
    "# import ccdproc"
   ]
  },
  {
   "cell_type": "markdown",
   "metadata": {},
   "source": [
    "### 2a. Identify Coordinates\n",
    "We will first create a SkyCoord Object to point astroquery to where we are looking on the sky.  Since our example uses data from NGC 6791, we will use the `ra_targ` and `dec_targ` keywords from the first image to get the coordinates of the object."
   ]
  },
  {
   "cell_type": "code",
   "execution_count": 38,
   "metadata": {},
   "outputs": [],
   "source": [
    "RA, Dec = prihdrs[['RA_TARG','DEC_TARG']].mean()"
   ]
  },
  {
   "cell_type": "code",
   "execution_count": 40,
   "metadata": {},
   "outputs": [],
   "source": [
    "# RA = table['ra_targ'][0]\n",
    "# Dec = table['dec_targ'][0]"
   ]
  },
  {
   "cell_type": "markdown",
   "metadata": {},
   "source": [
    "### 2b. SDSS Query\n",
    "We now give those values to an astropy `SkyCoord` object, which we will pass to the SDSS.  Additionally, we use an astropy `Quantity` object to create a radius for the SDSS query.  We set the radius to 6 arcminutes to comfortably cover the area of our images. For reference UVIS detector field of view is ~2.7'x2.7' and a y-dither of 82\" covers a total area on the sky of ~2.7'x4.1'."
   ]
  },
  {
   "cell_type": "code",
   "execution_count": 41,
   "metadata": {},
   "outputs": [],
   "source": [
    "coord = SkyCoord(ra=RA, dec=Dec, unit=(u.deg, u.deg))\n",
    "radius = Quantity(6., u.arcmin)"
   ]
  },
  {
   "cell_type": "markdown",
   "metadata": {},
   "source": [
    "Then we only need to perform the query via the `SDSS.query_region` method of `astroquery.sdss`. The `spectro=False` keyword argument means we want to exclude spectroscopic objects, as we are looking for objects to match with an image.  \n",
    "\n",
    "In the fields parameter, we specify a list of fields we want returned by the query.  In this case we only need the position, and maybe a magnitude 'g' if we want to cut very dim and/or bright objects out of the catalog, as those are likely measured poorly. Details on selecting objects by magnitude may be found in the original ['Gaia_alignment' notebook](https://github.com/spacetelescope/gaia_alignment).  Many other fields are available in the SDSS query and are [documented here](http://cas.sdss.org/dr7/en/help/browser/description.asp?n=PhotoObj&t=V)."
   ]
  },
  {
   "cell_type": "markdown",
   "metadata": {},
   "source": [
    "### 2c. Gaia Query\n",
    "Similarly to SDSS, we can query Gaia catalogs for our target via `astroquery.gaia`.  We can use the same `coord` and  `radius` from the SDSS query."
   ]
  },
  {
   "cell_type": "code",
   "execution_count": 44,
   "metadata": {},
   "outputs": [
    {
     "name": "stdout",
     "output_type": "stream",
     "text": [
      "INFO: Query finished. [astroquery.utils.tap.core]\n"
     ]
    },
    {
     "data": {
      "text/html": [
       "<i>Table length=5113</i>\n",
       "<table id=\"table112186731376\" class=\"table-striped table-bordered table-condensed\">\n",
       "<thead><tr><th>solution_id</th><th>designation</th><th>source_id</th><th>random_index</th><th>ref_epoch</th><th>ra</th><th>ra_error</th><th>dec</th><th>dec_error</th><th>parallax</th><th>parallax_error</th><th>parallax_over_error</th><th>pmra</th><th>pmra_error</th><th>pmdec</th><th>pmdec_error</th><th>ra_dec_corr</th><th>ra_parallax_corr</th><th>ra_pmra_corr</th><th>ra_pmdec_corr</th><th>dec_parallax_corr</th><th>dec_pmra_corr</th><th>dec_pmdec_corr</th><th>parallax_pmra_corr</th><th>parallax_pmdec_corr</th><th>pmra_pmdec_corr</th><th>astrometric_n_obs_al</th><th>astrometric_n_obs_ac</th><th>astrometric_n_good_obs_al</th><th>astrometric_n_bad_obs_al</th><th>astrometric_gof_al</th><th>astrometric_chi2_al</th><th>astrometric_excess_noise</th><th>astrometric_excess_noise_sig</th><th>astrometric_params_solved</th><th>astrometric_primary_flag</th><th>astrometric_weight_al</th><th>astrometric_pseudo_colour</th><th>astrometric_pseudo_colour_error</th><th>mean_varpi_factor_al</th><th>astrometric_matched_observations</th><th>visibility_periods_used</th><th>astrometric_sigma5d_max</th><th>frame_rotator_object_type</th><th>matched_observations</th><th>duplicated_source</th><th>phot_g_n_obs</th><th>phot_g_mean_flux</th><th>phot_g_mean_flux_error</th><th>phot_g_mean_flux_over_error</th><th>phot_g_mean_mag</th><th>phot_bp_n_obs</th><th>phot_bp_mean_flux</th><th>phot_bp_mean_flux_error</th><th>phot_bp_mean_flux_over_error</th><th>phot_bp_mean_mag</th><th>phot_rp_n_obs</th><th>phot_rp_mean_flux</th><th>phot_rp_mean_flux_error</th><th>phot_rp_mean_flux_over_error</th><th>phot_rp_mean_mag</th><th>phot_bp_rp_excess_factor</th><th>phot_proc_mode</th><th>bp_rp</th><th>bp_g</th><th>g_rp</th><th>radial_velocity</th><th>radial_velocity_error</th><th>rv_nb_transits</th><th>rv_template_teff</th><th>rv_template_logg</th><th>rv_template_fe_h</th><th>phot_variable_flag</th><th>l</th><th>b</th><th>ecl_lon</th><th>ecl_lat</th><th>priam_flags</th><th>teff_val</th><th>teff_percentile_lower</th><th>teff_percentile_upper</th><th>a_g_val</th><th>a_g_percentile_lower</th><th>a_g_percentile_upper</th><th>e_bp_min_rp_val</th><th>e_bp_min_rp_percentile_lower</th><th>e_bp_min_rp_percentile_upper</th><th>flame_flags</th><th>radius_val</th><th>radius_percentile_lower</th><th>radius_percentile_upper</th><th>lum_val</th><th>lum_percentile_lower</th><th>lum_percentile_upper</th><th>datalink_url</th><th>epoch_photometry_url</th><th>dist</th></tr></thead>\n",
       "<thead><tr><th></th><th></th><th></th><th></th><th>yr</th><th>deg</th><th>mas</th><th>deg</th><th>mas</th><th>mas</th><th>mas</th><th></th><th>mas / yr</th><th>mas / yr</th><th>mas / yr</th><th>mas / yr</th><th></th><th></th><th></th><th></th><th></th><th></th><th></th><th></th><th></th><th></th><th></th><th></th><th></th><th></th><th></th><th></th><th>mas</th><th></th><th></th><th></th><th>1 / mas2</th><th>1 / um</th><th>1 / um</th><th></th><th></th><th></th><th>mas</th><th></th><th></th><th></th><th></th><th>electron / s</th><th>electron / s</th><th></th><th>mag</th><th></th><th>electron / s</th><th>electron / s</th><th></th><th>mag</th><th></th><th>electron / s</th><th>electron / s</th><th></th><th>mag</th><th></th><th></th><th>mag</th><th>mag</th><th>mag</th><th>km / s</th><th>km / s</th><th></th><th>K</th><th>log(cm.s**-2)</th><th>dex</th><th></th><th>deg</th><th>deg</th><th>deg</th><th>deg</th><th></th><th>K</th><th>K</th><th>K</th><th>mag</th><th>mag</th><th>mag</th><th>mag</th><th>mag</th><th>mag</th><th></th><th>Rsun</th><th>Rsun</th><th>Rsun</th><th>Lsun</th><th>Lsun</th><th>Lsun</th><th></th><th></th><th></th></tr></thead>\n",
       "<thead><tr><th>int64</th><th>object</th><th>int64</th><th>int64</th><th>float64</th><th>float64</th><th>float64</th><th>float64</th><th>float64</th><th>float64</th><th>float64</th><th>float32</th><th>float64</th><th>float64</th><th>float64</th><th>float64</th><th>float32</th><th>float32</th><th>float32</th><th>float32</th><th>float32</th><th>float32</th><th>float32</th><th>float32</th><th>float32</th><th>float32</th><th>int32</th><th>int32</th><th>int32</th><th>int32</th><th>float32</th><th>float32</th><th>float64</th><th>float64</th><th>int16</th><th>bool</th><th>float32</th><th>float64</th><th>float64</th><th>float32</th><th>int16</th><th>int16</th><th>float32</th><th>int32</th><th>int16</th><th>bool</th><th>int32</th><th>float64</th><th>float64</th><th>float32</th><th>float32</th><th>int32</th><th>float64</th><th>float64</th><th>float32</th><th>float32</th><th>int32</th><th>float64</th><th>float64</th><th>float32</th><th>float32</th><th>float32</th><th>int16</th><th>float32</th><th>float32</th><th>float32</th><th>float64</th><th>float64</th><th>int32</th><th>float32</th><th>float32</th><th>float32</th><th>object</th><th>float64</th><th>float64</th><th>float64</th><th>float64</th><th>int64</th><th>float32</th><th>float32</th><th>float32</th><th>float32</th><th>float32</th><th>float32</th><th>float32</th><th>float32</th><th>float32</th><th>int64</th><th>float32</th><th>float32</th><th>float32</th><th>float32</th><th>float32</th><th>float32</th><th>object</th><th>object</th><th>float64</th></tr></thead>\n",
       "<tr><td>1635721458409799680</td><td>Gaia DR2 5350363807162597120</td><td>5350363807162597120</td><td>872774637</td><td>2015.5</td><td>160.97658959010133</td><td>0.3365367713567268</td><td>-59.55249098182289</td><td>0.5359762944092921</td><td>0.8733720941089513</td><td>0.570336928617211</td><td>1.5313265</td><td>-7.576554319260021</td><td>1.3728263698855137</td><td>6.801937455810753</td><td>1.4254079927418715</td><td>-0.49423218</td><td>0.56721884</td><td>-0.30539086</td><td>0.46292046</td><td>-0.7448693</td><td>0.49659374</td><td>-0.6913826</td><td>-0.31673318</td><td>0.60329133</td><td>-0.76882905</td><td>98</td><td>0</td><td>98</td><td>0</td><td>8.656539</td><td>266.71506</td><td>1.5855562472222249</td><td>11.415050326483556</td><td>31</td><td>False</td><td>0.24230614</td><td>1.3966305627734596</td><td>0.08398083392477768</td><td>0.14143619</td><td>11</td><td>7</td><td>1.6897193</td><td>0</td><td>18</td><td>False</td><td>121</td><td>1095.1866439909002</td><td>12.487370361394136</td><td>87.703545</td><td>18.089645</td><td>0</td><td>--</td><td>--</td><td>--</td><td>--</td><td>0</td><td>--</td><td>--</td><td>--</td><td>--</td><td>--</td><td>2</td><td>--</td><td>--</td><td>--</td><td>--</td><td>--</td><td>0</td><td>--</td><td>--</td><td>--</td><td>NOT_AVAILABLE</td><td>287.40620919083364</td><td>-0.5811653178726762</td><td>201.77511694445386</td><td>-58.94352268928641</td><td>--</td><td>--</td><td>--</td><td>--</td><td>--</td><td>--</td><td>--</td><td>--</td><td>--</td><td>--</td><td>--</td><td>--</td><td>--</td><td>--</td><td>--</td><td>--</td><td>--</td><td>https://gea.esac.esa.int/data-server/datalink/links?ID=Gaia+DR2+5350363807162597120</td><td></td><td>0.00025705117541941473</td></tr>\n",
       "<tr><td>1635721458409799680</td><td>Gaia DR2 5350363807162600960</td><td>5350363807162600960</td><td>554132495</td><td>2015.5</td><td>160.9752749195771</td><td>0.23666025265549182</td><td>-59.55202940440821</td><td>0.18440279832755127</td><td>0.17859675545616702</td><td>0.2491473844034287</td><td>0.71683174</td><td>-6.865730232402158</td><td>0.49731530144695957</td><td>3.4834446552511324</td><td>0.40934003575809114</td><td>-0.40203255</td><td>-0.4906559</td><td>-0.48389843</td><td>0.22686647</td><td>0.35739252</td><td>0.23979399</td><td>0.034069628</td><td>0.15140158</td><td>0.12184655</td><td>-0.50753486</td><td>107</td><td>0</td><td>107</td><td>0</td><td>6.874439</td><td>233.9004</td><td>0.8965435607484064</td><td>7.789559363959298</td><td>31</td><td>False</td><td>0.66538364</td><td>1.4163943816826559</td><td>0.05606577883405044</td><td>-0.141339</td><td>13</td><td>11</td><td>0.51202726</td><td>0</td><td>16</td><td>False</td><td>110</td><td>1859.87196212324</td><td>17.601267614433954</td><td>105.66693</td><td>17.514658</td><td>0</td><td>--</td><td>--</td><td>--</td><td>--</td><td>0</td><td>--</td><td>--</td><td>--</td><td>--</td><td>--</td><td>0</td><td>--</td><td>--</td><td>--</td><td>--</td><td>--</td><td>0</td><td>--</td><td>--</td><td>--</td><td>NOT_AVAILABLE</td><td>287.4054041530133</td><td>-0.5810711200022349</td><td>201.77358067287093</td><td>-58.94369234256528</td><td>--</td><td>--</td><td>--</td><td>--</td><td>--</td><td>--</td><td>--</td><td>--</td><td>--</td><td>--</td><td>--</td><td>--</td><td>--</td><td>--</td><td>--</td><td>--</td><td>--</td><td>https://gea.esac.esa.int/data-server/datalink/links?ID=Gaia+DR2+5350363807162600960</td><td></td><td>0.0006180434944623526</td></tr>\n",
       "<tr><td>1635721458409799680</td><td>Gaia DR2 5350363807177544320</td><td>5350363807177544320</td><td>297173713</td><td>2015.5</td><td>160.97760872431365</td><td>0.058456827147598936</td><td>-59.552586158621004</td><td>0.053845716892018336</td><td>0.47650426446816463</td><td>0.062336493716011576</td><td>7.644066</td><td>-7.059883995198219</td><td>0.21731949052413146</td><td>2.4564070473547495</td><td>0.1560745809462433</td><td>-0.3052578</td><td>-0.14071378</td><td>-0.18975921</td><td>0.06786129</td><td>0.016301157</td><td>-0.19901782</td><td>0.28799936</td><td>0.27907574</td><td>-0.11736545</td><td>-0.7615284</td><td>164</td><td>0</td><td>164</td><td>0</td><td>5.575745</td><td>279.62338</td><td>0.25323106579313526</td><td>3.126236779772124</td><td>31</td><td>False</td><td>5.143497</td><td>1.389344494143694</td><td>0.016601430951264987</td><td>-0.017297843</td><td>19</td><td>13</td><td>0.23759463</td><td>0</td><td>24</td><td>False</td><td>174</td><td>7830.613091810981</td><td>35.725490809060425</td><td>219.1884</td><td>15.9538765</td><td>10</td><td>6661.4991618107615</td><td>131.02510729594516</td><td>50.841396</td><td>15.792459</td><td>10</td><td>12753.74259557759</td><td>135.52290154543456</td><td>94.10766</td><td>14.497826</td><td>2.4794025</td><td>1</td><td>1.2946329</td><td>-0.16141796</td><td>1.4560509</td><td>--</td><td>--</td><td>0</td><td>--</td><td>--</td><td>--</td><td>NOT_AVAILABLE</td><td>287.4067097805002</td><td>-0.5810065441878426</td><td>201.77593674018783</td><td>-58.94321138288983</td><td>102012</td><td>5095.6333</td><td>4284.4497</td><td>6938.0</td><td>--</td><td>--</td><td>--</td><td>--</td><td>--</td><td>--</td><td>--</td><td>--</td><td>--</td><td>--</td><td>--</td><td>--</td><td>--</td><td>https://gea.esac.esa.int/data-server/datalink/links?ID=Gaia+DR2+5350363807177544320</td><td></td><td>0.0006924405653873838</td></tr>\n",
       "<tr><td>1635721458409799680</td><td>Gaia DR2 5350363807164774016</td><td>5350363807164774016</td><td>64233126</td><td>2015.5</td><td>160.97701694527396</td><td>0.4661467587336632</td><td>-59.55160150571137</td><td>0.38897756223776037</td><td>--</td><td>--</td><td>--</td><td>--</td><td>--</td><td>--</td><td>--</td><td>0.3276335</td><td>--</td><td>--</td><td>--</td><td>--</td><td>--</td><td>--</td><td>--</td><td>--</td><td>--</td><td>86</td><td>0</td><td>86</td><td>0</td><td>5.644146</td><td>175.05194</td><td>1.1453052066300304</td><td>6.093349012997057</td><td>3</td><td>False</td><td>0.372946</td><td>--</td><td>--</td><td>-0.18437669</td><td>10</td><td>7</td><td>3.0213134</td><td>0</td><td>16</td><td>False</td><td>89</td><td>1229.7727692692158</td><td>24.894865821551363</td><td>49.39865</td><td>17.963804</td><td>0</td><td>--</td><td>--</td><td>--</td><td>--</td><td>0</td><td>--</td><td>--</td><td>--</td><td>--</td><td>--</td><td>2</td><td>--</td><td>--</td><td>--</td><td>--</td><td>--</td><td>0</td><td>--</td><td>--</td><td>--</td><td>NOT_AVAILABLE</td><td>287.40598217969494</td><td>-0.580278447418214</td><td>201.77414750544466</td><td>-58.94275591322072</td><td>--</td><td>--</td><td>--</td><td>--</td><td>--</td><td>--</td><td>--</td><td>--</td><td>--</td><td>--</td><td>--</td><td>--</td><td>--</td><td>--</td><td>--</td><td>--</td><td>--</td><td>https://gea.esac.esa.int/data-server/datalink/links?ID=Gaia+DR2+5350363807164774016</td><td></td><td>0.0007165610533669004</td></tr>\n",
       "<tr><td>1635721458409799680</td><td>Gaia DR2 5350363807164774144</td><td>5350363807164774144</td><td>681135959</td><td>2015.5</td><td>160.97778474503897</td><td>0.09356139801041796</td><td>-59.55185848300624</td><td>0.09564047681819698</td><td>0.18331491430686134</td><td>0.09845178853990817</td><td>1.8619765</td><td>-6.876432892802989</td><td>0.2929087933863187</td><td>1.857972742120534</td><td>0.20882412039023998</td><td>-0.30151895</td><td>0.03920707</td><td>-0.59059036</td><td>0.16441238</td><td>-0.04761568</td><td>0.452276</td><td>0.2986274</td><td>-0.44113562</td><td>-0.1404457</td><td>0.12829652</td><td>130</td><td>0</td><td>129</td><td>1</td><td>2.7790723</td><td>172.2842</td><td>0.274463180266782</td><td>1.909469138612906</td><td>31</td><td>False</td><td>3.0362558</td><td>1.3513356256909153</td><td>0.02314367528132484</td><td>-0.08420643</td><td>15</td><td>10</td><td>0.27840772</td><td>0</td><td>21</td><td>False</td><td>135</td><td>4456.439578358699</td><td>31.758339442912163</td><td>140.32344</td><td>16.565895</td><td>0</td><td>--</td><td>--</td><td>--</td><td>--</td><td>0</td><td>--</td><td>--</td><td>--</td><td>--</td><td>--</td><td>1</td><td>--</td><td>--</td><td>--</td><td>--</td><td>--</td><td>0</td><td>--</td><td>--</td><td>--</td><td>NOT_AVAILABLE</td><td>287.4064464244059</td><td>-0.5803223519980923</td><td>201.77502691733557</td><td>-58.94264821321227</td><td>--</td><td>--</td><td>--</td><td>--</td><td>--</td><td>--</td><td>--</td><td>--</td><td>--</td><td>--</td><td>--</td><td>--</td><td>--</td><td>--</td><td>--</td><td>--</td><td>--</td><td>https://gea.esac.esa.int/data-server/datalink/links?ID=Gaia+DR2+5350363807164774144</td><td></td><td>0.0007970766719345507</td></tr>\n",
       "<tr><td>1635721458409799680</td><td>Gaia DR2 5350363807162596992</td><td>5350363807162596992</td><td>1038909699</td><td>2015.5</td><td>160.9774709254362</td><td>0.7352821913407428</td><td>-59.5529562939828</td><td>0.520468686245913</td><td>--</td><td>--</td><td>--</td><td>--</td><td>--</td><td>--</td><td>--</td><td>-0.34282967</td><td>--</td><td>--</td><td>--</td><td>--</td><td>--</td><td>--</td><td>--</td><td>--</td><td>--</td><td>75</td><td>0</td><td>74</td><td>1</td><td>15.198942</td><td>443.52255</td><td>2.5533855641567693</td><td>28.701266859507975</td><td>3</td><td>False</td><td>0.12232617</td><td>--</td><td>--</td><td>0.15430887</td><td>9</td><td>7</td><td>1.206053</td><td>0</td><td>11</td><td>True</td><td>76</td><td>1020.6004835128136</td><td>23.636999517564874</td><td>43.17809</td><td>18.166225</td><td>0</td><td>--</td><td>--</td><td>--</td><td>--</td><td>0</td><td>--</td><td>--</td><td>--</td><td>--</td><td>--</td><td>2</td><td>--</td><td>--</td><td>--</td><td>--</td><td>--</td><td>0</td><td>--</td><td>--</td><td>--</td><td>NOT_AVAILABLE</td><td>287.4068221509242</td><td>-0.5813660583583186</td><td>201.77636708391879</td><td>-58.94351566685368</td><td>--</td><td>--</td><td>--</td><td>--</td><td>--</td><td>--</td><td>--</td><td>--</td><td>--</td><td>--</td><td>--</td><td>--</td><td>--</td><td>--</td><td>--</td><td>--</td><td>--</td><td>https://gea.esac.esa.int/data-server/datalink/links?ID=Gaia+DR2+5350363807162596992</td><td></td><td>0.0008864844044315183</td></tr>\n",
       "<tr><td>1635721458409799680</td><td>Gaia DR2 5350363807162597376</td><td>5350363807162597376</td><td>187272780</td><td>2015.5</td><td>160.97684489019733</td><td>3.436890244585913</td><td>-59.55318451232135</td><td>7.884165786401433</td><td>--</td><td>--</td><td>--</td><td>--</td><td>--</td><td>--</td><td>--</td><td>-0.7379766</td><td>--</td><td>--</td><td>--</td><td>--</td><td>--</td><td>--</td><td>--</td><td>--</td><td>--</td><td>44</td><td>0</td><td>44</td><td>0</td><td>19.084253</td><td>562.98517</td><td>8.153988051069291</td><td>55.697396805554945</td><td>3</td><td>False</td><td>0.012559708</td><td>--</td><td>--</td><td>-0.40361083</td><td>5</td><td>4</td><td>11164.244</td><td>0</td><td>8</td><td>False</td><td>71</td><td>401.89244154998846</td><td>11.696966684580623</td><td>34.35869</td><td>19.178091</td><td>0</td><td>--</td><td>--</td><td>--</td><td>--</td><td>0</td><td>--</td><td>--</td><td>--</td><td>--</td><td>--</td><td>2</td><td>--</td><td>--</td><td>--</td><td>--</td><td>--</td><td>0</td><td>--</td><td>--</td><td>--</td><td>NOT_AVAILABLE</td><td>287.40664942777033</td><td>-0.5817166190440493</td><td>201.77626859827947</td><td>-58.943903148055</td><td>--</td><td>--</td><td>--</td><td>--</td><td>--</td><td>--</td><td>--</td><td>--</td><td>--</td><td>--</td><td>--</td><td>--</td><td>--</td><td>--</td><td>--</td><td>--</td><td>--</td><td>https://gea.esac.esa.int/data-server/datalink/links?ID=Gaia+DR2+5350363807162597376</td><td></td><td>0.0009598812391282405</td></tr>\n",
       "<tr><td>1635721458409799680</td><td>Gaia DR2 5350363802856907648</td><td>5350363802856907648</td><td>337307949</td><td>2015.5</td><td>160.97640633484784</td><td>0.09269517286683586</td><td>-59.55084134204515</td><td>0.07345754991215726</td><td>1.045668973659678</td><td>0.10385348068556398</td><td>10.068694</td><td>-4.38623923987196</td><td>0.19218819563773576</td><td>1.0336034808888122</td><td>0.1626589173594566</td><td>-0.19564243</td><td>-0.29571608</td><td>-0.09872321</td><td>-0.09317401</td><td>0.18497972</td><td>-0.17715493</td><td>0.26419955</td><td>0.3968976</td><td>-0.25025433</td><td>-0.53945607</td><td>90</td><td>0</td><td>90</td><td>0</td><td>9.568629</td><td>279.2773</td><td>0.4134176820929637</td><td>13.65612211116233</td><td>31</td><td>False</td><td>4.5672464</td><td>1.3904443444779908</td><td>0.025095763885812174</td><td>-0.23053288</td><td>11</td><td>9</td><td>0.20300569</td><td>0</td><td>25</td><td>False</td><td>93</td><td>61432.58522794127</td><td>107.93620348794542</td><td>569.15643</td><td>13.717369</td><td>7</td><td>27187.485081732662</td><td>430.2799631582684</td><td>63.18557</td><td>14.265466</td><td>8</td><td>63900.60709446919</td><td>657.7413999907827</td><td>97.151566</td><td>12.7481575</td><td>1.4827325</td><td>0</td><td>1.5173082</td><td>0.54809666</td><td>0.9692116</td><td>--</td><td>--</td><td>0</td><td>--</td><td>--</td><td>--</td><td>NOT_AVAILABLE</td><td>287.4053516802311</td><td>-0.579752984114164</td><td>201.77266281983526</td><td>-58.94246107371606</td><td>102001</td><td>4449.0</td><td>4075.25</td><td>5000.0</td><td>--</td><td>--</td><td>--</td><td>--</td><td>--</td><td>--</td><td>200111</td><td>2.8706892</td><td>2.272851</td><td>3.4213889</td><td>2.9088185</td><td>2.3153448</td><td>3.5022922</td><td>https://gea.esac.esa.int/data-server/datalink/links?ID=Gaia+DR2+5350363802856907648</td><td></td><td>0.0014084140145356047</td></tr>\n",
       "<tr><td>1635721458409799680</td><td>Gaia DR2 5350363807177551232</td><td>5350363807177551232</td><td>626742521</td><td>2015.5</td><td>160.9794864988737</td><td>7.644798303544238</td><td>-59.55099177835437</td><td>2.657774313515754</td><td>--</td><td>--</td><td>--</td><td>--</td><td>--</td><td>--</td><td>--</td><td>-0.64079183</td><td>--</td><td>--</td><td>--</td><td>--</td><td>--</td><td>--</td><td>--</td><td>--</td><td>--</td><td>45</td><td>0</td><td>45</td><td>0</td><td>9.098069</td><td>187.16144</td><td>3.126299301910166</td><td>12.649688574588161</td><td>3</td><td>False</td><td>0.07342622</td><td>--</td><td>--</td><td>0.14781816</td><td>5</td><td>4</td><td>6721.4893</td><td>0</td><td>7</td><td>False</td><td>46</td><td>656.1815997103686</td><td>16.9122077939373</td><td>38.799286</td><td>18.645805</td><td>0</td><td>--</td><td>--</td><td>--</td><td>--</td><td>0</td><td>--</td><td>--</td><td>--</td><td>--</td><td>--</td><td>1</td><td>--</td><td>--</td><td>--</td><td>--</td><td>--</td><td>0</td><td>--</td><td>--</td><td>--</td><td>NOT_AVAILABLE</td><td>287.40680019332785</td><td>-0.5791519879336194</td><td>201.7749467067823</td><td>-58.94142625605596</td><td>--</td><td>--</td><td>--</td><td>--</td><td>--</td><td>--</td><td>--</td><td>--</td><td>--</td><td>--</td><td>--</td><td>--</td><td>--</td><td>--</td><td>--</td><td>--</td><td>--</td><td>https://gea.esac.esa.int/data-server/datalink/links?ID=Gaia+DR2+5350363807177551232</td><td></td><td>0.0020015516417143026</td></tr>\n",
       "<tr><td>...</td><td>...</td><td>...</td><td>...</td><td>...</td><td>...</td><td>...</td><td>...</td><td>...</td><td>...</td><td>...</td><td>...</td><td>...</td><td>...</td><td>...</td><td>...</td><td>...</td><td>...</td><td>...</td><td>...</td><td>...</td><td>...</td><td>...</td><td>...</td><td>...</td><td>...</td><td>...</td><td>...</td><td>...</td><td>...</td><td>...</td><td>...</td><td>...</td><td>...</td><td>...</td><td>...</td><td>...</td><td>...</td><td>...</td><td>...</td><td>...</td><td>...</td><td>...</td><td>...</td><td>...</td><td>...</td><td>...</td><td>...</td><td>...</td><td>...</td><td>...</td><td>...</td><td>...</td><td>...</td><td>...</td><td>...</td><td>...</td><td>...</td><td>...</td><td>...</td><td>...</td><td>...</td><td>...</td><td>...</td><td>...</td><td>...</td><td>...</td><td>...</td><td>...</td><td>...</td><td>...</td><td>...</td><td>...</td><td>...</td><td>...</td><td>...</td><td>...</td><td>...</td><td>...</td><td>...</td><td>...</td><td>...</td><td>...</td><td>...</td><td>...</td><td>...</td><td>...</td><td>...</td><td>...</td><td>...</td><td>...</td><td>...</td><td>...</td><td>...</td><td>...</td><td>...</td><td>...</td></tr>\n",
       "<tr><td>1635721458409799680</td><td>Gaia DR2 5350383426582016896</td><td>5350383426582016896</td><td>982271436</td><td>2015.5</td><td>161.17228584435045</td><td>1.1909369904730152</td><td>-59.5630406240419</td><td>1.8258415908269396</td><td>--</td><td>--</td><td>--</td><td>--</td><td>--</td><td>--</td><td>--</td><td>-0.36581466</td><td>--</td><td>--</td><td>--</td><td>--</td><td>--</td><td>--</td><td>--</td><td>--</td><td>--</td><td>122</td><td>0</td><td>122</td><td>0</td><td>12.833056</td><td>441.9488</td><td>7.123808599320238</td><td>19.070334714733324</td><td>3</td><td>False</td><td>0.012101105</td><td>--</td><td>--</td><td>-0.10178709</td><td>14</td><td>9</td><td>3.9763114</td><td>0</td><td>18</td><td>False</td><td>141</td><td>190.53151203371232</td><td>4.973949117643368</td><td>38.30588</td><td>19.98845</td><td>0</td><td>--</td><td>--</td><td>--</td><td>--</td><td>0</td><td>--</td><td>--</td><td>--</td><td>--</td><td>--</td><td>0</td><td>--</td><td>--</td><td>--</td><td>--</td><td>--</td><td>0</td><td>--</td><td>--</td><td>--</td><td>NOT_AVAILABLE</td><td>287.4987414356579</td><td>-0.543999810354695</td><td>201.92150812901454</td><td>-58.87849540800235</td><td>--</td><td>--</td><td>--</td><td>--</td><td>--</td><td>--</td><td>--</td><td>--</td><td>--</td><td>--</td><td>--</td><td>--</td><td>--</td><td>--</td><td>--</td><td>--</td><td>--</td><td>https://gea.esac.esa.int/data-server/datalink/links?ID=Gaia+DR2+5350383426582016896</td><td></td><td>0.0998273286375315</td></tr>\n",
       "<tr><td>1635721458409799680</td><td>Gaia DR2 5350383907625851264</td><td>5350383907625851264</td><td>186230491</td><td>2015.5</td><td>161.169799598307</td><td>0.042173133533367345</td><td>-59.533293456240244</td><td>0.04816589799861022</td><td>1.0042101386956541</td><td>0.0525247223503734</td><td>19.118809</td><td>-13.732449348465227</td><td>0.08628388056352307</td><td>-0.10991105805005941</td><td>0.09060059590278904</td><td>-0.02536156</td><td>-0.25370637</td><td>-0.16150177</td><td>0.18193555</td><td>-0.0015664266</td><td>0.2118666</td><td>0.024831515</td><td>0.07458206</td><td>0.059130754</td><td>-0.09809906</td><td>232</td><td>0</td><td>232</td><td>0</td><td>0.16992131</td><td>229.96674</td><td>0.0</td><td>0.0</td><td>31</td><td>False</td><td>4.749677</td><td>1.5310129810245248</td><td>0.013687883404516698</td><td>-0.023137275</td><td>26</td><td>17</td><td>0.090028666</td><td>0</td><td>31</td><td>False</td><td>266</td><td>4584.052153530788</td><td>7.024838775036204</td><td>652.5491</td><td>16.535242</td><td>28</td><td>4538.858312710535</td><td>42.40112160584556</td><td>107.045715</td><td>16.209023</td><td>28</td><td>6200.71704240654</td><td>32.12540654494998</td><td>193.01599</td><td>15.280815</td><td>2.3428125</td><td>0</td><td>0.9282074</td><td>-0.32621956</td><td>1.254427</td><td>--</td><td>--</td><td>0</td><td>--</td><td>--</td><td>--</td><td>NOT_AVAILABLE</td><td>287.4837192061988</td><td>-0.5182931230629848</td><td>201.87793734706736</td><td>-58.85902603022913</td><td>102011</td><td>5095.6333</td><td>4284.4497</td><td>6938.0</td><td>--</td><td>--</td><td>--</td><td>--</td><td>--</td><td>--</td><td>--</td><td>--</td><td>--</td><td>--</td><td>--</td><td>--</td><td>--</td><td>https://gea.esac.esa.int/data-server/datalink/links?ID=Gaia+DR2+5350383907625851264</td><td></td><td>0.09984202432813816</td></tr>\n",
       "<tr><td>1635721458409799680</td><td>Gaia DR2 5350359718355044608</td><td>5350359718355044608</td><td>1453246916</td><td>2015.5</td><td>161.10721866627063</td><td>2.119563042236483</td><td>-59.626994513673075</td><td>2.129718655314848</td><td>--</td><td>--</td><td>--</td><td>--</td><td>--</td><td>--</td><td>--</td><td>-0.45489293</td><td>--</td><td>--</td><td>--</td><td>--</td><td>--</td><td>--</td><td>--</td><td>--</td><td>--</td><td>65</td><td>0</td><td>65</td><td>0</td><td>24.05932</td><td>893.7608</td><td>9.69175761642967</td><td>72.96827002049717</td><td>3</td><td>False</td><td>0.009500069</td><td>--</td><td>--</td><td>-0.13794492</td><td>8</td><td>7</td><td>8.087206</td><td>0</td><td>11</td><td>False</td><td>98</td><td>356.27852812040004</td><td>6.948653236069659</td><td>51.273033</td><td>19.308891</td><td>0</td><td>--</td><td>--</td><td>--</td><td>--</td><td>0</td><td>--</td><td>--</td><td>--</td><td>--</td><td>--</td><td>0</td><td>--</td><td>--</td><td>--</td><td>--</td><td>--</td><td>0</td><td>--</td><td>--</td><td>--</td><td>NOT_AVAILABLE</td><td>287.49956555805767</td><td>-0.615929463702463</td><td>201.96814559276893</td><td>-58.946279270648624</td><td>--</td><td>--</td><td>--</td><td>--</td><td>--</td><td>--</td><td>--</td><td>--</td><td>--</td><td>--</td><td>--</td><td>--</td><td>--</td><td>--</td><td>--</td><td>--</td><td>--</td><td>https://gea.esac.esa.int/data-server/datalink/links?ID=Gaia+DR2+5350359718355044608</td><td></td><td>0.09985377663962774</td></tr>\n",
       "<tr><td>1635721458409799680</td><td>Gaia DR2 5350387068721819392</td><td>5350387068721819392</td><td>1638063638</td><td>2015.5</td><td>161.1258088108721</td><td>0.24969891301530264</td><td>-59.48721844244958</td><td>0.24501865364846498</td><td>0.6333109921755635</td><td>0.3026868081488292</td><td>2.092298</td><td>-4.390080005595372</td><td>0.5553990674917598</td><td>-0.09055099528880056</td><td>0.49424947211370107</td><td>-0.076184504</td><td>-0.19297355</td><td>0.07339759</td><td>0.08113498</td><td>0.089265384</td><td>0.1419999</td><td>0.10295125</td><td>0.0869286</td><td>0.1601468</td><td>-0.24637237</td><td>258</td><td>0</td><td>257</td><td>1</td><td>4.0467153</td><td>353.36725</td><td>1.3136430256530989</td><td>3.4165395004649284</td><td>31</td><td>False</td><td>0.13566706</td><td>1.4797142320524133</td><td>0.06877673988691649</td><td>0.021646915</td><td>29</td><td>16</td><td>0.521035</td><td>0</td><td>32</td><td>False</td><td>273</td><td>413.3039878017864</td><td>2.1943983109009917</td><td>188.34502</td><td>19.147692</td><td>0</td><td>--</td><td>--</td><td>--</td><td>--</td><td>0</td><td>--</td><td>--</td><td>--</td><td>--</td><td>--</td><td>0</td><td>--</td><td>--</td><td>--</td><td>--</td><td>--</td><td>0</td><td>--</td><td>--</td><td>--</td><td>NOT_AVAILABLE</td><td>287.4424351129283</td><td>-0.48801352145083154</td><td>201.78351804038488</td><td>-58.84366968556627</td><td>--</td><td>--</td><td>--</td><td>--</td><td>--</td><td>--</td><td>--</td><td>--</td><td>--</td><td>--</td><td>--</td><td>--</td><td>--</td><td>--</td><td>--</td><td>--</td><td>--</td><td>https://gea.esac.esa.int/data-server/datalink/links?ID=Gaia+DR2+5350387068721819392</td><td></td><td>0.09985754216473039</td></tr>\n",
       "<tr><td>1635721458409799680</td><td>Gaia DR2 5350359890153761920</td><td>5350359890153761920</td><td>1670616249</td><td>2015.5</td><td>161.14403426262973</td><td>1.698769285373822</td><td>-59.604873846489674</td><td>2.0683984263515716</td><td>--</td><td>--</td><td>--</td><td>--</td><td>--</td><td>--</td><td>--</td><td>-0.2952774</td><td>--</td><td>--</td><td>--</td><td>--</td><td>--</td><td>--</td><td>--</td><td>--</td><td>--</td><td>87</td><td>0</td><td>86</td><td>1</td><td>26.313253</td><td>1085.8</td><td>10.576530379500017</td><td>75.04706624854826</td><td>3</td><td>False</td><td>0.008004509</td><td>--</td><td>--</td><td>-0.040047914</td><td>10</td><td>9</td><td>7.3042965</td><td>0</td><td>11</td><td>True</td><td>91</td><td>351.7668618441857</td><td>8.352058745786897</td><td>42.117382</td><td>19.32273</td><td>0</td><td>--</td><td>--</td><td>--</td><td>--</td><td>0</td><td>--</td><td>--</td><td>--</td><td>--</td><td>--</td><td>0</td><td>--</td><td>--</td><td>--</td><td>--</td><td>--</td><td>0</td><td>--</td><td>--</td><td>--</td><td>NOT_AVAILABLE</td><td>287.5056650505555</td><td>-0.5876651815447836</td><td>201.96156781322085</td><td>-58.9175643495163</td><td>--</td><td>--</td><td>--</td><td>--</td><td>--</td><td>--</td><td>--</td><td>--</td><td>--</td><td>--</td><td>--</td><td>--</td><td>--</td><td>--</td><td>--</td><td>--</td><td>--</td><td>https://gea.esac.esa.int/data-server/datalink/links?ID=Gaia+DR2+5350359890153761920</td><td></td><td>0.09986551563373301</td></tr>\n",
       "<tr><td>1635721458409799680</td><td>Gaia DR2 5350359714047483904</td><td>5350359714047483904</td><td>904763721</td><td>2015.5</td><td>161.1041700443068</td><td>0.18602018286604582</td><td>-59.62835370565422</td><td>0.1840697928800567</td><td>0.29147400011371544</td><td>0.20651244150868567</td><td>1.4114113</td><td>-6.974624065469282</td><td>0.3546350828856135</td><td>3.044572431951517</td><td>0.3339618847242093</td><td>-0.216888</td><td>-0.13426565</td><td>-0.37484258</td><td>0.29303</td><td>0.12102878</td><td>0.33246017</td><td>-0.071919434</td><td>0.23517373</td><td>0.048391383</td><td>-0.15984257</td><td>228</td><td>0</td><td>224</td><td>4</td><td>11.436656</td><td>554.8986</td><td>1.2707963527432211</td><td>11.534992126133998</td><td>31</td><td>False</td><td>0.3131094</td><td>1.3517847243030532</td><td>0.04733683673159495</td><td>0.049454458</td><td>26</td><td>18</td><td>0.3498042</td><td>0</td><td>29</td><td>False</td><td>253</td><td>1104.9886858322084</td><td>7.599187825945305</td><td>145.40878</td><td>18.079971</td><td>0</td><td>--</td><td>--</td><td>--</td><td>--</td><td>0</td><td>--</td><td>--</td><td>--</td><td>--</td><td>--</td><td>0</td><td>--</td><td>--</td><td>--</td><td>--</td><td>--</td><td>0</td><td>--</td><td>--</td><td>--</td><td>NOT_AVAILABLE</td><td>287.4988402806629</td><td>-0.617852341667092</td><td>201.96802443075825</td><td>-58.94833341765468</td><td>--</td><td>--</td><td>--</td><td>--</td><td>--</td><td>--</td><td>--</td><td>--</td><td>--</td><td>--</td><td>--</td><td>--</td><td>--</td><td>--</td><td>--</td><td>--</td><td>--</td><td>https://gea.esac.esa.int/data-server/datalink/links?ID=Gaia+DR2+5350359714047483904</td><td></td><td>0.09986825276167467</td></tr>\n",
       "<tr><td>1635721458409799680</td><td>Gaia DR2 5350388099502296448</td><td>5350388099502296448</td><td>457382750</td><td>2015.5</td><td>161.05360015444313</td><td>0.28749165102494406</td><td>-59.46037982609173</td><td>0.2888592741655469</td><td>0.5675190539111278</td><td>0.35987558118548646</td><td>1.5769868</td><td>-6.81917374060273</td><td>0.6081617913708642</td><td>3.6751336385710096</td><td>0.5623724628534744</td><td>-0.2550998</td><td>-0.26593083</td><td>0.061284695</td><td>-0.002864037</td><td>0.24183162</td><td>0.12527852</td><td>0.1028703</td><td>0.07594276</td><td>0.29084152</td><td>-0.35350826</td><td>187</td><td>0</td><td>187</td><td>0</td><td>0.74755645</td><td>195.93716</td><td>0.0</td><td>0.0</td><td>31</td><td>False</td><td>0.14891829</td><td>1.5306213989882589</td><td>0.08560782602615082</td><td>-0.03135335</td><td>22</td><td>16</td><td>0.6006243</td><td>0</td><td>27</td><td>False</td><td>217</td><td>338.9502017597309</td><td>2.202724109363338</td><td>153.87773</td><td>19.363026</td><td>0</td><td>--</td><td>--</td><td>--</td><td>--</td><td>0</td><td>--</td><td>--</td><td>--</td><td>--</td><td>--</td><td>0</td><td>--</td><td>--</td><td>--</td><td>--</td><td>--</td><td>0</td><td>--</td><td>--</td><td>--</td><td>NOT_AVAILABLE</td><td>287.39745597266517</td><td>-0.48149100888955854</td><td>201.69712856899602</td><td>-58.85193337723761</td><td>--</td><td>--</td><td>--</td><td>--</td><td>--</td><td>--</td><td>--</td><td>--</td><td>--</td><td>--</td><td>--</td><td>--</td><td>--</td><td>--</td><td>--</td><td>--</td><td>--</td><td>https://gea.esac.esa.int/data-server/datalink/links?ID=Gaia+DR2+5350388099502296448</td><td></td><td>0.09987074357803633</td></tr>\n",
       "<tr><td>1635721458409799680</td><td>Gaia DR2 5350388305673116288</td><td>5350388305673116288</td><td>215473165</td><td>2015.5</td><td>160.96441511384</td><td>0.8705953430507222</td><td>-59.45253304314753</td><td>0.9483047615561683</td><td>0.7824875718912229</td><td>1.0740926536709237</td><td>0.7285103</td><td>-7.148253033810053</td><td>1.8549212790276548</td><td>2.4700646489151605</td><td>2.2220250954168557</td><td>0.030732162</td><td>-0.14009024</td><td>-0.3245908</td><td>0.1458771</td><td>0.31289315</td><td>0.16312872</td><td>-0.14549132</td><td>0.033962633</td><td>-0.23911504</td><td>0.33254918</td><td>181</td><td>0</td><td>180</td><td>1</td><td>15.171784</td><td>638.3673</td><td>6.163485933992775</td><td>22.592356192750724</td><td>31</td><td>False</td><td>0.016713312</td><td>1.3746140933090276</td><td>0.23958634854254332</td><td>0.006188044</td><td>21</td><td>13</td><td>2.1062176</td><td>0</td><td>24</td><td>False</td><td>209</td><td>192.16984389562572</td><td>2.3751474098219645</td><td>80.9086</td><td>19.979153</td><td>0</td><td>--</td><td>--</td><td>--</td><td>--</td><td>0</td><td>--</td><td>--</td><td>--</td><td>--</td><td>--</td><td>2</td><td>--</td><td>--</td><td>--</td><td>--</td><td>--</td><td>0</td><td>--</td><td>--</td><td>--</td><td>NOT_AVAILABLE</td><td>287.3537557075797</td><td>-0.49585037440131674</td><td>201.62594128443558</td><td>-58.87951971897788</td><td>--</td><td>--</td><td>--</td><td>--</td><td>--</td><td>--</td><td>--</td><td>--</td><td>--</td><td>--</td><td>--</td><td>--</td><td>--</td><td>--</td><td>--</td><td>--</td><td>--</td><td>https://gea.esac.esa.int/data-server/datalink/links?ID=Gaia+DR2+5350388305673116288</td><td></td><td>0.09990248008332421</td></tr>\n",
       "<tr><td>1635721458409799680</td><td>Gaia DR2 5350399541294797824</td><td>5350399541294797824</td><td>399627895</td><td>2015.5</td><td>160.89873225619115</td><td>0.15710880099188632</td><td>-59.460364714484136</td><td>0.15143992657612323</td><td>0.6304904687626456</td><td>0.1835096949833116</td><td>3.4357338</td><td>-5.4153027927936535</td><td>0.31173449595974323</td><td>2.669778157704161</td><td>0.2882185298684438</td><td>-0.20583388</td><td>-0.20390746</td><td>-0.2697495</td><td>0.24232551</td><td>0.13992131</td><td>0.3053614</td><td>0.0061232783</td><td>0.28439313</td><td>0.13472447</td><td>-0.14777611</td><td>275</td><td>0</td><td>274</td><td>1</td><td>2.9251523</td><td>341.92972</td><td>0.5795674186866255</td><td>1.6109967398208762</td><td>31</td><td>False</td><td>0.35728005</td><td>1.5104875579650872</td><td>0.04186701989332611</td><td>-0.0029460546</td><td>32</td><td>17</td><td>0.2982136</td><td>0</td><td>35</td><td>False</td><td>293</td><td>693.5127319627412</td><td>3.4073091884748132</td><td>203.53677</td><td>18.58573</td><td>0</td><td>--</td><td>--</td><td>--</td><td>--</td><td>0</td><td>--</td><td>--</td><td>--</td><td>--</td><td>--</td><td>0</td><td>--</td><td>--</td><td>--</td><td>--</td><td>--</td><td>0</td><td>--</td><td>--</td><td>--</td><td>NOT_AVAILABLE</td><td>287.32799023642696</td><td>-0.5184716859091483</td><td>201.59265722572178</td><td>-58.90918212949962</td><td>--</td><td>--</td><td>--</td><td>--</td><td>--</td><td>--</td><td>--</td><td>--</td><td>--</td><td>--</td><td>--</td><td>--</td><td>--</td><td>--</td><td>--</td><td>--</td><td>--</td><td>https://gea.esac.esa.int/data-server/datalink/links?ID=Gaia+DR2+5350399541294797824</td><td></td><td>0.0999836841004793</td></tr>\n",
       "<tr><td>1635721458409799680</td><td>Gaia DR2 5350383323503221376</td><td>5350383323503221376</td><td>373684626</td><td>2015.5</td><td>161.1652327919459</td><td>1.344100093656323</td><td>-59.581392396904405</td><td>1.1448163210602962</td><td>1.6697597299193112</td><td>1.5356327794680362</td><td>1.0873431</td><td>-9.99781593555594</td><td>2.2293186341441875</td><td>1.0028033262437357</td><td>2.4333741202304777</td><td>-0.32378814</td><td>-0.55176365</td><td>-0.13902055</td><td>0.14338262</td><td>0.39721593</td><td>0.073136196</td><td>-0.2061774</td><td>0.16824715</td><td>-0.2544696</td><td>-0.18274195</td><td>122</td><td>0</td><td>121</td><td>1</td><td>10.293778</td><td>352.63962</td><td>6.223705944136867</td><td>16.5168151976767</td><td>31</td><td>False</td><td>0.01445492</td><td>1.6823385081996751</td><td>0.3262558859343171</td><td>-0.19566889</td><td>15</td><td>11</td><td>2.322131</td><td>0</td><td>19</td><td>False</td><td>143</td><td>164.03422550300124</td><td>3.4990445246978803</td><td>46.87972</td><td>20.15103</td><td>0</td><td>--</td><td>--</td><td>--</td><td>--</td><td>0</td><td>--</td><td>--</td><td>--</td><td>--</td><td>--</td><td>0</td><td>--</td><td>--</td><td>--</td><td>--</td><td>--</td><td>0</td><td>--</td><td>--</td><td>--</td><td>NOT_AVAILABLE</td><td>287.5041647583872</td><td>-0.5618921911301354</td><td>201.94264819963422</td><td>-58.89366822412055</td><td>--</td><td>--</td><td>--</td><td>--</td><td>--</td><td>--</td><td>--</td><td>--</td><td>--</td><td>--</td><td>--</td><td>--</td><td>--</td><td>--</td><td>--</td><td>--</td><td>--</td><td>https://gea.esac.esa.int/data-server/datalink/links?ID=Gaia+DR2+5350383323503221376</td><td></td><td>0.09998413467128864</td></tr>\n",
       "</table>"
      ],
      "text/plain": [
       "<Table length=5113>\n",
       "    solution_id             designation          ...          dist         \n",
       "                                                 ...                       \n",
       "       int64                   object            ...        float64        \n",
       "------------------- ---------------------------- ... ----------------------\n",
       "1635721458409799680 Gaia DR2 5350363807162597120 ... 0.00025705117541941473\n",
       "1635721458409799680 Gaia DR2 5350363807162600960 ...  0.0006180434944623526\n",
       "1635721458409799680 Gaia DR2 5350363807177544320 ...  0.0006924405653873838\n",
       "1635721458409799680 Gaia DR2 5350363807164774016 ...  0.0007165610533669004\n",
       "1635721458409799680 Gaia DR2 5350363807164774144 ...  0.0007970766719345507\n",
       "1635721458409799680 Gaia DR2 5350363807162596992 ...  0.0008864844044315183\n",
       "1635721458409799680 Gaia DR2 5350363807162597376 ...  0.0009598812391282405\n",
       "1635721458409799680 Gaia DR2 5350363802856907648 ...  0.0014084140145356047\n",
       "1635721458409799680 Gaia DR2 5350363807177551232 ...  0.0020015516417143026\n",
       "                ...                          ... ...                    ...\n",
       "1635721458409799680 Gaia DR2 5350383426582016896 ...     0.0998273286375315\n",
       "1635721458409799680 Gaia DR2 5350383907625851264 ...    0.09984202432813816\n",
       "1635721458409799680 Gaia DR2 5350359718355044608 ...    0.09985377663962774\n",
       "1635721458409799680 Gaia DR2 5350387068721819392 ...    0.09985754216473039\n",
       "1635721458409799680 Gaia DR2 5350359890153761920 ...    0.09986551563373301\n",
       "1635721458409799680 Gaia DR2 5350359714047483904 ...    0.09986825276167467\n",
       "1635721458409799680 Gaia DR2 5350388099502296448 ...    0.09987074357803633\n",
       "1635721458409799680 Gaia DR2 5350388305673116288 ...    0.09990248008332421\n",
       "1635721458409799680 Gaia DR2 5350399541294797824 ...     0.0999836841004793\n",
       "1635721458409799680 Gaia DR2 5350383323503221376 ...    0.09998413467128864"
      ]
     },
     "execution_count": 44,
     "metadata": {},
     "output_type": "execute_result"
    }
   ],
   "source": [
    "gaia_query = Gaia.query_object_async(coordinate=coord, radius=radius)\n",
    "gaia_query"
   ]
  },
  {
   "cell_type": "markdown",
   "metadata": {},
   "source": [
    "This query has returned very large number of columns. We want to pare down the catalog to make it easier to use with `TweakReg`.  \n",
    "We can select only the useful columns via:"
   ]
  },
  {
   "cell_type": "code",
   "execution_count": 45,
   "metadata": {},
   "outputs": [
    {
     "data": {
      "text/html": [
       "<i>Table length=5113</i>\n",
       "<table id=\"table112187329728\" class=\"table-striped table-bordered table-condensed\">\n",
       "<thead><tr><th>ra</th><th>dec</th><th>phot_g_mean_mag</th></tr></thead>\n",
       "<thead><tr><th>deg</th><th>deg</th><th>mag</th></tr></thead>\n",
       "<thead><tr><th>float64</th><th>float64</th><th>float32</th></tr></thead>\n",
       "<tr><td>160.97658959010133</td><td>-59.55249098182289</td><td>18.089645</td></tr>\n",
       "<tr><td>160.9752749195771</td><td>-59.55202940440821</td><td>17.514658</td></tr>\n",
       "<tr><td>160.97760872431365</td><td>-59.552586158621004</td><td>15.9538765</td></tr>\n",
       "<tr><td>160.97701694527396</td><td>-59.55160150571137</td><td>17.963804</td></tr>\n",
       "<tr><td>160.97778474503897</td><td>-59.55185848300624</td><td>16.565895</td></tr>\n",
       "<tr><td>160.9774709254362</td><td>-59.5529562939828</td><td>18.166225</td></tr>\n",
       "<tr><td>160.97684489019733</td><td>-59.55318451232135</td><td>19.178091</td></tr>\n",
       "<tr><td>160.97640633484784</td><td>-59.55084134204515</td><td>13.717369</td></tr>\n",
       "<tr><td>160.9794864988737</td><td>-59.55099177835437</td><td>18.645805</td></tr>\n",
       "<tr><td>...</td><td>...</td><td>...</td></tr>\n",
       "<tr><td>161.17228584435045</td><td>-59.5630406240419</td><td>19.98845</td></tr>\n",
       "<tr><td>161.169799598307</td><td>-59.533293456240244</td><td>16.535242</td></tr>\n",
       "<tr><td>161.10721866627063</td><td>-59.626994513673075</td><td>19.308891</td></tr>\n",
       "<tr><td>161.1258088108721</td><td>-59.48721844244958</td><td>19.147692</td></tr>\n",
       "<tr><td>161.14403426262973</td><td>-59.604873846489674</td><td>19.32273</td></tr>\n",
       "<tr><td>161.1041700443068</td><td>-59.62835370565422</td><td>18.079971</td></tr>\n",
       "<tr><td>161.05360015444313</td><td>-59.46037982609173</td><td>19.363026</td></tr>\n",
       "<tr><td>160.96441511384</td><td>-59.45253304314753</td><td>19.979153</td></tr>\n",
       "<tr><td>160.89873225619115</td><td>-59.460364714484136</td><td>18.58573</td></tr>\n",
       "<tr><td>161.1652327919459</td><td>-59.581392396904405</td><td>20.15103</td></tr>\n",
       "</table>"
      ],
      "text/plain": [
       "<Table length=5113>\n",
       "        ra                 dec         phot_g_mean_mag\n",
       "       deg                 deg               mag      \n",
       "     float64             float64           float32    \n",
       "------------------ ------------------- ---------------\n",
       "160.97658959010133  -59.55249098182289       18.089645\n",
       " 160.9752749195771  -59.55202940440821       17.514658\n",
       "160.97760872431365 -59.552586158621004      15.9538765\n",
       "160.97701694527396  -59.55160150571137       17.963804\n",
       "160.97778474503897  -59.55185848300624       16.565895\n",
       " 160.9774709254362   -59.5529562939828       18.166225\n",
       "160.97684489019733  -59.55318451232135       19.178091\n",
       "160.97640633484784  -59.55084134204515       13.717369\n",
       " 160.9794864988737  -59.55099177835437       18.645805\n",
       "               ...                 ...             ...\n",
       "161.17228584435045   -59.5630406240419        19.98845\n",
       "  161.169799598307 -59.533293456240244       16.535242\n",
       "161.10721866627063 -59.626994513673075       19.308891\n",
       " 161.1258088108721  -59.48721844244958       19.147692\n",
       "161.14403426262973 -59.604873846489674        19.32273\n",
       " 161.1041700443068  -59.62835370565422       18.079971\n",
       "161.05360015444313  -59.46037982609173       19.363026\n",
       "   160.96441511384  -59.45253304314753       19.979153\n",
       "160.89873225619115 -59.460364714484136        18.58573\n",
       " 161.1652327919459 -59.581392396904405        20.15103"
      ]
     },
     "execution_count": 45,
     "metadata": {},
     "output_type": "execute_result"
    }
   ],
   "source": [
    "reduced_query = gaia_query['ra', 'dec', 'phot_g_mean_mag']\n",
    "reduced_query"
   ]
  },
  {
   "cell_type": "markdown",
   "metadata": {},
   "source": [
    "Then we write this catalog to an ascii file for use with `TweakReg`."
   ]
  },
  {
   "cell_type": "code",
   "execution_count": 46,
   "metadata": {},
   "outputs": [],
   "source": [
    "reduced_query.write('gaia.cat', format='ascii.commented_header')"
   ]
  },
  {
   "cell_type": "markdown",
   "metadata": {},
   "source": [
    "## 3. Running TweakReg\n",
    "With the catalogs downloaded and the headers populated, we simply need to run TweakReg with each catalog passed into the `refcat` parameter. The steps below compare the astrometric residuals obtained from aligning to each `refcat`. In each test case, we set `updatehdr` to False until we are satisfied with the alignment by inspecting both the shift file and the astrometric residual plots."
   ]
  },
  {
   "cell_type": "markdown",
   "metadata": {},
   "source": [
    "As we can see, the RMS is fairly large at about 0.5 pixels, which is not a great fit. This is likely because the SDSS astrometric precision is not high enough to get good HST alignment. One approach would be to align the first image to SDSS and then align the remaining HST images to one another. This would improve both the absolute and relative alignment of the individual frames.\n",
    "\n",
    "### 3b. Gaia Alignment"
   ]
  },
  {
   "cell_type": "code",
   "execution_count": 56,
   "metadata": {},
   "outputs": [
    {
     "data": {
      "text/plain": [
       "['../data/tr14/icct01i5q_flt.fits',\n",
       " '../data/tr14/icct02jxq_flt.fits',\n",
       " '../data/tr14/icct02jiq_flt.fits',\n",
       " '../data/tr14/icct02jfq_flt.fits',\n",
       " '../data/tr14/icct02jdq_flt.fits',\n",
       " '../data/tr14/icct02k3q_flt.fits',\n",
       " '../data/tr14/icct01i4q_flt.fits',\n",
       " '../data/tr14/icct02jcq_flt.fits',\n",
       " '../data/tr14/icct01hrq_flt.fits',\n",
       " '../data/tr14/icct02jtq_flt.fits',\n",
       " '../data/tr14/icct02jeq_flt.fits',\n",
       " '../data/tr14/icct01hqq_flt.fits',\n",
       " '../data/tr14/icct02k6q_flt.fits',\n",
       " '../data/tr14/icct01icq_flt.fits',\n",
       " '../data/tr14/icct01i3q_flt.fits',\n",
       " '../data/tr14/icct02k2q_flt.fits',\n",
       " '../data/tr14/icct01hvq_flt.fits',\n",
       " '../data/tr14/icct01hpq_flt.fits',\n",
       " '../data/tr14/icct01i2q_flt.fits',\n",
       " '../data/tr14/icct02jsq_flt.fits',\n",
       " '../data/tr14/icct02jwq_flt.fits',\n",
       " '../data/tr14/icct02j4q_flt.fits',\n",
       " '../data/tr14/icct02k5q_flt.fits',\n",
       " '../data/tr14/icct01i9q_flt.fits',\n",
       " '../data/tr14/icct02k0q_flt.fits',\n",
       " '../data/tr14/icct01hlq_flt.fits',\n",
       " '../data/tr14/icct01hsq_flt.fits',\n",
       " '../data/tr14/icct02k4q_flt.fits',\n",
       " '../data/tr14/icct02jpq_flt.fits',\n",
       " '../data/tr14/icct02jmq_flt.fits',\n",
       " '../data/tr14/icct01i0q_flt.fits',\n",
       " '../data/tr14/icct02j5q_flt.fits',\n",
       " '../data/tr14/icct02joq_flt.fits',\n",
       " '../data/tr14/icct01hyq_flt.fits',\n",
       " '../data/tr14/icct01hnq_flt.fits',\n",
       " '../data/tr14/icct02j3q_flt.fits',\n",
       " '../data/tr14/icct01hkq_flt.fits',\n",
       " '../data/tr14/icct01i1q_flt.fits',\n",
       " '../data/tr14/icct02jnq_flt.fits',\n",
       " '../data/tr14/icct02jlq_flt.fits',\n",
       " '../data/tr14/icct01i7q_flt.fits',\n",
       " '../data/tr14/icct02jhq_flt.fits',\n",
       " '../data/tr14/icct01i6q_flt.fits',\n",
       " '../data/tr14/icct01huq_flt.fits',\n",
       " '../data/tr14/icct02jyq_flt.fits',\n",
       " '../data/tr14/icct01hwq_flt.fits',\n",
       " '../data/tr14/icct01hxq_flt.fits',\n",
       " '../data/tr14/icct01i8q_flt.fits',\n",
       " '../data/tr14/icct02jvq_flt.fits',\n",
       " '../data/tr14/icct01hzq_flt.fits',\n",
       " '../data/tr14/icct02jjq_flt.fits',\n",
       " '../data/tr14/icct02j6q_flt.fits',\n",
       " '../data/tr14/icct02juq_flt.fits',\n",
       " '../data/tr14/icct01ibq_flt.fits',\n",
       " '../data/tr14/icct02jzq_flt.fits',\n",
       " '../data/tr14/icct01idq_flt.fits',\n",
       " '../data/tr14/icct02k1q_flt.fits',\n",
       " '../data/tr14/icct01hmq_flt.fits',\n",
       " '../data/tr14/icct02jrq_flt.fits',\n",
       " '../data/tr14/icct02jkq_flt.fits',\n",
       " '../data/tr14/icct01iaq_flt.fits']"
      ]
     },
     "execution_count": 56,
     "metadata": {},
     "output_type": "execute_result"
    }
   ],
   "source": [
    "from pathlib import Path\n",
    "[(Path(\"../data/tr14/\") / i).as_posix() for i in gb_filter.get_group(filters[0])['FILENAME']]"
   ]
  },
  {
   "cell_type": "code",
   "execution_count": 64,
   "metadata": {
    "jupyter": {
     "source_hidden": true
    },
    "scrolled": true
   },
   "outputs": [
    {
     "name": "stdout",
     "output_type": "stream",
     "text": [
      "Setting up logfile :  tweakreg.log\n",
      "TweakReg Version 1.4.7(18-April-2018) started at: 16:38:02.994 (26/04/2020) \n",
      "\n",
      "Version Information\n",
      "--------------------\n",
      "Python Version [GCC 4.2.1 Compatible Clang 4.0.1 (tags/RELEASE_401/final)]\n",
      "3.6.9 |Anaconda, Inc.| (default, Jul 30 2019, 13:42:17) \n",
      "numpy Version -> 1.18.1 \n",
      "astropy Version -> 4.0.1.post1 \n",
      "stwcs Version -> 1.5.3 \n",
      "\n",
      "Finding shifts for: \n",
      "    /user/jaguilar/tr14/data/tr14/icct02jfq_flt.fits\n",
      "    /user/jaguilar/tr14/data/tr14/icct02jdq_flt.fits\n",
      "    /user/jaguilar/tr14/data/tr14/icct02jcq_flt.fits\n",
      "    /user/jaguilar/tr14/data/tr14/icct01hrq_flt.fits\n",
      "    /user/jaguilar/tr14/data/tr14/icct02jeq_flt.fits\n",
      "    /user/jaguilar/tr14/data/tr14/icct01hqq_flt.fits\n",
      "    /user/jaguilar/tr14/data/tr14/icct01hpq_flt.fits\n",
      "    /user/jaguilar/tr14/data/tr14/icct02j4q_flt.fits\n",
      "    /user/jaguilar/tr14/data/tr14/icct01hlq_flt.fits\n",
      "    /user/jaguilar/tr14/data/tr14/icct01hsq_flt.fits\n",
      "    /user/jaguilar/tr14/data/tr14/icct02j5q_flt.fits\n",
      "    /user/jaguilar/tr14/data/tr14/icct01hnq_flt.fits\n",
      "    /user/jaguilar/tr14/data/tr14/icct02j3q_flt.fits\n",
      "    /user/jaguilar/tr14/data/tr14/icct01hkq_flt.fits\n",
      "    /user/jaguilar/tr14/data/tr14/icct02jhq_flt.fits\n",
      "    /user/jaguilar/tr14/data/tr14/icct01huq_flt.fits\n",
      "    /user/jaguilar/tr14/data/tr14/icct02j6q_flt.fits\n",
      "    /user/jaguilar/tr14/data/tr14/icct01hmq_flt.fits\n",
      "\n",
      "===  Source finding for image '/user/jaguilar/tr14/data/tr14/icct02jfq_flt.fits':\n",
      "  #  Source finding for '/user/jaguilar/tr14/data/tr14/icct02jfq_flt.fits', EXT=('SCI', 1) started at: 16:38:03.385 (26/04/2020)\n",
      "     Found 63 objects.\n",
      "===  FINAL number of objects in image '/user/jaguilar/tr14/data/tr14/icct02jfq_flt.fits': 63\n",
      "\n",
      "===  Source finding for image '/user/jaguilar/tr14/data/tr14/icct02jdq_flt.fits':\n",
      "  #  Source finding for '/user/jaguilar/tr14/data/tr14/icct02jdq_flt.fits', EXT=('SCI', 1) started at: 16:38:03.568 (26/04/2020)\n",
      "     Found 64 objects.\n",
      "===  FINAL number of objects in image '/user/jaguilar/tr14/data/tr14/icct02jdq_flt.fits': 64\n",
      "\n",
      "===  Source finding for image '/user/jaguilar/tr14/data/tr14/icct02jcq_flt.fits':\n",
      "  #  Source finding for '/user/jaguilar/tr14/data/tr14/icct02jcq_flt.fits', EXT=('SCI', 1) started at: 16:38:03.752 (26/04/2020)\n",
      "     Found 61 objects.\n",
      "===  FINAL number of objects in image '/user/jaguilar/tr14/data/tr14/icct02jcq_flt.fits': 61\n",
      "\n",
      "===  Source finding for image '/user/jaguilar/tr14/data/tr14/icct01hrq_flt.fits':\n",
      "  #  Source finding for '/user/jaguilar/tr14/data/tr14/icct01hrq_flt.fits', EXT=('SCI', 1) started at: 16:38:03.93 (26/04/2020)\n",
      "     Found 77 objects.\n",
      "===  FINAL number of objects in image '/user/jaguilar/tr14/data/tr14/icct01hrq_flt.fits': 77\n",
      "\n",
      "===  Source finding for image '/user/jaguilar/tr14/data/tr14/icct02jeq_flt.fits':\n",
      "  #  Source finding for '/user/jaguilar/tr14/data/tr14/icct02jeq_flt.fits', EXT=('SCI', 1) started at: 16:38:04.128 (26/04/2020)\n",
      "     Found 62 objects.\n",
      "===  FINAL number of objects in image '/user/jaguilar/tr14/data/tr14/icct02jeq_flt.fits': 62\n",
      "\n",
      "===  Source finding for image '/user/jaguilar/tr14/data/tr14/icct01hqq_flt.fits':\n",
      "  #  Source finding for '/user/jaguilar/tr14/data/tr14/icct01hqq_flt.fits', EXT=('SCI', 1) started at: 16:38:04.315 (26/04/2020)\n",
      "     Found 80 objects.\n",
      "===  FINAL number of objects in image '/user/jaguilar/tr14/data/tr14/icct01hqq_flt.fits': 80\n",
      "\n",
      "===  Source finding for image '/user/jaguilar/tr14/data/tr14/icct01hpq_flt.fits':\n",
      "  #  Source finding for '/user/jaguilar/tr14/data/tr14/icct01hpq_flt.fits', EXT=('SCI', 1) started at: 16:38:04.508 (26/04/2020)\n",
      "     Found 80 objects.\n",
      "===  FINAL number of objects in image '/user/jaguilar/tr14/data/tr14/icct01hpq_flt.fits': 80\n",
      "\n",
      "===  Source finding for image '/user/jaguilar/tr14/data/tr14/icct02j4q_flt.fits':\n",
      "  #  Source finding for '/user/jaguilar/tr14/data/tr14/icct02j4q_flt.fits', EXT=('SCI', 1) started at: 16:38:04.703 (26/04/2020)\n",
      "     Found 59 objects.\n",
      "===  FINAL number of objects in image '/user/jaguilar/tr14/data/tr14/icct02j4q_flt.fits': 59\n",
      "\n",
      "===  Source finding for image '/user/jaguilar/tr14/data/tr14/icct01hlq_flt.fits':\n",
      "  #  Source finding for '/user/jaguilar/tr14/data/tr14/icct01hlq_flt.fits', EXT=('SCI', 1) started at: 16:38:04.897 (26/04/2020)\n",
      "     Found 82 objects.\n",
      "===  FINAL number of objects in image '/user/jaguilar/tr14/data/tr14/icct01hlq_flt.fits': 82\n",
      "\n",
      "===  Source finding for image '/user/jaguilar/tr14/data/tr14/icct01hsq_flt.fits':\n",
      "  #  Source finding for '/user/jaguilar/tr14/data/tr14/icct01hsq_flt.fits', EXT=('SCI', 1) started at: 16:38:05.083 (26/04/2020)\n",
      "     Found 76 objects.\n",
      "===  FINAL number of objects in image '/user/jaguilar/tr14/data/tr14/icct01hsq_flt.fits': 76\n",
      "\n",
      "===  Source finding for image '/user/jaguilar/tr14/data/tr14/icct02j5q_flt.fits':\n",
      "  #  Source finding for '/user/jaguilar/tr14/data/tr14/icct02j5q_flt.fits', EXT=('SCI', 1) started at: 16:38:05.266 (26/04/2020)\n",
      "     Found 61 objects.\n",
      "===  FINAL number of objects in image '/user/jaguilar/tr14/data/tr14/icct02j5q_flt.fits': 61\n",
      "\n",
      "===  Source finding for image '/user/jaguilar/tr14/data/tr14/icct01hnq_flt.fits':\n",
      "  #  Source finding for '/user/jaguilar/tr14/data/tr14/icct01hnq_flt.fits', EXT=('SCI', 1) started at: 16:38:05.456 (26/04/2020)\n",
      "     Found 83 objects.\n",
      "===  FINAL number of objects in image '/user/jaguilar/tr14/data/tr14/icct01hnq_flt.fits': 83\n",
      "\n",
      "===  Source finding for image '/user/jaguilar/tr14/data/tr14/icct02j3q_flt.fits':\n",
      "  #  Source finding for '/user/jaguilar/tr14/data/tr14/icct02j3q_flt.fits', EXT=('SCI', 1) started at: 16:38:05.648 (26/04/2020)\n",
      "     Found 58 objects.\n",
      "===  FINAL number of objects in image '/user/jaguilar/tr14/data/tr14/icct02j3q_flt.fits': 58\n",
      "\n",
      "===  Source finding for image '/user/jaguilar/tr14/data/tr14/icct01hkq_flt.fits':\n",
      "  #  Source finding for '/user/jaguilar/tr14/data/tr14/icct01hkq_flt.fits', EXT=('SCI', 1) started at: 16:38:05.850 (26/04/2020)\n",
      "     Found 83 objects.\n",
      "===  FINAL number of objects in image '/user/jaguilar/tr14/data/tr14/icct01hkq_flt.fits': 83\n",
      "\n",
      "===  Source finding for image '/user/jaguilar/tr14/data/tr14/icct02jhq_flt.fits':\n",
      "  #  Source finding for '/user/jaguilar/tr14/data/tr14/icct02jhq_flt.fits', EXT=('SCI', 1) started at: 16:38:06.113 (26/04/2020)\n",
      "     Found 58 objects.\n",
      "===  FINAL number of objects in image '/user/jaguilar/tr14/data/tr14/icct02jhq_flt.fits': 58\n",
      "\n",
      "===  Source finding for image '/user/jaguilar/tr14/data/tr14/icct01huq_flt.fits':\n",
      "  #  Source finding for '/user/jaguilar/tr14/data/tr14/icct01huq_flt.fits', EXT=('SCI', 1) started at: 16:38:06.300 (26/04/2020)\n",
      "     Found 81 objects.\n",
      "===  FINAL number of objects in image '/user/jaguilar/tr14/data/tr14/icct01huq_flt.fits': 81\n",
      "\n",
      "===  Source finding for image '/user/jaguilar/tr14/data/tr14/icct02j6q_flt.fits':\n",
      "  #  Source finding for '/user/jaguilar/tr14/data/tr14/icct02j6q_flt.fits', EXT=('SCI', 1) started at: 16:38:06.483 (26/04/2020)\n",
      "     Found 62 objects.\n",
      "===  FINAL number of objects in image '/user/jaguilar/tr14/data/tr14/icct02j6q_flt.fits': 62\n",
      "\n",
      "===  Source finding for image '/user/jaguilar/tr14/data/tr14/icct01hmq_flt.fits':\n",
      "  #  Source finding for '/user/jaguilar/tr14/data/tr14/icct01hmq_flt.fits', EXT=('SCI', 1) started at: 16:38:06.663 (26/04/2020)\n",
      "     Found 76 objects.\n",
      "===  FINAL number of objects in image '/user/jaguilar/tr14/data/tr14/icct01hmq_flt.fits': 76\n",
      "\n",
      "\n",
      "===============================================================\n",
      "Performing alignment in the projection plane defined by the WCS\n",
      "derived from '/user/jaguilar/tr14/data/tr14/icct02jfq_flt.fits'\n",
      "===============================================================\n",
      "\n",
      "\n",
      "====================\n",
      "Performing fit for: /user/jaguilar/tr14/data/tr14/icct02jfq_flt.fits\n",
      "\n",
      "Matching sources from '/user/jaguilar/tr14/data/tr14/icct02jfq_flt.fits' with sources from reference catalog 'gaia.cat'\n",
      "Computing initial guess for X and Y shifts...\n",
      "Trailer file written to:  tweakreg.log\n"
     ]
    },
    {
     "ename": "TypeError",
     "evalue": "object of type <class 'numpy.float64'> cannot be safely interpreted as an integer.",
     "output_type": "error",
     "traceback": [
      "\u001b[0;31m---------------------------------------------------------------------------\u001b[0m",
      "\u001b[0;31mTypeError\u001b[0m                                 Traceback (most recent call last)",
      "\u001b[0;32m~/miniconda3/envs/orbitize/lib/python3.6/site-packages/numpy/core/function_base.py\u001b[0m in \u001b[0;36mlinspace\u001b[0;34m(start, stop, num, endpoint, retstep, dtype, axis)\u001b[0m\n\u001b[1;32m    116\u001b[0m     \u001b[0;32mtry\u001b[0m\u001b[0;34m:\u001b[0m\u001b[0;34m\u001b[0m\u001b[0;34m\u001b[0m\u001b[0m\n\u001b[0;32m--> 117\u001b[0;31m         \u001b[0mnum\u001b[0m \u001b[0;34m=\u001b[0m \u001b[0moperator\u001b[0m\u001b[0;34m.\u001b[0m\u001b[0mindex\u001b[0m\u001b[0;34m(\u001b[0m\u001b[0mnum\u001b[0m\u001b[0;34m)\u001b[0m\u001b[0;34m\u001b[0m\u001b[0;34m\u001b[0m\u001b[0m\n\u001b[0m\u001b[1;32m    118\u001b[0m     \u001b[0;32mexcept\u001b[0m \u001b[0mTypeError\u001b[0m\u001b[0;34m:\u001b[0m\u001b[0;34m\u001b[0m\u001b[0;34m\u001b[0m\u001b[0m\n",
      "\u001b[0;31mTypeError\u001b[0m: 'numpy.float64' object cannot be interpreted as an integer",
      "\nDuring handling of the above exception, another exception occurred:\n",
      "\u001b[0;31mTypeError\u001b[0m                                 Traceback (most recent call last)",
      "\u001b[0;32m~/miniconda3/envs/orbitize/lib/python3.6/site-packages/drizzlepac/util.py\u001b[0m in \u001b[0;36mwrapper\u001b[0;34m(*args, **kwargs)\u001b[0m\n\u001b[1;32m    223\u001b[0m             \u001b[0;31m# finally clause is reached.\u001b[0m\u001b[0;34m\u001b[0m\u001b[0;34m\u001b[0m\u001b[0;34m\u001b[0m\u001b[0m\n\u001b[1;32m    224\u001b[0m             \u001b[0;32mtry\u001b[0m\u001b[0;34m:\u001b[0m\u001b[0;34m\u001b[0m\u001b[0;34m\u001b[0m\u001b[0m\n\u001b[0;32m--> 225\u001b[0;31m                 \u001b[0mresult\u001b[0m \u001b[0;34m=\u001b[0m \u001b[0mfunc\u001b[0m\u001b[0;34m(\u001b[0m\u001b[0;34m*\u001b[0m\u001b[0margs\u001b[0m\u001b[0;34m,\u001b[0m \u001b[0;34m**\u001b[0m\u001b[0mkwargs\u001b[0m\u001b[0;34m)\u001b[0m\u001b[0;34m\u001b[0m\u001b[0;34m\u001b[0m\u001b[0m\n\u001b[0m\u001b[1;32m    226\u001b[0m             \u001b[0;32mexcept\u001b[0m \u001b[0mException\u001b[0m \u001b[0;32mas\u001b[0m \u001b[0me\u001b[0m\u001b[0;34m:\u001b[0m\u001b[0;34m\u001b[0m\u001b[0;34m\u001b[0m\u001b[0m\n\u001b[1;32m    227\u001b[0m                 \u001b[0merrorobj\u001b[0m \u001b[0;34m=\u001b[0m \u001b[0me\u001b[0m\u001b[0;34m\u001b[0m\u001b[0;34m\u001b[0m\u001b[0m\n",
      "\u001b[0;32m~/miniconda3/envs/orbitize/lib/python3.6/site-packages/drizzlepac/tweakreg.py\u001b[0m in \u001b[0;36mrun\u001b[0;34m(configobj)\u001b[0m\n\u001b[1;32m    549\u001b[0m                 \u001b[0mprint\u001b[0m \u001b[0;34m(\u001b[0m\u001b[0;34m'\\n'\u001b[0m\u001b[0;34m+\u001b[0m\u001b[0;34m'='\u001b[0m\u001b[0;34m*\u001b[0m\u001b[0;36m20\u001b[0m\u001b[0;34m)\u001b[0m\u001b[0;34m\u001b[0m\u001b[0;34m\u001b[0m\u001b[0m\n\u001b[1;32m    550\u001b[0m                 \u001b[0mprint\u001b[0m \u001b[0;34m(\u001b[0m\u001b[0;34m'Performing fit for: {}\\n'\u001b[0m\u001b[0;34m.\u001b[0m\u001b[0mformat\u001b[0m\u001b[0;34m(\u001b[0m\u001b[0mimage\u001b[0m\u001b[0;34m.\u001b[0m\u001b[0mname\u001b[0m\u001b[0;34m)\u001b[0m\u001b[0;34m)\u001b[0m\u001b[0;34m\u001b[0m\u001b[0;34m\u001b[0m\u001b[0m\n\u001b[0;32m--> 551\u001b[0;31m                 \u001b[0mimage\u001b[0m\u001b[0;34m.\u001b[0m\u001b[0mmatch\u001b[0m\u001b[0;34m(\u001b[0m\u001b[0mrefimage\u001b[0m\u001b[0;34m,\u001b[0m \u001b[0mquiet_identity\u001b[0m\u001b[0;34m=\u001b[0m\u001b[0;32mFalse\u001b[0m\u001b[0;34m,\u001b[0m \u001b[0;34m**\u001b[0m\u001b[0mobjmatch_par\u001b[0m\u001b[0;34m)\u001b[0m\u001b[0;34m\u001b[0m\u001b[0;34m\u001b[0m\u001b[0m\n\u001b[0m\u001b[1;32m    552\u001b[0m                 \u001b[0;32massert\u001b[0m\u001b[0;34m(\u001b[0m\u001b[0mlen\u001b[0m\u001b[0;34m(\u001b[0m\u001b[0mretry_flags\u001b[0m\u001b[0;34m)\u001b[0m \u001b[0;34m==\u001b[0m \u001b[0mlen\u001b[0m\u001b[0;34m(\u001b[0m\u001b[0minput_images\u001b[0m\u001b[0;34m)\u001b[0m\u001b[0;34m)\u001b[0m\u001b[0;34m\u001b[0m\u001b[0;34m\u001b[0m\u001b[0m\n\u001b[1;32m    553\u001b[0m \u001b[0;34m\u001b[0m\u001b[0m\n",
      "\u001b[0;32m~/miniconda3/envs/orbitize/lib/python3.6/site-packages/drizzlepac/imgclasses.py\u001b[0m in \u001b[0;36mmatch\u001b[0;34m(self, refimage, quiet_identity, **kwargs)\u001b[0m\n\u001b[1;32m    519\u001b[0m                     \u001b[0mself\u001b[0m\u001b[0;34m.\u001b[0m\u001b[0moutxy\u001b[0m\u001b[0;34m,\u001b[0m\u001b[0;34m\u001b[0m\u001b[0;34m\u001b[0m\u001b[0m\n\u001b[1;32m    520\u001b[0m                     \u001b[0mref_outxy\u001b[0m\u001b[0;34m,\u001b[0m\u001b[0;34m\u001b[0m\u001b[0;34m\u001b[0m\u001b[0m\n\u001b[0;32m--> 521\u001b[0;31m                     \u001b[0msearchrad\u001b[0m\u001b[0;34m=\u001b[0m\u001b[0mradius\u001b[0m\u001b[0;34m\u001b[0m\u001b[0;34m\u001b[0m\u001b[0m\n\u001b[0m\u001b[1;32m    522\u001b[0m                 )\n\u001b[1;32m    523\u001b[0m                 \u001b[0mxyoff\u001b[0m \u001b[0;34m=\u001b[0m \u001b[0;34m(\u001b[0m\u001b[0mxsh\u001b[0m\u001b[0;34m,\u001b[0m \u001b[0mysh\u001b[0m\u001b[0;34m)\u001b[0m\u001b[0;34m\u001b[0m\u001b[0;34m\u001b[0m\u001b[0m\n",
      "\u001b[0;32m~/miniconda3/envs/orbitize/lib/python3.6/site-packages/drizzlepac/imgclasses.py\u001b[0m in \u001b[0;36m_estimate_2dhist_shift\u001b[0;34m(imgxy, refxy, searchrad)\u001b[0m\n\u001b[1;32m   1619\u001b[0m \u001b[0;34m\u001b[0m\u001b[0m\n\u001b[1;32m   1620\u001b[0m     \u001b[0;31m# create ZP matrix\u001b[0m\u001b[0;34m\u001b[0m\u001b[0;34m\u001b[0m\u001b[0;34m\u001b[0m\u001b[0m\n\u001b[0;32m-> 1621\u001b[0;31m     \u001b[0mzpmat\u001b[0m \u001b[0;34m=\u001b[0m \u001b[0m_xy_2dhist\u001b[0m\u001b[0;34m(\u001b[0m\u001b[0mimgxy\u001b[0m\u001b[0;34m,\u001b[0m \u001b[0mrefxy\u001b[0m\u001b[0;34m,\u001b[0m \u001b[0mr\u001b[0m\u001b[0;34m=\u001b[0m\u001b[0msearchrad\u001b[0m\u001b[0;34m)\u001b[0m\u001b[0;34m\u001b[0m\u001b[0;34m\u001b[0m\u001b[0m\n\u001b[0m\u001b[1;32m   1622\u001b[0m \u001b[0;34m\u001b[0m\u001b[0m\n\u001b[1;32m   1623\u001b[0m     \u001b[0mnonzeros\u001b[0m \u001b[0;34m=\u001b[0m \u001b[0mnp\u001b[0m\u001b[0;34m.\u001b[0m\u001b[0mcount_nonzero\u001b[0m\u001b[0;34m(\u001b[0m\u001b[0mzpmat\u001b[0m\u001b[0;34m)\u001b[0m\u001b[0;34m\u001b[0m\u001b[0;34m\u001b[0m\u001b[0m\n",
      "\u001b[0;32m~/miniconda3/envs/orbitize/lib/python3.6/site-packages/drizzlepac/imgclasses.py\u001b[0m in \u001b[0;36m_xy_2dhist\u001b[0;34m(imgxy, refxy, r)\u001b[0m\n\u001b[1;32m   1607\u001b[0m                    (dy < r + 0.5) & (dy >= -r - 0.5))\n\u001b[1;32m   1608\u001b[0m     h = np.histogram2d(dx[idx], dy[idx], 2 * r + 1,\n\u001b[0;32m-> 1609\u001b[0;31m                        [[-r - 0.5, r + 0.5], [-r - 0.5, r + 0.5]])\n\u001b[0m\u001b[1;32m   1610\u001b[0m     \u001b[0;32mreturn\u001b[0m \u001b[0mh\u001b[0m\u001b[0;34m[\u001b[0m\u001b[0;36m0\u001b[0m\u001b[0;34m]\u001b[0m\u001b[0;34m.\u001b[0m\u001b[0mT\u001b[0m\u001b[0;34m\u001b[0m\u001b[0;34m\u001b[0m\u001b[0m\n\u001b[1;32m   1611\u001b[0m \u001b[0;34m\u001b[0m\u001b[0m\n",
      "\u001b[0;32m<__array_function__ internals>\u001b[0m in \u001b[0;36mhistogram2d\u001b[0;34m(*args, **kwargs)\u001b[0m\n",
      "\u001b[0;32m~/miniconda3/envs/orbitize/lib/python3.6/site-packages/numpy/lib/twodim_base.py\u001b[0m in \u001b[0;36mhistogram2d\u001b[0;34m(x, y, bins, range, normed, weights, density)\u001b[0m\n\u001b[1;32m    713\u001b[0m         \u001b[0mxedges\u001b[0m \u001b[0;34m=\u001b[0m \u001b[0myedges\u001b[0m \u001b[0;34m=\u001b[0m \u001b[0masarray\u001b[0m\u001b[0;34m(\u001b[0m\u001b[0mbins\u001b[0m\u001b[0;34m)\u001b[0m\u001b[0;34m\u001b[0m\u001b[0;34m\u001b[0m\u001b[0m\n\u001b[1;32m    714\u001b[0m         \u001b[0mbins\u001b[0m \u001b[0;34m=\u001b[0m \u001b[0;34m[\u001b[0m\u001b[0mxedges\u001b[0m\u001b[0;34m,\u001b[0m \u001b[0myedges\u001b[0m\u001b[0;34m]\u001b[0m\u001b[0;34m\u001b[0m\u001b[0;34m\u001b[0m\u001b[0m\n\u001b[0;32m--> 715\u001b[0;31m     \u001b[0mhist\u001b[0m\u001b[0;34m,\u001b[0m \u001b[0medges\u001b[0m \u001b[0;34m=\u001b[0m \u001b[0mhistogramdd\u001b[0m\u001b[0;34m(\u001b[0m\u001b[0;34m[\u001b[0m\u001b[0mx\u001b[0m\u001b[0;34m,\u001b[0m \u001b[0my\u001b[0m\u001b[0;34m]\u001b[0m\u001b[0;34m,\u001b[0m \u001b[0mbins\u001b[0m\u001b[0;34m,\u001b[0m \u001b[0mrange\u001b[0m\u001b[0;34m,\u001b[0m \u001b[0mnormed\u001b[0m\u001b[0;34m,\u001b[0m \u001b[0mweights\u001b[0m\u001b[0;34m,\u001b[0m \u001b[0mdensity\u001b[0m\u001b[0;34m)\u001b[0m\u001b[0;34m\u001b[0m\u001b[0;34m\u001b[0m\u001b[0m\n\u001b[0m\u001b[1;32m    716\u001b[0m     \u001b[0;32mreturn\u001b[0m \u001b[0mhist\u001b[0m\u001b[0;34m,\u001b[0m \u001b[0medges\u001b[0m\u001b[0;34m[\u001b[0m\u001b[0;36m0\u001b[0m\u001b[0;34m]\u001b[0m\u001b[0;34m,\u001b[0m \u001b[0medges\u001b[0m\u001b[0;34m[\u001b[0m\u001b[0;36m1\u001b[0m\u001b[0;34m]\u001b[0m\u001b[0;34m\u001b[0m\u001b[0;34m\u001b[0m\u001b[0m\n\u001b[1;32m    717\u001b[0m \u001b[0;34m\u001b[0m\u001b[0m\n",
      "\u001b[0;32m<__array_function__ internals>\u001b[0m in \u001b[0;36mhistogramdd\u001b[0;34m(*args, **kwargs)\u001b[0m\n",
      "\u001b[0;32m~/miniconda3/envs/orbitize/lib/python3.6/site-packages/numpy/lib/histograms.py\u001b[0m in \u001b[0;36mhistogramdd\u001b[0;34m(sample, bins, range, normed, weights, density)\u001b[0m\n\u001b[1;32m   1051\u001b[0m                     '`bins[{}]` must be positive, when an integer'.format(i))\n\u001b[1;32m   1052\u001b[0m             \u001b[0msmin\u001b[0m\u001b[0;34m,\u001b[0m \u001b[0msmax\u001b[0m \u001b[0;34m=\u001b[0m \u001b[0m_get_outer_edges\u001b[0m\u001b[0;34m(\u001b[0m\u001b[0msample\u001b[0m\u001b[0;34m[\u001b[0m\u001b[0;34m:\u001b[0m\u001b[0;34m,\u001b[0m\u001b[0mi\u001b[0m\u001b[0;34m]\u001b[0m\u001b[0;34m,\u001b[0m \u001b[0mrange\u001b[0m\u001b[0;34m[\u001b[0m\u001b[0mi\u001b[0m\u001b[0;34m]\u001b[0m\u001b[0;34m)\u001b[0m\u001b[0;34m\u001b[0m\u001b[0;34m\u001b[0m\u001b[0m\n\u001b[0;32m-> 1053\u001b[0;31m             \u001b[0medges\u001b[0m\u001b[0;34m[\u001b[0m\u001b[0mi\u001b[0m\u001b[0;34m]\u001b[0m \u001b[0;34m=\u001b[0m \u001b[0mnp\u001b[0m\u001b[0;34m.\u001b[0m\u001b[0mlinspace\u001b[0m\u001b[0;34m(\u001b[0m\u001b[0msmin\u001b[0m\u001b[0;34m,\u001b[0m \u001b[0msmax\u001b[0m\u001b[0;34m,\u001b[0m \u001b[0mbins\u001b[0m\u001b[0;34m[\u001b[0m\u001b[0mi\u001b[0m\u001b[0;34m]\u001b[0m \u001b[0;34m+\u001b[0m \u001b[0;36m1\u001b[0m\u001b[0;34m)\u001b[0m\u001b[0;34m\u001b[0m\u001b[0;34m\u001b[0m\u001b[0m\n\u001b[0m\u001b[1;32m   1054\u001b[0m         \u001b[0;32melif\u001b[0m \u001b[0mnp\u001b[0m\u001b[0;34m.\u001b[0m\u001b[0mndim\u001b[0m\u001b[0;34m(\u001b[0m\u001b[0mbins\u001b[0m\u001b[0;34m[\u001b[0m\u001b[0mi\u001b[0m\u001b[0;34m]\u001b[0m\u001b[0;34m)\u001b[0m \u001b[0;34m==\u001b[0m \u001b[0;36m1\u001b[0m\u001b[0;34m:\u001b[0m\u001b[0;34m\u001b[0m\u001b[0;34m\u001b[0m\u001b[0m\n\u001b[1;32m   1055\u001b[0m             \u001b[0medges\u001b[0m\u001b[0;34m[\u001b[0m\u001b[0mi\u001b[0m\u001b[0;34m]\u001b[0m \u001b[0;34m=\u001b[0m \u001b[0mnp\u001b[0m\u001b[0;34m.\u001b[0m\u001b[0masarray\u001b[0m\u001b[0;34m(\u001b[0m\u001b[0mbins\u001b[0m\u001b[0;34m[\u001b[0m\u001b[0mi\u001b[0m\u001b[0;34m]\u001b[0m\u001b[0;34m)\u001b[0m\u001b[0;34m\u001b[0m\u001b[0;34m\u001b[0m\u001b[0m\n",
      "\u001b[0;32m<__array_function__ internals>\u001b[0m in \u001b[0;36mlinspace\u001b[0;34m(*args, **kwargs)\u001b[0m\n",
      "\u001b[0;32m~/miniconda3/envs/orbitize/lib/python3.6/site-packages/numpy/core/function_base.py\u001b[0m in \u001b[0;36mlinspace\u001b[0;34m(start, stop, num, endpoint, retstep, dtype, axis)\u001b[0m\n\u001b[1;32m    119\u001b[0m         raise TypeError(\n\u001b[1;32m    120\u001b[0m             \u001b[0;34m\"object of type {} cannot be safely interpreted as an integer.\"\u001b[0m\u001b[0;34m\u001b[0m\u001b[0;34m\u001b[0m\u001b[0m\n\u001b[0;32m--> 121\u001b[0;31m                 .format(type(num)))\n\u001b[0m\u001b[1;32m    122\u001b[0m \u001b[0;34m\u001b[0m\u001b[0m\n\u001b[1;32m    123\u001b[0m     \u001b[0;32mif\u001b[0m \u001b[0mnum\u001b[0m \u001b[0;34m<\u001b[0m \u001b[0;36m0\u001b[0m\u001b[0;34m:\u001b[0m\u001b[0;34m\u001b[0m\u001b[0;34m\u001b[0m\u001b[0m\n",
      "\u001b[0;31mTypeError\u001b[0m: object of type <class 'numpy.float64'> cannot be safely interpreted as an integer."
     ]
    },
    {
     "ename": "TypeError",
     "evalue": "object of type <class 'numpy.float64'> cannot be safely interpreted as an integer.",
     "output_type": "error",
     "traceback": [
      "\u001b[0;31m---------------------------------------------------------------------------\u001b[0m",
      "\u001b[0;31mTypeError\u001b[0m                                 Traceback (most recent call last)",
      "\u001b[0;32m~/miniconda3/envs/orbitize/lib/python3.6/site-packages/numpy/core/function_base.py\u001b[0m in \u001b[0;36mlinspace\u001b[0;34m(start, stop, num, endpoint, retstep, dtype, axis)\u001b[0m\n\u001b[1;32m    116\u001b[0m     \u001b[0;32mtry\u001b[0m\u001b[0;34m:\u001b[0m\u001b[0;34m\u001b[0m\u001b[0;34m\u001b[0m\u001b[0m\n\u001b[0;32m--> 117\u001b[0;31m         \u001b[0mnum\u001b[0m \u001b[0;34m=\u001b[0m \u001b[0moperator\u001b[0m\u001b[0;34m.\u001b[0m\u001b[0mindex\u001b[0m\u001b[0;34m(\u001b[0m\u001b[0mnum\u001b[0m\u001b[0;34m)\u001b[0m\u001b[0;34m\u001b[0m\u001b[0;34m\u001b[0m\u001b[0m\n\u001b[0m\u001b[1;32m    118\u001b[0m     \u001b[0;32mexcept\u001b[0m \u001b[0mTypeError\u001b[0m\u001b[0;34m:\u001b[0m\u001b[0;34m\u001b[0m\u001b[0;34m\u001b[0m\u001b[0m\n",
      "\u001b[0;31mTypeError\u001b[0m: 'numpy.float64' object cannot be interpreted as an integer",
      "\nDuring handling of the above exception, another exception occurred:\n",
      "\u001b[0;31mTypeError\u001b[0m                                 Traceback (most recent call last)",
      "\u001b[0;32m<ipython-input-64-617b1ef2c368>\u001b[0m in \u001b[0;36m<module>\u001b[0;34m\u001b[0m\n\u001b[1;32m     15\u001b[0m                   \u001b[0msigma\u001b[0m\u001b[0;34m=\u001b[0m\u001b[0;36m2.3\u001b[0m\u001b[0;34m,\u001b[0m\u001b[0;34m\u001b[0m\u001b[0;34m\u001b[0m\u001b[0m\n\u001b[1;32m     16\u001b[0m                   \u001b[0mylimit\u001b[0m\u001b[0;34m=\u001b[0m\u001b[0;36m0.2\u001b[0m\u001b[0;34m,\u001b[0m\u001b[0;34m\u001b[0m\u001b[0;34m\u001b[0m\u001b[0m\n\u001b[0;32m---> 17\u001b[0;31m                   fitgeometry='general')  # Use the 6 parameter fit\n\u001b[0m",
      "\u001b[0;32m~/miniconda3/envs/orbitize/lib/python3.6/site-packages/drizzlepac/tweakreg.py\u001b[0m in \u001b[0;36mTweakReg\u001b[0;34m(files, editpars, configobj, imagefindcfg, refimagefindcfg, **input_dict)\u001b[0m\n\u001b[1;32m    838\u001b[0m     \u001b[0;32mif\u001b[0m \u001b[0;32mnot\u001b[0m \u001b[0meditpars\u001b[0m\u001b[0;34m:\u001b[0m\u001b[0;34m\u001b[0m\u001b[0;34m\u001b[0m\u001b[0m\n\u001b[1;32m    839\u001b[0m         \u001b[0;31m# Pass full set of parameters on to the task\u001b[0m\u001b[0;34m\u001b[0m\u001b[0;34m\u001b[0m\u001b[0;34m\u001b[0m\u001b[0m\n\u001b[0;32m--> 840\u001b[0;31m         \u001b[0mrun\u001b[0m\u001b[0;34m(\u001b[0m\u001b[0mconfigObj\u001b[0m\u001b[0;34m)\u001b[0m\u001b[0;34m\u001b[0m\u001b[0;34m\u001b[0m\u001b[0m\n\u001b[0m\u001b[1;32m    841\u001b[0m \u001b[0;34m\u001b[0m\u001b[0m\n\u001b[1;32m    842\u001b[0m \u001b[0;34m\u001b[0m\u001b[0m\n",
      "\u001b[0;32m~/miniconda3/envs/orbitize/lib/python3.6/site-packages/drizzlepac/util.py\u001b[0m in \u001b[0;36mwrapper\u001b[0;34m(*args, **kwargs)\u001b[0m\n\u001b[1;32m    237\u001b[0m                     \u001b[0;31m# exception raised)\u001b[0m\u001b[0;34m\u001b[0m\u001b[0;34m\u001b[0m\u001b[0;34m\u001b[0m\u001b[0m\n\u001b[1;32m    238\u001b[0m                     \u001b[0;32mif\u001b[0m \u001b[0merrorobj\u001b[0m\u001b[0;34m:\u001b[0m\u001b[0;34m\u001b[0m\u001b[0;34m\u001b[0m\u001b[0m\n\u001b[0;32m--> 239\u001b[0;31m                         \u001b[0;32mraise\u001b[0m \u001b[0merrorobj\u001b[0m\u001b[0;34m\u001b[0m\u001b[0;34m\u001b[0m\u001b[0m\n\u001b[0m\u001b[1;32m    240\u001b[0m             \u001b[0;32mreturn\u001b[0m \u001b[0mresult\u001b[0m\u001b[0;34m\u001b[0m\u001b[0;34m\u001b[0m\u001b[0m\n\u001b[1;32m    241\u001b[0m \u001b[0;34m\u001b[0m\u001b[0m\n",
      "\u001b[0;32m~/miniconda3/envs/orbitize/lib/python3.6/site-packages/drizzlepac/util.py\u001b[0m in \u001b[0;36mwrapper\u001b[0;34m(*args, **kwargs)\u001b[0m\n\u001b[1;32m    223\u001b[0m             \u001b[0;31m# finally clause is reached.\u001b[0m\u001b[0;34m\u001b[0m\u001b[0;34m\u001b[0m\u001b[0;34m\u001b[0m\u001b[0m\n\u001b[1;32m    224\u001b[0m             \u001b[0;32mtry\u001b[0m\u001b[0;34m:\u001b[0m\u001b[0;34m\u001b[0m\u001b[0;34m\u001b[0m\u001b[0m\n\u001b[0;32m--> 225\u001b[0;31m                 \u001b[0mresult\u001b[0m \u001b[0;34m=\u001b[0m \u001b[0mfunc\u001b[0m\u001b[0;34m(\u001b[0m\u001b[0;34m*\u001b[0m\u001b[0margs\u001b[0m\u001b[0;34m,\u001b[0m \u001b[0;34m**\u001b[0m\u001b[0mkwargs\u001b[0m\u001b[0;34m)\u001b[0m\u001b[0;34m\u001b[0m\u001b[0;34m\u001b[0m\u001b[0m\n\u001b[0m\u001b[1;32m    226\u001b[0m             \u001b[0;32mexcept\u001b[0m \u001b[0mException\u001b[0m \u001b[0;32mas\u001b[0m \u001b[0me\u001b[0m\u001b[0;34m:\u001b[0m\u001b[0;34m\u001b[0m\u001b[0;34m\u001b[0m\u001b[0m\n\u001b[1;32m    227\u001b[0m                 \u001b[0merrorobj\u001b[0m \u001b[0;34m=\u001b[0m \u001b[0me\u001b[0m\u001b[0;34m\u001b[0m\u001b[0;34m\u001b[0m\u001b[0m\n",
      "\u001b[0;32m~/miniconda3/envs/orbitize/lib/python3.6/site-packages/drizzlepac/tweakreg.py\u001b[0m in \u001b[0;36mrun\u001b[0;34m(configobj)\u001b[0m\n\u001b[1;32m    549\u001b[0m                 \u001b[0mprint\u001b[0m \u001b[0;34m(\u001b[0m\u001b[0;34m'\\n'\u001b[0m\u001b[0;34m+\u001b[0m\u001b[0;34m'='\u001b[0m\u001b[0;34m*\u001b[0m\u001b[0;36m20\u001b[0m\u001b[0;34m)\u001b[0m\u001b[0;34m\u001b[0m\u001b[0;34m\u001b[0m\u001b[0m\n\u001b[1;32m    550\u001b[0m                 \u001b[0mprint\u001b[0m \u001b[0;34m(\u001b[0m\u001b[0;34m'Performing fit for: {}\\n'\u001b[0m\u001b[0;34m.\u001b[0m\u001b[0mformat\u001b[0m\u001b[0;34m(\u001b[0m\u001b[0mimage\u001b[0m\u001b[0;34m.\u001b[0m\u001b[0mname\u001b[0m\u001b[0;34m)\u001b[0m\u001b[0;34m)\u001b[0m\u001b[0;34m\u001b[0m\u001b[0;34m\u001b[0m\u001b[0m\n\u001b[0;32m--> 551\u001b[0;31m                 \u001b[0mimage\u001b[0m\u001b[0;34m.\u001b[0m\u001b[0mmatch\u001b[0m\u001b[0;34m(\u001b[0m\u001b[0mrefimage\u001b[0m\u001b[0;34m,\u001b[0m \u001b[0mquiet_identity\u001b[0m\u001b[0;34m=\u001b[0m\u001b[0;32mFalse\u001b[0m\u001b[0;34m,\u001b[0m \u001b[0;34m**\u001b[0m\u001b[0mobjmatch_par\u001b[0m\u001b[0;34m)\u001b[0m\u001b[0;34m\u001b[0m\u001b[0;34m\u001b[0m\u001b[0m\n\u001b[0m\u001b[1;32m    552\u001b[0m                 \u001b[0;32massert\u001b[0m\u001b[0;34m(\u001b[0m\u001b[0mlen\u001b[0m\u001b[0;34m(\u001b[0m\u001b[0mretry_flags\u001b[0m\u001b[0;34m)\u001b[0m \u001b[0;34m==\u001b[0m \u001b[0mlen\u001b[0m\u001b[0;34m(\u001b[0m\u001b[0minput_images\u001b[0m\u001b[0;34m)\u001b[0m\u001b[0;34m)\u001b[0m\u001b[0;34m\u001b[0m\u001b[0;34m\u001b[0m\u001b[0m\n\u001b[1;32m    553\u001b[0m \u001b[0;34m\u001b[0m\u001b[0m\n",
      "\u001b[0;32m~/miniconda3/envs/orbitize/lib/python3.6/site-packages/drizzlepac/imgclasses.py\u001b[0m in \u001b[0;36mmatch\u001b[0;34m(self, refimage, quiet_identity, **kwargs)\u001b[0m\n\u001b[1;32m    519\u001b[0m                     \u001b[0mself\u001b[0m\u001b[0;34m.\u001b[0m\u001b[0moutxy\u001b[0m\u001b[0;34m,\u001b[0m\u001b[0;34m\u001b[0m\u001b[0;34m\u001b[0m\u001b[0m\n\u001b[1;32m    520\u001b[0m                     \u001b[0mref_outxy\u001b[0m\u001b[0;34m,\u001b[0m\u001b[0;34m\u001b[0m\u001b[0;34m\u001b[0m\u001b[0m\n\u001b[0;32m--> 521\u001b[0;31m                     \u001b[0msearchrad\u001b[0m\u001b[0;34m=\u001b[0m\u001b[0mradius\u001b[0m\u001b[0;34m\u001b[0m\u001b[0;34m\u001b[0m\u001b[0m\n\u001b[0m\u001b[1;32m    522\u001b[0m                 )\n\u001b[1;32m    523\u001b[0m                 \u001b[0mxyoff\u001b[0m \u001b[0;34m=\u001b[0m \u001b[0;34m(\u001b[0m\u001b[0mxsh\u001b[0m\u001b[0;34m,\u001b[0m \u001b[0mysh\u001b[0m\u001b[0;34m)\u001b[0m\u001b[0;34m\u001b[0m\u001b[0;34m\u001b[0m\u001b[0m\n",
      "\u001b[0;32m~/miniconda3/envs/orbitize/lib/python3.6/site-packages/drizzlepac/imgclasses.py\u001b[0m in \u001b[0;36m_estimate_2dhist_shift\u001b[0;34m(imgxy, refxy, searchrad)\u001b[0m\n\u001b[1;32m   1619\u001b[0m \u001b[0;34m\u001b[0m\u001b[0m\n\u001b[1;32m   1620\u001b[0m     \u001b[0;31m# create ZP matrix\u001b[0m\u001b[0;34m\u001b[0m\u001b[0;34m\u001b[0m\u001b[0;34m\u001b[0m\u001b[0m\n\u001b[0;32m-> 1621\u001b[0;31m     \u001b[0mzpmat\u001b[0m \u001b[0;34m=\u001b[0m \u001b[0m_xy_2dhist\u001b[0m\u001b[0;34m(\u001b[0m\u001b[0mimgxy\u001b[0m\u001b[0;34m,\u001b[0m \u001b[0mrefxy\u001b[0m\u001b[0;34m,\u001b[0m \u001b[0mr\u001b[0m\u001b[0;34m=\u001b[0m\u001b[0msearchrad\u001b[0m\u001b[0;34m)\u001b[0m\u001b[0;34m\u001b[0m\u001b[0;34m\u001b[0m\u001b[0m\n\u001b[0m\u001b[1;32m   1622\u001b[0m \u001b[0;34m\u001b[0m\u001b[0m\n\u001b[1;32m   1623\u001b[0m     \u001b[0mnonzeros\u001b[0m \u001b[0;34m=\u001b[0m \u001b[0mnp\u001b[0m\u001b[0;34m.\u001b[0m\u001b[0mcount_nonzero\u001b[0m\u001b[0;34m(\u001b[0m\u001b[0mzpmat\u001b[0m\u001b[0;34m)\u001b[0m\u001b[0;34m\u001b[0m\u001b[0;34m\u001b[0m\u001b[0m\n",
      "\u001b[0;32m~/miniconda3/envs/orbitize/lib/python3.6/site-packages/drizzlepac/imgclasses.py\u001b[0m in \u001b[0;36m_xy_2dhist\u001b[0;34m(imgxy, refxy, r)\u001b[0m\n\u001b[1;32m   1607\u001b[0m                    (dy < r + 0.5) & (dy >= -r - 0.5))\n\u001b[1;32m   1608\u001b[0m     h = np.histogram2d(dx[idx], dy[idx], 2 * r + 1,\n\u001b[0;32m-> 1609\u001b[0;31m                        [[-r - 0.5, r + 0.5], [-r - 0.5, r + 0.5]])\n\u001b[0m\u001b[1;32m   1610\u001b[0m     \u001b[0;32mreturn\u001b[0m \u001b[0mh\u001b[0m\u001b[0;34m[\u001b[0m\u001b[0;36m0\u001b[0m\u001b[0;34m]\u001b[0m\u001b[0;34m.\u001b[0m\u001b[0mT\u001b[0m\u001b[0;34m\u001b[0m\u001b[0;34m\u001b[0m\u001b[0m\n\u001b[1;32m   1611\u001b[0m \u001b[0;34m\u001b[0m\u001b[0m\n",
      "\u001b[0;32m<__array_function__ internals>\u001b[0m in \u001b[0;36mhistogram2d\u001b[0;34m(*args, **kwargs)\u001b[0m\n",
      "\u001b[0;32m~/miniconda3/envs/orbitize/lib/python3.6/site-packages/numpy/lib/twodim_base.py\u001b[0m in \u001b[0;36mhistogram2d\u001b[0;34m(x, y, bins, range, normed, weights, density)\u001b[0m\n\u001b[1;32m    713\u001b[0m         \u001b[0mxedges\u001b[0m \u001b[0;34m=\u001b[0m \u001b[0myedges\u001b[0m \u001b[0;34m=\u001b[0m \u001b[0masarray\u001b[0m\u001b[0;34m(\u001b[0m\u001b[0mbins\u001b[0m\u001b[0;34m)\u001b[0m\u001b[0;34m\u001b[0m\u001b[0;34m\u001b[0m\u001b[0m\n\u001b[1;32m    714\u001b[0m         \u001b[0mbins\u001b[0m \u001b[0;34m=\u001b[0m \u001b[0;34m[\u001b[0m\u001b[0mxedges\u001b[0m\u001b[0;34m,\u001b[0m \u001b[0myedges\u001b[0m\u001b[0;34m]\u001b[0m\u001b[0;34m\u001b[0m\u001b[0;34m\u001b[0m\u001b[0m\n\u001b[0;32m--> 715\u001b[0;31m     \u001b[0mhist\u001b[0m\u001b[0;34m,\u001b[0m \u001b[0medges\u001b[0m \u001b[0;34m=\u001b[0m \u001b[0mhistogramdd\u001b[0m\u001b[0;34m(\u001b[0m\u001b[0;34m[\u001b[0m\u001b[0mx\u001b[0m\u001b[0;34m,\u001b[0m \u001b[0my\u001b[0m\u001b[0;34m]\u001b[0m\u001b[0;34m,\u001b[0m \u001b[0mbins\u001b[0m\u001b[0;34m,\u001b[0m \u001b[0mrange\u001b[0m\u001b[0;34m,\u001b[0m \u001b[0mnormed\u001b[0m\u001b[0;34m,\u001b[0m \u001b[0mweights\u001b[0m\u001b[0;34m,\u001b[0m \u001b[0mdensity\u001b[0m\u001b[0;34m)\u001b[0m\u001b[0;34m\u001b[0m\u001b[0;34m\u001b[0m\u001b[0m\n\u001b[0m\u001b[1;32m    716\u001b[0m     \u001b[0;32mreturn\u001b[0m \u001b[0mhist\u001b[0m\u001b[0;34m,\u001b[0m \u001b[0medges\u001b[0m\u001b[0;34m[\u001b[0m\u001b[0;36m0\u001b[0m\u001b[0;34m]\u001b[0m\u001b[0;34m,\u001b[0m \u001b[0medges\u001b[0m\u001b[0;34m[\u001b[0m\u001b[0;36m1\u001b[0m\u001b[0;34m]\u001b[0m\u001b[0;34m\u001b[0m\u001b[0;34m\u001b[0m\u001b[0m\n\u001b[1;32m    717\u001b[0m \u001b[0;34m\u001b[0m\u001b[0m\n",
      "\u001b[0;32m<__array_function__ internals>\u001b[0m in \u001b[0;36mhistogramdd\u001b[0;34m(*args, **kwargs)\u001b[0m\n",
      "\u001b[0;32m~/miniconda3/envs/orbitize/lib/python3.6/site-packages/numpy/lib/histograms.py\u001b[0m in \u001b[0;36mhistogramdd\u001b[0;34m(sample, bins, range, normed, weights, density)\u001b[0m\n\u001b[1;32m   1051\u001b[0m                     '`bins[{}]` must be positive, when an integer'.format(i))\n\u001b[1;32m   1052\u001b[0m             \u001b[0msmin\u001b[0m\u001b[0;34m,\u001b[0m \u001b[0msmax\u001b[0m \u001b[0;34m=\u001b[0m \u001b[0m_get_outer_edges\u001b[0m\u001b[0;34m(\u001b[0m\u001b[0msample\u001b[0m\u001b[0;34m[\u001b[0m\u001b[0;34m:\u001b[0m\u001b[0;34m,\u001b[0m\u001b[0mi\u001b[0m\u001b[0;34m]\u001b[0m\u001b[0;34m,\u001b[0m \u001b[0mrange\u001b[0m\u001b[0;34m[\u001b[0m\u001b[0mi\u001b[0m\u001b[0;34m]\u001b[0m\u001b[0;34m)\u001b[0m\u001b[0;34m\u001b[0m\u001b[0;34m\u001b[0m\u001b[0m\n\u001b[0;32m-> 1053\u001b[0;31m             \u001b[0medges\u001b[0m\u001b[0;34m[\u001b[0m\u001b[0mi\u001b[0m\u001b[0;34m]\u001b[0m \u001b[0;34m=\u001b[0m \u001b[0mnp\u001b[0m\u001b[0;34m.\u001b[0m\u001b[0mlinspace\u001b[0m\u001b[0;34m(\u001b[0m\u001b[0msmin\u001b[0m\u001b[0;34m,\u001b[0m \u001b[0msmax\u001b[0m\u001b[0;34m,\u001b[0m \u001b[0mbins\u001b[0m\u001b[0;34m[\u001b[0m\u001b[0mi\u001b[0m\u001b[0;34m]\u001b[0m \u001b[0;34m+\u001b[0m \u001b[0;36m1\u001b[0m\u001b[0;34m)\u001b[0m\u001b[0;34m\u001b[0m\u001b[0;34m\u001b[0m\u001b[0m\n\u001b[0m\u001b[1;32m   1054\u001b[0m         \u001b[0;32melif\u001b[0m \u001b[0mnp\u001b[0m\u001b[0;34m.\u001b[0m\u001b[0mndim\u001b[0m\u001b[0;34m(\u001b[0m\u001b[0mbins\u001b[0m\u001b[0;34m[\u001b[0m\u001b[0mi\u001b[0m\u001b[0;34m]\u001b[0m\u001b[0;34m)\u001b[0m \u001b[0;34m==\u001b[0m \u001b[0;36m1\u001b[0m\u001b[0;34m:\u001b[0m\u001b[0;34m\u001b[0m\u001b[0;34m\u001b[0m\u001b[0m\n\u001b[1;32m   1055\u001b[0m             \u001b[0medges\u001b[0m\u001b[0;34m[\u001b[0m\u001b[0mi\u001b[0m\u001b[0;34m]\u001b[0m \u001b[0;34m=\u001b[0m \u001b[0mnp\u001b[0m\u001b[0;34m.\u001b[0m\u001b[0masarray\u001b[0m\u001b[0;34m(\u001b[0m\u001b[0mbins\u001b[0m\u001b[0;34m[\u001b[0m\u001b[0mi\u001b[0m\u001b[0;34m]\u001b[0m\u001b[0;34m)\u001b[0m\u001b[0;34m\u001b[0m\u001b[0;34m\u001b[0m\u001b[0m\n",
      "\u001b[0;32m<__array_function__ internals>\u001b[0m in \u001b[0;36mlinspace\u001b[0;34m(*args, **kwargs)\u001b[0m\n",
      "\u001b[0;32m~/miniconda3/envs/orbitize/lib/python3.6/site-packages/numpy/core/function_base.py\u001b[0m in \u001b[0;36mlinspace\u001b[0;34m(start, stop, num, endpoint, retstep, dtype, axis)\u001b[0m\n\u001b[1;32m    119\u001b[0m         raise TypeError(\n\u001b[1;32m    120\u001b[0m             \u001b[0;34m\"object of type {} cannot be safely interpreted as an integer.\"\u001b[0m\u001b[0;34m\u001b[0m\u001b[0;34m\u001b[0m\u001b[0m\n\u001b[0;32m--> 121\u001b[0;31m                 .format(type(num)))\n\u001b[0m\u001b[1;32m    122\u001b[0m \u001b[0;34m\u001b[0m\u001b[0m\n\u001b[1;32m    123\u001b[0m     \u001b[0;32mif\u001b[0m \u001b[0mnum\u001b[0m \u001b[0;34m<\u001b[0m \u001b[0;36m0\u001b[0m\u001b[0;34m:\u001b[0m\u001b[0;34m\u001b[0m\u001b[0;34m\u001b[0m\u001b[0m\n",
      "\u001b[0;31mTypeError\u001b[0m: object of type <class 'numpy.float64'> cannot be safely interpreted as an integer."
     ]
    }
   ],
   "source": [
    "refcat = 'gaia.cat'\n",
    "cw = 3.5  # Set to two times the FWHM of the PSF.\n",
    "wcsname = 'Gaia'  # Specify the WCS name for this alignment\n",
    "\n",
    "tweakreg.TweakReg([(Path(\"../data/tr14/\") / i).as_posix() for i in gb_filter.get_group(filters[0]).query('SUBARRAY == False')['FILENAME']],#'*flc.fits',  # Pass input images\n",
    "                  updatehdr=False,  # update header with new WCS solution\n",
    "                  imagefindcfg={'threshold':500.,'conv_width':cw},  # Detection parameters, threshold varies for different data\n",
    "                  refcat=refcat,  # Use user supplied catalog (Gaia)\n",
    "                  interactive=False,\n",
    "                  see2dplot=False,\n",
    "                  shiftfile=True,  # Save out shift file (so we can look at shifts later)\n",
    "                  outshifts='Gaia_shifts.txt',  # name of the shift file\n",
    "                  wcsname=wcsname,  # Give our WCS a new name\n",
    "                  reusename=True,\n",
    "                  sigma=2.3,\n",
    "                  ylimit=0.2,\n",
    "                  fitgeometry='general')  # Use the 6 parameter fit"
   ]
  },
  {
   "cell_type": "markdown",
   "metadata": {},
   "source": [
    "We can similarly look at the shift file from alignment to the Gaia catalog:"
   ]
  },
  {
   "cell_type": "code",
   "execution_count": 65,
   "metadata": {},
   "outputs": [
    {
     "ename": "FileNotFoundError",
     "evalue": "[Errno 2] No such file or directory: 'Gaia_shifts.txt'",
     "output_type": "error",
     "traceback": [
      "\u001b[0;31m---------------------------------------------------------------------------\u001b[0m",
      "\u001b[0;31mFileNotFoundError\u001b[0m                         Traceback (most recent call last)",
      "\u001b[0;32m<ipython-input-65-4ea55e8aeabb>\u001b[0m in \u001b[0;36m<module>\u001b[0;34m\u001b[0m\n\u001b[0;32m----> 1\u001b[0;31m \u001b[0;32mfor\u001b[0m \u001b[0mline\u001b[0m \u001b[0;32min\u001b[0m \u001b[0mopen\u001b[0m\u001b[0;34m(\u001b[0m\u001b[0;34m'Gaia_shifts.txt'\u001b[0m\u001b[0;34m)\u001b[0m\u001b[0;34m.\u001b[0m\u001b[0mreadlines\u001b[0m\u001b[0;34m(\u001b[0m\u001b[0;34m)\u001b[0m\u001b[0;34m:\u001b[0m\u001b[0;34m\u001b[0m\u001b[0;34m\u001b[0m\u001b[0m\n\u001b[0m\u001b[1;32m      2\u001b[0m     \u001b[0mprint\u001b[0m\u001b[0;34m(\u001b[0m\u001b[0mline\u001b[0m\u001b[0;34m)\u001b[0m\u001b[0;34m\u001b[0m\u001b[0;34m\u001b[0m\u001b[0m\n",
      "\u001b[0;31mFileNotFoundError\u001b[0m: [Errno 2] No such file or directory: 'Gaia_shifts.txt'"
     ]
    }
   ],
   "source": [
    "for line in open('Gaia_shifts.txt').readlines():\n",
    "    print(line)"
   ]
  },
  {
   "cell_type": "code",
   "execution_count": null,
   "metadata": {},
   "outputs": [],
   "source": [
    "# Astrometric residual plots\n",
    "Image(filename='residuals_ibwb01xqq_flc.png',width=500, height=300)"
   ]
  },
  {
   "cell_type": "code",
   "execution_count": null,
   "metadata": {},
   "outputs": [],
   "source": [
    "Image(filename='residuals_ibwb01xrq_flc.png',width=500, height=300)"
   ]
  },
  {
   "cell_type": "code",
   "execution_count": null,
   "metadata": {},
   "outputs": [],
   "source": [
    "Image(filename='residuals_ibwb01xxq_flc.png',width=500, height=300)"
   ]
  },
  {
   "cell_type": "markdown",
   "metadata": {},
   "source": [
    "As expected, the Gaia catalog does quite a bit better, with rms residuals less tha 0.05 pixels.  \n",
    "\n",
    "To apply these transformations to the image, we simply need to run TweakReg the same as before, but set the parameter `updatehdr` equal to `True`:"
   ]
  },
  {
   "cell_type": "code",
   "execution_count": null,
   "metadata": {},
   "outputs": [],
   "source": [
    "refcat = 'gaia.cat'\n",
    "cw = 3.5  # Set to two times the FWHM of the PSF.\n",
    "wcsname = 'Gaia'  # Specify the WCS name for this alignment\n",
    "\n",
    "tweakreg.TweakReg('*flc.fits',  # Pass input images\n",
    "                  updatehdr=True,  # update header with new WCS solution\n",
    "                  imagefindcfg={'threshold': 500., 'conv_width': cw},  # Detection parameters, threshold varies for different data\n",
    "                  refcat=refcat,  # Use user supplied catalog (Gaia)\n",
    "                  interactive=False,\n",
    "                  see2dplot=False,\n",
    "                  shiftfile=True,  # Save out shift file (so we can look at shifts later)\n",
    "                  outshifts='Gaia_shifts.txt',  # name of the shift file\n",
    "                  wcsname=wcsname,  # Give our WCS a new name\n",
    "                  reusename=True,\n",
    "                  sigma=2.3,\n",
    "                  fitgeometry='general')  # Use the 6 parameter fit"
   ]
  },
  {
   "cell_type": "markdown",
   "metadata": {},
   "source": [
    "## 4. Drizzle the Data\n",
    "\n",
    "While the three sets of FLC files are now aligned, we drizzle together only the two long exposures. \n",
    "\n",
    "When exposures are very different lengths, drizzling them together doesn't work well when 'EXP' weighting is used. For objects that saturate in the long exposures, the problem occurs at the boundary where you transition from only short exposure to short plus long. Here the pixels getting power from long exposure pixels are only getting power from pixels whose centers are outside the ring, and thus they are weighted lower than they would be if they were getting values from both inside and outside the ring. The result is a discontinuity in the PSF radial profile and a resulting flux which is too low in those boundary pixels. For photometry of saturated objects, the short exposures should be drizzled separately from the long exposures. "
   ]
  },
  {
   "cell_type": "code",
   "execution_count": null,
   "metadata": {},
   "outputs": [],
   "source": [
    "astrodrizzle.AstroDrizzle('ibwb01x[rx]q_flc.fits', \n",
    "                          output='f606w',\n",
    "                          preserve=False,\n",
    "                          clean=True, \n",
    "                          build=False,\n",
    "                          context=False,\n",
    "                          skymethod='match',\n",
    "                          driz_sep_bits='64, 32',\n",
    "                          combine_type='minmed',\n",
    "                          final_bits='64, 32')"
   ]
  },
  {
   "cell_type": "code",
   "execution_count": null,
   "metadata": {},
   "outputs": [],
   "source": [
    "# Display the combined science and weight images \n",
    "\n",
    "sci = fits.getdata('f606w_drc_sci.fits')\n",
    "wht = fits.getdata('f606w_drc_wht.fits')\n",
    "\n",
    "fig = plt.figure(figsize=(20, 20))\n",
    "ax1 = fig.add_subplot(1, 2, 1)\n",
    "ax2 = fig.add_subplot(1, 2, 2)\n",
    "\n",
    "ax1.imshow(sci, vmin=-0.05, vmax=0.4, cmap='Greys_r', origin='lower')\n",
    "ax2.imshow(wht, vmin=0, vmax=1000, cmap='Greys_r', origin='lower')"
   ]
  },
  {
   "cell_type": "markdown",
   "metadata": {},
   "source": [
    "## Conclusions\n",
    "\n",
    "Many other services have interfaces for querying catalogs which could also be used to align HST images.  In general, Gaia works very well for HST due to it's high precision, but can have a low number of sources in some regions, especially at high galactic latitudes.  Aligning images to an absolute frame provides an easy way to make data comparable across many epochs/detectors/observatories, and in many cases, makes the alignment much easier."
   ]
  },
  {
   "cell_type": "markdown",
   "metadata": {},
   "source": [
    "# About this Notebook\n",
    "\n",
    "    Author: V. Bajaj, STScI WFC3 Team\n",
    "    Updated: December 14, 2018"
   ]
  }
 ],
 "metadata": {
  "kernelspec": {
   "display_name": "Python 3",
   "language": "python",
   "name": "python3"
  },
  "language_info": {
   "codemirror_mode": {
    "name": "ipython",
    "version": 3
   },
   "file_extension": ".py",
   "mimetype": "text/x-python",
   "name": "python",
   "nbconvert_exporter": "python",
   "pygments_lexer": "ipython3",
   "version": "3.6.9"
  }
 },
 "nbformat": 4,
 "nbformat_minor": 4
}
